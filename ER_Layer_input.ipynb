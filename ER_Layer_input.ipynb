{
 "cells": [
  {
   "cell_type": "code",
   "execution_count": 1,
   "metadata": {},
   "outputs": [
    {
     "name": "stdout",
     "output_type": "stream",
     "text": [
      "Welcome to JupyROOT 6.22/01\n"
     ]
    }
   ],
   "source": [
    "import uproot\n",
    "import pandas as pd\n",
    "import matplotlib.pyplot as plt\n",
    "import numpy as np\n",
    "import ROOT\n",
    "import seaborn as sns\n",
    "import tensorflow as tf\n",
    "from sklearn import preprocessing\n",
    "\n",
    "%matplotlib inline\n",
    "%jsroot on"
   ]
  },
  {
   "cell_type": "code",
   "execution_count": 2,
   "metadata": {},
   "outputs": [
    {
     "ename": "KeyboardInterrupt",
     "evalue": "",
     "output_type": "error",
     "traceback": [
      "\u001b[0;31m---------------------------------------------------------------------------\u001b[0m",
      "\u001b[0;31mKeyboardInterrupt\u001b[0m                         Traceback (most recent call last)",
      "\u001b[0;32m<ipython-input-2-bbd07e199e95>\u001b[0m in \u001b[0;36m<module>\u001b[0;34m\u001b[0m\n\u001b[0;32m----> 1\u001b[0;31m \u001b[0mpion_data\u001b[0m \u001b[0;34m=\u001b[0m \u001b[0mpd\u001b[0m\u001b[0;34m.\u001b[0m\u001b[0mread_pickle\u001b[0m\u001b[0;34m(\u001b[0m\u001b[0;34m\"combined_data_pion_shuffled_02.pkl\"\u001b[0m\u001b[0;34m)\u001b[0m\u001b[0;34m\u001b[0m\u001b[0;34m\u001b[0m\u001b[0m\n\u001b[0m\u001b[1;32m      2\u001b[0m \u001b[0mpion_data\u001b[0m\u001b[0;34m\u001b[0m\u001b[0;34m\u001b[0m\u001b[0m\n",
      "\u001b[0;32m~/.local/lib/python3.8/site-packages/pandas/io/pickle.py\u001b[0m in \u001b[0;36mread_pickle\u001b[0;34m(filepath_or_buffer, compression)\u001b[0m\n\u001b[1;32m    180\u001b[0m                 \u001b[0;31m# We want to silence any warnings about, e.g. moved modules.\u001b[0m\u001b[0;34m\u001b[0m\u001b[0;34m\u001b[0m\u001b[0;34m\u001b[0m\u001b[0m\n\u001b[1;32m    181\u001b[0m                 \u001b[0mwarnings\u001b[0m\u001b[0;34m.\u001b[0m\u001b[0msimplefilter\u001b[0m\u001b[0;34m(\u001b[0m\u001b[0;34m\"ignore\"\u001b[0m\u001b[0;34m,\u001b[0m \u001b[0mWarning\u001b[0m\u001b[0;34m)\u001b[0m\u001b[0;34m\u001b[0m\u001b[0;34m\u001b[0m\u001b[0m\n\u001b[0;32m--> 182\u001b[0;31m                 \u001b[0;32mreturn\u001b[0m \u001b[0mpickle\u001b[0m\u001b[0;34m.\u001b[0m\u001b[0mload\u001b[0m\u001b[0;34m(\u001b[0m\u001b[0mf\u001b[0m\u001b[0;34m)\u001b[0m\u001b[0;34m\u001b[0m\u001b[0;34m\u001b[0m\u001b[0m\n\u001b[0m\u001b[1;32m    183\u001b[0m         \u001b[0;32mexcept\u001b[0m \u001b[0mexcs_to_catch\u001b[0m\u001b[0;34m:\u001b[0m\u001b[0;34m\u001b[0m\u001b[0;34m\u001b[0m\u001b[0m\n\u001b[1;32m    184\u001b[0m             \u001b[0;31m# e.g.\u001b[0m\u001b[0;34m\u001b[0m\u001b[0;34m\u001b[0m\u001b[0;34m\u001b[0m\u001b[0m\n",
      "\u001b[0;32m~/.local/lib/python3.8/site-packages/numpy/core/numeric.py\u001b[0m in \u001b[0;36m_frombuffer\u001b[0;34m(buf, dtype, shape, order)\u001b[0m\n\u001b[1;32m   1780\u001b[0m \u001b[0;34m\u001b[0m\u001b[0m\n\u001b[1;32m   1781\u001b[0m \u001b[0;34m\u001b[0m\u001b[0m\n\u001b[0;32m-> 1782\u001b[0;31m \u001b[0;32mdef\u001b[0m \u001b[0m_frombuffer\u001b[0m\u001b[0;34m(\u001b[0m\u001b[0mbuf\u001b[0m\u001b[0;34m,\u001b[0m \u001b[0mdtype\u001b[0m\u001b[0;34m,\u001b[0m \u001b[0mshape\u001b[0m\u001b[0;34m,\u001b[0m \u001b[0morder\u001b[0m\u001b[0;34m)\u001b[0m\u001b[0;34m:\u001b[0m\u001b[0;34m\u001b[0m\u001b[0;34m\u001b[0m\u001b[0m\n\u001b[0m\u001b[1;32m   1783\u001b[0m     \u001b[0;32mreturn\u001b[0m \u001b[0mfrombuffer\u001b[0m\u001b[0;34m(\u001b[0m\u001b[0mbuf\u001b[0m\u001b[0;34m,\u001b[0m \u001b[0mdtype\u001b[0m\u001b[0;34m=\u001b[0m\u001b[0mdtype\u001b[0m\u001b[0;34m)\u001b[0m\u001b[0;34m.\u001b[0m\u001b[0mreshape\u001b[0m\u001b[0;34m(\u001b[0m\u001b[0mshape\u001b[0m\u001b[0;34m,\u001b[0m \u001b[0morder\u001b[0m\u001b[0;34m=\u001b[0m\u001b[0morder\u001b[0m\u001b[0;34m)\u001b[0m\u001b[0;34m\u001b[0m\u001b[0;34m\u001b[0m\u001b[0m\n\u001b[1;32m   1784\u001b[0m \u001b[0;34m\u001b[0m\u001b[0m\n",
      "\u001b[0;31mKeyboardInterrupt\u001b[0m: "
     ]
    }
   ],
   "source": [
    "pion_data = pd.read_pickle(\"combined_data_pion_shuffled_02.pkl\")\n",
    "pion_data"
   ]
  },
  {
   "cell_type": "code",
   "execution_count": 3,
   "metadata": {},
   "outputs": [],
   "source": [
    "positron_data = pd.read_pickle(\"combined_data_positron_shuffled_02.pkl\")\n",
    "#positron_data"
   ]
  },
  {
   "cell_type": "code",
   "execution_count": 4,
   "metadata": {},
   "outputs": [],
   "source": [
    "positron_data.drop(list(positron_data.loc[positron_data.rechit_energy_Hcal_by_Ecal>1000000].index), inplace = True)\n",
    "pion_data.drop(list(pion_data.loc[pion_data.rechit_energy_Hcal_by_Ecal>1000000].index), inplace = True)"
   ]
  },
  {
   "cell_type": "code",
   "execution_count": 5,
   "metadata": {},
   "outputs": [
    {
     "name": "stdout",
     "output_type": "stream",
     "text": [
      "93960.0\n"
     ]
    },
    {
     "data": {
      "text/plain": [
       "99504.0"
      ]
     },
     "execution_count": 5,
     "metadata": {},
     "output_type": "execute_result"
    }
   ],
   "source": [
    "print(117450*.8)\n",
    "124380*.8"
   ]
  },
  {
   "cell_type": "code",
   "execution_count": 6,
   "metadata": {},
   "outputs": [],
   "source": [
    "positron_data.set_index(pd.Index([i for i in range(117410)]), inplace=True)\n",
    "pion_data.set_index(pd.Index([i for i in range(124376)]), inplace=True)"
   ]
  },
  {
   "cell_type": "code",
   "execution_count": 7,
   "metadata": {},
   "outputs": [
    {
     "data": {
      "text/html": [
       "<div>\n",
       "<style scoped>\n",
       "    .dataframe tbody tr th:only-of-type {\n",
       "        vertical-align: middle;\n",
       "    }\n",
       "\n",
       "    .dataframe tbody tr th {\n",
       "        vertical-align: top;\n",
       "    }\n",
       "\n",
       "    .dataframe thead th {\n",
       "        text-align: right;\n",
       "    }\n",
       "</style>\n",
       "<table border=\"1\" class=\"dataframe\">\n",
       "  <thead>\n",
       "    <tr style=\"text-align: right;\">\n",
       "      <th></th>\n",
       "      <th>rechit_energy_layer</th>\n",
       "      <th>beamEnergy</th>\n",
       "    </tr>\n",
       "  </thead>\n",
       "  <tbody>\n",
       "    <tr>\n",
       "      <th>0</th>\n",
       "      <td>[5.48656964302063, 29.740489721298218, 51.1123...</td>\n",
       "      <td>20.0</td>\n",
       "    </tr>\n",
       "    <tr>\n",
       "      <th>1</th>\n",
       "      <td>[15.071453332901001, 62.02698111534119, 140.12...</td>\n",
       "      <td>50.0</td>\n",
       "    </tr>\n",
       "    <tr>\n",
       "      <th>2</th>\n",
       "      <td>[44.926788330078125, 86.39698994159698, 313.95...</td>\n",
       "      <td>200.0</td>\n",
       "    </tr>\n",
       "    <tr>\n",
       "      <th>3</th>\n",
       "      <td>[73.69589388370514, 207.96170350909233, 443.36...</td>\n",
       "      <td>100.0</td>\n",
       "    </tr>\n",
       "    <tr>\n",
       "      <th>4</th>\n",
       "      <td>[11.792863726615906, 49.1063517332077, 172.163...</td>\n",
       "      <td>200.0</td>\n",
       "    </tr>\n",
       "    <tr>\n",
       "      <th>...</th>\n",
       "      <td>...</td>\n",
       "      <td>...</td>\n",
       "    </tr>\n",
       "    <tr>\n",
       "      <th>93956</th>\n",
       "      <td>[19.691016614437103, 90.15830579400063, 194.68...</td>\n",
       "      <td>100.0</td>\n",
       "    </tr>\n",
       "    <tr>\n",
       "      <th>93957</th>\n",
       "      <td>[22.18404859304428, 111.93511259555817, 321.94...</td>\n",
       "      <td>200.0</td>\n",
       "    </tr>\n",
       "    <tr>\n",
       "      <th>93958</th>\n",
       "      <td>[13.174220085144043, 45.518373638391495, 220.8...</td>\n",
       "      <td>20.0</td>\n",
       "    </tr>\n",
       "    <tr>\n",
       "      <th>93959</th>\n",
       "      <td>[38.11557054519653, 130.2393012046814, 206.035...</td>\n",
       "      <td>20.0</td>\n",
       "    </tr>\n",
       "    <tr>\n",
       "      <th>93960</th>\n",
       "      <td>[48.474596083164215, 210.22055506706238, 526.9...</td>\n",
       "      <td>100.0</td>\n",
       "    </tr>\n",
       "  </tbody>\n",
       "</table>\n",
       "<p>93961 rows × 2 columns</p>\n",
       "</div>"
      ],
      "text/plain": [
       "                                     rechit_energy_layer  beamEnergy\n",
       "0      [5.48656964302063, 29.740489721298218, 51.1123...        20.0\n",
       "1      [15.071453332901001, 62.02698111534119, 140.12...        50.0\n",
       "2      [44.926788330078125, 86.39698994159698, 313.95...       200.0\n",
       "3      [73.69589388370514, 207.96170350909233, 443.36...       100.0\n",
       "4      [11.792863726615906, 49.1063517332077, 172.163...       200.0\n",
       "...                                                  ...         ...\n",
       "93956  [19.691016614437103, 90.15830579400063, 194.68...       100.0\n",
       "93957  [22.18404859304428, 111.93511259555817, 321.94...       200.0\n",
       "93958  [13.174220085144043, 45.518373638391495, 220.8...        20.0\n",
       "93959  [38.11557054519653, 130.2393012046814, 206.035...        20.0\n",
       "93960  [48.474596083164215, 210.22055506706238, 526.9...       100.0\n",
       "\n",
       "[93961 rows x 2 columns]"
      ]
     },
     "execution_count": 7,
     "metadata": {},
     "output_type": "execute_result"
    }
   ],
   "source": [
    "xy_positron = positron_data.loc[:93960, [\"rechit_energy_layer\", \"beamEnergy\"]]\n",
    "xy_positron_test = positron_data.loc[93960:, [\"rechit_energy_layer\", \"beamEnergy\"]]\n",
    "xy_positron"
   ]
  },
  {
   "cell_type": "code",
   "execution_count": 8,
   "metadata": {},
   "outputs": [
    {
     "data": {
      "text/html": [
       "<div>\n",
       "<style scoped>\n",
       "    .dataframe tbody tr th:only-of-type {\n",
       "        vertical-align: middle;\n",
       "    }\n",
       "\n",
       "    .dataframe tbody tr th {\n",
       "        vertical-align: top;\n",
       "    }\n",
       "\n",
       "    .dataframe thead th {\n",
       "        text-align: right;\n",
       "    }\n",
       "</style>\n",
       "<table border=\"1\" class=\"dataframe\">\n",
       "  <thead>\n",
       "    <tr style=\"text-align: right;\">\n",
       "      <th></th>\n",
       "      <th>rechit_energy_layer</th>\n",
       "      <th>beamEnergy</th>\n",
       "    </tr>\n",
       "  </thead>\n",
       "  <tbody>\n",
       "    <tr>\n",
       "      <th>0</th>\n",
       "      <td>[2.381936550140381, 2.4305286407470703, 9.5968...</td>\n",
       "      <td>50.0</td>\n",
       "    </tr>\n",
       "    <tr>\n",
       "      <th>1</th>\n",
       "      <td>[1.1058409214019775, 1.1166751384735107, 1.151...</td>\n",
       "      <td>20.0</td>\n",
       "    </tr>\n",
       "    <tr>\n",
       "      <th>2</th>\n",
       "      <td>[0.8060534000396729, 0.97751384973526, 5.12017...</td>\n",
       "      <td>200.0</td>\n",
       "    </tr>\n",
       "    <tr>\n",
       "      <th>3</th>\n",
       "      <td>[1.4067063331604004, 0.9108871221542358, 1.299...</td>\n",
       "      <td>100.0</td>\n",
       "    </tr>\n",
       "    <tr>\n",
       "      <th>4</th>\n",
       "      <td>[1.2860832214355469, 1.9425948858261108, 0.862...</td>\n",
       "      <td>20.0</td>\n",
       "    </tr>\n",
       "    <tr>\n",
       "      <th>...</th>\n",
       "      <td>...</td>\n",
       "      <td>...</td>\n",
       "    </tr>\n",
       "    <tr>\n",
       "      <th>99500</th>\n",
       "      <td>[17.183522939682007, 2.746692419052124, 18.899...</td>\n",
       "      <td>200.0</td>\n",
       "    </tr>\n",
       "    <tr>\n",
       "      <th>99501</th>\n",
       "      <td>[0.8494709730148315, 1.1578880548477173, 1.079...</td>\n",
       "      <td>300.0</td>\n",
       "    </tr>\n",
       "    <tr>\n",
       "      <th>99502</th>\n",
       "      <td>[45.24921703338623, 95.32253250479698, 173.910...</td>\n",
       "      <td>100.0</td>\n",
       "    </tr>\n",
       "    <tr>\n",
       "      <th>99503</th>\n",
       "      <td>[2.768479824066162, 1.800944447517395, 2.15268...</td>\n",
       "      <td>50.0</td>\n",
       "    </tr>\n",
       "    <tr>\n",
       "      <th>99504</th>\n",
       "      <td>[2.8410134315490723, 1.33797287940979, 1.43170...</td>\n",
       "      <td>20.0</td>\n",
       "    </tr>\n",
       "  </tbody>\n",
       "</table>\n",
       "<p>99505 rows × 2 columns</p>\n",
       "</div>"
      ],
      "text/plain": [
       "                                     rechit_energy_layer  beamEnergy\n",
       "0      [2.381936550140381, 2.4305286407470703, 9.5968...        50.0\n",
       "1      [1.1058409214019775, 1.1166751384735107, 1.151...        20.0\n",
       "2      [0.8060534000396729, 0.97751384973526, 5.12017...       200.0\n",
       "3      [1.4067063331604004, 0.9108871221542358, 1.299...       100.0\n",
       "4      [1.2860832214355469, 1.9425948858261108, 0.862...        20.0\n",
       "...                                                  ...         ...\n",
       "99500  [17.183522939682007, 2.746692419052124, 18.899...       200.0\n",
       "99501  [0.8494709730148315, 1.1578880548477173, 1.079...       300.0\n",
       "99502  [45.24921703338623, 95.32253250479698, 173.910...       100.0\n",
       "99503  [2.768479824066162, 1.800944447517395, 2.15268...        50.0\n",
       "99504  [2.8410134315490723, 1.33797287940979, 1.43170...        20.0\n",
       "\n",
       "[99505 rows x 2 columns]"
      ]
     },
     "execution_count": 8,
     "metadata": {},
     "output_type": "execute_result"
    }
   ],
   "source": [
    "xy_pion = pion_data.loc[:99504, [\"rechit_energy_layer\", \"beamEnergy\"]]\n",
    "xy_pion_test = pion_data.loc[99504:, [\"rechit_energy_layer\", \"beamEnergy\", \"trueBeamEnergy\"]]\n",
    "xy_pion"
   ]
  },
  {
   "cell_type": "code",
   "execution_count": 9,
   "metadata": {},
   "outputs": [],
   "source": [
    "#xy = pd.concat([xy_pion, xy_positron])\n",
    "#xy = xy.sample(frac=1)\n",
    "#xy = xy.to_pickle(\"xy_for_training.pkl\")"
   ]
  },
  {
   "cell_type": "code",
   "execution_count": 2,
   "metadata": {},
   "outputs": [
    {
     "data": {
      "text/html": [
       "<div>\n",
       "<style scoped>\n",
       "    .dataframe tbody tr th:only-of-type {\n",
       "        vertical-align: middle;\n",
       "    }\n",
       "\n",
       "    .dataframe tbody tr th {\n",
       "        vertical-align: top;\n",
       "    }\n",
       "\n",
       "    .dataframe thead th {\n",
       "        text-align: right;\n",
       "    }\n",
       "</style>\n",
       "<table border=\"1\" class=\"dataframe\">\n",
       "  <thead>\n",
       "    <tr style=\"text-align: right;\">\n",
       "      <th></th>\n",
       "      <th>rechit_energy_layer</th>\n",
       "      <th>beamEnergy</th>\n",
       "    </tr>\n",
       "  </thead>\n",
       "  <tbody>\n",
       "    <tr>\n",
       "      <th>47975</th>\n",
       "      <td>[26.015280961990356, 105.10461860895157, 331.8...</td>\n",
       "      <td>200.0</td>\n",
       "    </tr>\n",
       "    <tr>\n",
       "      <th>64873</th>\n",
       "      <td>[20.7343929708004, 79.9431083202362, 241.31541...</td>\n",
       "      <td>100.0</td>\n",
       "    </tr>\n",
       "    <tr>\n",
       "      <th>59173</th>\n",
       "      <td>[0.9976387023925781, 1.4756653308868408, 1.601...</td>\n",
       "      <td>100.0</td>\n",
       "    </tr>\n",
       "    <tr>\n",
       "      <th>4308</th>\n",
       "      <td>[1.2935569286346436, 1.03193998336792, 1.30641...</td>\n",
       "      <td>50.0</td>\n",
       "    </tr>\n",
       "    <tr>\n",
       "      <th>42888</th>\n",
       "      <td>[2.626031517982483, 1.0127694606781006, 1.0932...</td>\n",
       "      <td>200.0</td>\n",
       "    </tr>\n",
       "    <tr>\n",
       "      <th>...</th>\n",
       "      <td>...</td>\n",
       "      <td>...</td>\n",
       "    </tr>\n",
       "    <tr>\n",
       "      <th>53320</th>\n",
       "      <td>[47.354044914245605, 71.91613167524338, 93.527...</td>\n",
       "      <td>20.0</td>\n",
       "    </tr>\n",
       "    <tr>\n",
       "      <th>46624</th>\n",
       "      <td>[1.5437191724777222, 0.6717944741249084, 0.894...</td>\n",
       "      <td>200.0</td>\n",
       "    </tr>\n",
       "    <tr>\n",
       "      <th>31454</th>\n",
       "      <td>[60.00403296947479, 292.99281583726406, 741.41...</td>\n",
       "      <td>300.0</td>\n",
       "    </tr>\n",
       "    <tr>\n",
       "      <th>604</th>\n",
       "      <td>[67.27446377277374, 249.73796129226685, 516.06...</td>\n",
       "      <td>300.0</td>\n",
       "    </tr>\n",
       "    <tr>\n",
       "      <th>49535</th>\n",
       "      <td>[1.408852458000183, 1.1690126657485962, 1.5338...</td>\n",
       "      <td>50.0</td>\n",
       "    </tr>\n",
       "  </tbody>\n",
       "</table>\n",
       "<p>193466 rows × 2 columns</p>\n",
       "</div>"
      ],
      "text/plain": [
       "                                     rechit_energy_layer  beamEnergy\n",
       "47975  [26.015280961990356, 105.10461860895157, 331.8...       200.0\n",
       "64873  [20.7343929708004, 79.9431083202362, 241.31541...       100.0\n",
       "59173  [0.9976387023925781, 1.4756653308868408, 1.601...       100.0\n",
       "4308   [1.2935569286346436, 1.03193998336792, 1.30641...        50.0\n",
       "42888  [2.626031517982483, 1.0127694606781006, 1.0932...       200.0\n",
       "...                                                  ...         ...\n",
       "53320  [47.354044914245605, 71.91613167524338, 93.527...        20.0\n",
       "46624  [1.5437191724777222, 0.6717944741249084, 0.894...       200.0\n",
       "31454  [60.00403296947479, 292.99281583726406, 741.41...       300.0\n",
       "604    [67.27446377277374, 249.73796129226685, 516.06...       300.0\n",
       "49535  [1.408852458000183, 1.1690126657485962, 1.5338...        50.0\n",
       "\n",
       "[193466 rows x 2 columns]"
      ]
     },
     "execution_count": 2,
     "metadata": {},
     "output_type": "execute_result"
    }
   ],
   "source": [
    "xy = pd.read_pickle(\"xy_for_training.pkl\")\n",
    "xy"
   ]
  },
  {
   "cell_type": "code",
   "execution_count": 3,
   "metadata": {},
   "outputs": [
    {
     "data": {
      "text/plain": [
       "(193466, 40)"
      ]
     },
     "execution_count": 3,
     "metadata": {},
     "output_type": "execute_result"
    }
   ],
   "source": [
    "X = np.stack(xy.rechit_energy_layer.values)\n",
    "X.shape"
   ]
  },
  {
   "cell_type": "code",
   "execution_count": 4,
   "metadata": {},
   "outputs": [],
   "source": [
    "#X=preprocessing.StandardScaler().fit(X).transform(X)\n",
    "#X"
   ]
  },
  {
   "cell_type": "code",
   "execution_count": 5,
   "metadata": {},
   "outputs": [
    {
     "data": {
      "text/plain": [
       "array([200., 100., 100., ..., 300., 300.,  50.], dtype=float32)"
      ]
     },
     "execution_count": 5,
     "metadata": {},
     "output_type": "execute_result"
    }
   ],
   "source": [
    "Y = xy.beamEnergy.values\n",
    "Y"
   ]
  },
  {
   "cell_type": "code",
   "execution_count": 6,
   "metadata": {},
   "outputs": [
    {
     "name": "stderr",
     "output_type": "stream",
     "text": [
      "Using TensorFlow backend.\n"
     ]
    }
   ],
   "source": [
    "from tensorflow.python import keras\n",
    "import neptune\n",
    "from neptunecontrib.monitoring.keras import NeptuneMonitor\n",
    "from keras.utils.vis_utils import plot_model"
   ]
  },
  {
   "cell_type": "code",
   "execution_count": null,
   "metadata": {},
   "outputs": [],
   "source": [
    "\"\"\"params = {'epochs': 100,\n",
    "          'batch_size': 256,\n",
    "          'lr': 0.01,\n",
    "          'beta_1': 0.9,\n",
    "          'units_per_layer': 1024,\n",
    "          'dropout': 0.01}\"\"\""
   ]
  },
  {
   "cell_type": "code",
   "execution_count": null,
   "metadata": {},
   "outputs": [],
   "source": [
    "batch_size = np.random.randint(128, 1024, 10)\n",
    "lr = np.random.uniform(0.0005, 0.0015, 10)\n",
    "units_per_layer = np.random.randint(512, 2048, 10)\n",
    "dropout = np.random.uniform(0.005, 0.015, 10)\n"
   ]
  },
  {
   "cell_type": "code",
   "execution_count": null,
   "metadata": {
    "scrolled": true
   },
   "outputs": [],
   "source": [
    "train_loss=[]\n",
    "val_loss=[]\n",
    "\n",
    "for i in range(10):\n",
    "\n",
    "    neptune.init(project_qualified_name='nitish-kumar-kv/sandbox',\n",
    "        api_token=\"eyJhcGlfYWRkcmVzcyI6Imh0dHBzOi8vdWkubmVwdHVuZS5haSIsImFwaV91cmwiOiJodHRwczovL3VpLm5lcHR1bmUuYWkiLCJhcGlfa2V5IjoiNGFmN2EzYmItM2I5NS00M2Q1LWFjMDktNDNiMmZlNDYzZWExIn0=\"\n",
    "                )\n",
    "\n",
    "\n",
    "    params = {'epochs': 100,\n",
    "              'batch_size': batch_size[i],\n",
    "              'optimizer':\"adam\",\n",
    "              'activation':\"relu\",\n",
    "              'lr': lr[i],\n",
    "              'units_per_layer': units_per_layer[i],\n",
    "              'num_hidden_layers': 1,\n",
    "              'dropout': dropout[i],\n",
    "              'loss_fuc': \"mse\"}\n",
    "\n",
    "    neptune.create_experiment(name='particle_energy_reconstruction', params=params)\n",
    "    \n",
    "    \n",
    "    \n",
    "    model = keras.models.Sequential([\n",
    "        keras.layers.Dense(params['units_per_layer'], input_shape=[40], activation=keras.activations.relu),\n",
    "        keras.layers.Dropout(params['dropout']),\n",
    "        keras.layers.Dense(1, activation=keras.activations.relu) \n",
    "    ])\n",
    "\n",
    "    optimizer = tf.keras.optimizers.Adam(\n",
    "        learning_rate=params[\"lr\"])\n",
    "\n",
    "    model.compile(optimizer=optimizer,\n",
    "                  loss=tf.keras.losses.MeanSquaredError())\n",
    "    \n",
    "    \n",
    "    \n",
    "    history=model.fit(X, Y,\n",
    "              epochs=params['epochs'],\n",
    "              batch_size=params['batch_size'],\n",
    "              validation_split=0.2,\n",
    "              callbacks=[NeptuneMonitor()])\n",
    "    \n",
    "    l = history.history['loss']\n",
    "    vl = history.history['val_loss']\n",
    "    train_loss.append(l)\n",
    "    val_loss.append(vl)\n",
    "    \n",
    "    print(i+19)"
   ]
  },
  {
   "cell_type": "code",
   "execution_count": 15,
   "metadata": {},
   "outputs": [
    {
     "name": "stdout",
     "output_type": "stream",
     "text": [
      "https://ui.neptune.ai/nitish-kumar-kv/sandbox/e/SAN-39\n",
      "Epoch 1/100\n",
      "  1/324 [..............................] - ETA: 0s - loss: 7361.5898WARNING:tensorflow:Method (on_train_batch_end) is slow compared to the batch update (0.231101). Check your callbacks.\n",
      "324/324 [==============================] - 5s 16ms/step - loss: 1767.2133 - val_loss: 1161.6853\n",
      "Epoch 2/100\n",
      "324/324 [==============================] - 4s 11ms/step - loss: 1066.2134 - val_loss: 1030.2546\n",
      "Epoch 3/100\n",
      "324/324 [==============================] - 4s 11ms/step - loss: 995.3898 - val_loss: 1028.7323\n",
      "Epoch 4/100\n",
      "324/324 [==============================] - 4s 11ms/step - loss: 949.7856 - val_loss: 963.3552\n",
      "Epoch 5/100\n",
      "324/324 [==============================] - 3s 10ms/step - loss: 899.4626 - val_loss: 924.1010\n",
      "Epoch 6/100\n",
      "324/324 [==============================] - 3s 10ms/step - loss: 813.8395 - val_loss: 839.6678\n",
      "Epoch 7/100\n",
      "324/324 [==============================] - 3s 10ms/step - loss: 722.0333 - val_loss: 743.7885\n",
      "Epoch 8/100\n",
      "324/324 [==============================] - 4s 11ms/step - loss: 684.8600 - val_loss: 749.8575\n",
      "Epoch 9/100\n",
      "324/324 [==============================] - 4s 12ms/step - loss: 672.8560 - val_loss: 738.7771\n",
      "Epoch 10/100\n",
      "324/324 [==============================] - 3s 11ms/step - loss: 660.8702 - val_loss: 737.1968\n",
      "Epoch 11/100\n",
      "324/324 [==============================] - 4s 11ms/step - loss: 652.2620 - val_loss: 694.1216\n",
      "Epoch 12/100\n",
      "324/324 [==============================] - 4s 11ms/step - loss: 646.5671 - val_loss: 697.0320\n",
      "Epoch 13/100\n",
      "324/324 [==============================] - 4s 11ms/step - loss: 643.3588 - val_loss: 693.6634\n",
      "Epoch 14/100\n",
      "324/324 [==============================] - 4s 11ms/step - loss: 643.5576 - val_loss: 687.8781\n",
      "Epoch 15/100\n",
      "324/324 [==============================] - 4s 11ms/step - loss: 635.3501 - val_loss: 688.9060\n",
      "Epoch 16/100\n",
      "324/324 [==============================] - 4s 12ms/step - loss: 639.0930 - val_loss: 695.8278\n",
      "Epoch 17/100\n",
      "324/324 [==============================] - 4s 11ms/step - loss: 640.0522 - val_loss: 722.8204\n",
      "Epoch 18/100\n",
      "324/324 [==============================] - 4s 11ms/step - loss: 629.4849 - val_loss: 741.0435\n",
      "Epoch 19/100\n",
      "324/324 [==============================] - 4s 11ms/step - loss: 619.0953 - val_loss: 676.1321\n",
      "Epoch 20/100\n",
      "324/324 [==============================] - 4s 11ms/step - loss: 618.3733 - val_loss: 698.7499\n",
      "Epoch 21/100\n",
      "324/324 [==============================] - 4s 11ms/step - loss: 611.8124 - val_loss: 725.5551\n",
      "Epoch 22/100\n",
      "324/324 [==============================] - 4s 11ms/step - loss: 610.1561 - val_loss: 704.5414\n",
      "Epoch 23/100\n",
      "324/324 [==============================] - 4s 11ms/step - loss: 602.0174 - val_loss: 805.9886\n",
      "Epoch 24/100\n",
      "324/324 [==============================] - 4s 12ms/step - loss: 608.7741 - val_loss: 670.5269\n",
      "Epoch 25/100\n",
      "324/324 [==============================] - 4s 11ms/step - loss: 591.8086 - val_loss: 709.8062\n",
      "Epoch 26/100\n",
      "324/324 [==============================] - 4s 11ms/step - loss: 592.6064 - val_loss: 695.0680\n",
      "Epoch 27/100\n",
      "324/324 [==============================] - 4s 11ms/step - loss: 581.5175 - val_loss: 678.9168\n",
      "Epoch 28/100\n",
      "324/324 [==============================] - 4s 11ms/step - loss: 584.9539 - val_loss: 663.8542\n",
      "Epoch 29/100\n",
      "324/324 [==============================] - 4s 11ms/step - loss: 575.0066 - val_loss: 713.6696\n",
      "Epoch 30/100\n",
      "324/324 [==============================] - 4s 11ms/step - loss: 575.5388 - val_loss: 723.4349\n",
      "Epoch 31/100\n",
      "324/324 [==============================] - 4s 11ms/step - loss: 567.8813 - val_loss: 681.1706\n",
      "Epoch 32/100\n",
      "324/324 [==============================] - 4s 11ms/step - loss: 566.8038 - val_loss: 679.2866\n",
      "Epoch 33/100\n",
      "324/324 [==============================] - 4s 12ms/step - loss: 558.2772 - val_loss: 683.7048\n",
      "Epoch 34/100\n",
      "324/324 [==============================] - 4s 12ms/step - loss: 554.2106 - val_loss: 687.6111\n",
      "Epoch 35/100\n",
      "324/324 [==============================] - 4s 12ms/step - loss: 553.6766 - val_loss: 694.5168\n",
      "Epoch 36/100\n",
      "324/324 [==============================] - 4s 12ms/step - loss: 546.4941 - val_loss: 692.4849\n",
      "Epoch 37/100\n",
      "324/324 [==============================] - 4s 12ms/step - loss: 538.9474 - val_loss: 703.8383\n",
      "Epoch 38/100\n",
      "324/324 [==============================] - 4s 12ms/step - loss: 539.9550 - val_loss: 697.1010\n",
      "Epoch 39/100\n",
      "324/324 [==============================] - 4s 11ms/step - loss: 536.8111 - val_loss: 697.8460\n",
      "Epoch 40/100\n",
      "324/324 [==============================] - 4s 12ms/step - loss: 532.1594 - val_loss: 727.8118\n",
      "Epoch 41/100\n",
      "324/324 [==============================] - 4s 12ms/step - loss: 532.8500 - val_loss: 677.5115\n",
      "Epoch 42/100\n",
      "324/324 [==============================] - 4s 12ms/step - loss: 522.3575 - val_loss: 680.9966\n",
      "Epoch 43/100\n",
      "324/324 [==============================] - 4s 12ms/step - loss: 524.3292 - val_loss: 693.3954\n",
      "Epoch 44/100\n",
      "324/324 [==============================] - 4s 12ms/step - loss: 520.5659 - val_loss: 721.2251\n",
      "Epoch 45/100\n",
      "324/324 [==============================] - 4s 12ms/step - loss: 513.8121 - val_loss: 706.8939\n",
      "Epoch 46/100\n",
      "324/324 [==============================] - 4s 12ms/step - loss: 506.5333 - val_loss: 685.1271\n",
      "Epoch 47/100\n",
      "324/324 [==============================] - 4s 12ms/step - loss: 501.6120 - val_loss: 710.5096\n",
      "Epoch 48/100\n",
      "324/324 [==============================] - 4s 12ms/step - loss: 503.6453 - val_loss: 690.7894\n",
      "Epoch 49/100\n",
      "324/324 [==============================] - 4s 12ms/step - loss: 500.7059 - val_loss: 690.7925\n",
      "Epoch 50/100\n",
      "324/324 [==============================] - 4s 12ms/step - loss: 487.5972 - val_loss: 683.4323\n",
      "Epoch 51/100\n",
      "324/324 [==============================] - 4s 12ms/step - loss: 483.7482 - val_loss: 687.1591\n",
      "Epoch 52/100\n",
      "324/324 [==============================] - 4s 11ms/step - loss: 480.6082 - val_loss: 702.8096\n",
      "Epoch 53/100\n",
      "324/324 [==============================] - 4s 11ms/step - loss: 486.0524 - val_loss: 694.9308\n",
      "Epoch 54/100\n",
      "324/324 [==============================] - 4s 11ms/step - loss: 478.4725 - val_loss: 712.6487\n",
      "Epoch 55/100\n",
      "324/324 [==============================] - 4s 11ms/step - loss: 473.8574 - val_loss: 715.3652\n",
      "Epoch 56/100\n",
      "324/324 [==============================] - 4s 11ms/step - loss: 465.3593 - val_loss: 755.7929\n",
      "Epoch 57/100\n",
      "324/324 [==============================] - 4s 11ms/step - loss: 470.2325 - val_loss: 693.2870\n",
      "Epoch 58/100\n",
      "324/324 [==============================] - 4s 11ms/step - loss: 463.4153 - val_loss: 711.7798\n",
      "Epoch 59/100\n",
      "324/324 [==============================] - 4s 11ms/step - loss: 457.7100 - val_loss: 726.8726\n",
      "Epoch 60/100\n",
      "324/324 [==============================] - 4s 11ms/step - loss: 452.2463 - val_loss: 813.1416\n",
      "Epoch 61/100\n",
      "324/324 [==============================] - 4s 11ms/step - loss: 451.2578 - val_loss: 710.0461\n",
      "Epoch 62/100\n",
      "324/324 [==============================] - 4s 11ms/step - loss: 451.2042 - val_loss: 733.1024\n",
      "Epoch 63/100\n",
      "324/324 [==============================] - 4s 11ms/step - loss: 447.8184 - val_loss: 720.1072\n",
      "Epoch 64/100\n",
      "324/324 [==============================] - 4s 11ms/step - loss: 436.9977 - val_loss: 723.7660\n",
      "Epoch 65/100\n",
      "324/324 [==============================] - 4s 11ms/step - loss: 445.0098 - val_loss: 769.1378\n",
      "Epoch 66/100\n",
      "324/324 [==============================] - 4s 11ms/step - loss: 435.1095 - val_loss: 770.0471\n",
      "Epoch 67/100\n",
      "324/324 [==============================] - 4s 11ms/step - loss: 428.7783 - val_loss: 794.6744\n",
      "Epoch 68/100\n",
      "324/324 [==============================] - 4s 11ms/step - loss: 430.0107 - val_loss: 731.8190\n",
      "Epoch 69/100\n",
      "324/324 [==============================] - 4s 11ms/step - loss: 420.2750 - val_loss: 734.7386\n",
      "Epoch 70/100\n",
      "324/324 [==============================] - 4s 11ms/step - loss: 423.0679 - val_loss: 755.8091\n",
      "Epoch 71/100\n",
      "324/324 [==============================] - 4s 12ms/step - loss: 421.5716 - val_loss: 740.7755\n",
      "Epoch 72/100\n",
      "324/324 [==============================] - 4s 11ms/step - loss: 413.0846 - val_loss: 769.3872\n",
      "Epoch 73/100\n",
      "324/324 [==============================] - 4s 11ms/step - loss: 408.8025 - val_loss: 760.8416\n",
      "Epoch 74/100\n",
      "324/324 [==============================] - 4s 11ms/step - loss: 406.1125 - val_loss: 724.6821\n",
      "Epoch 75/100\n",
      "324/324 [==============================] - 3s 10ms/step - loss: 399.2658 - val_loss: 744.9011\n",
      "Epoch 76/100\n",
      "324/324 [==============================] - 3s 11ms/step - loss: 401.8635 - val_loss: 811.5874\n",
      "Epoch 77/100\n",
      "324/324 [==============================] - 3s 10ms/step - loss: 398.4566 - val_loss: 747.6394\n",
      "Epoch 78/100\n",
      "324/324 [==============================] - 3s 10ms/step - loss: 395.4271 - val_loss: 737.4564\n",
      "Epoch 79/100\n",
      "324/324 [==============================] - 3s 10ms/step - loss: 391.4060 - val_loss: 778.8452\n",
      "Epoch 80/100\n",
      "324/324 [==============================] - 3s 10ms/step - loss: 398.0656 - val_loss: 769.1065\n",
      "Epoch 81/100\n",
      "324/324 [==============================] - 3s 11ms/step - loss: 387.0959 - val_loss: 778.0023\n",
      "Epoch 82/100\n",
      "324/324 [==============================] - 3s 11ms/step - loss: 382.8634 - val_loss: 828.6571\n",
      "Epoch 83/100\n",
      "324/324 [==============================] - 3s 10ms/step - loss: 379.1925 - val_loss: 764.1226\n",
      "Epoch 84/100\n",
      "324/324 [==============================] - 3s 10ms/step - loss: 372.9492 - val_loss: 753.7062\n",
      "Epoch 85/100\n",
      "324/324 [==============================] - 3s 10ms/step - loss: 370.8738 - val_loss: 758.0430\n",
      "Epoch 86/100\n",
      "324/324 [==============================] - 3s 10ms/step - loss: 374.2453 - val_loss: 775.0779\n",
      "Epoch 87/100\n",
      "324/324 [==============================] - 3s 11ms/step - loss: 366.5080 - val_loss: 761.3163\n",
      "Epoch 88/100\n",
      "324/324 [==============================] - 3s 11ms/step - loss: 364.0520 - val_loss: 826.0005\n",
      "Epoch 89/100\n",
      "324/324 [==============================] - 3s 10ms/step - loss: 364.9214 - val_loss: 774.3259\n",
      "Epoch 90/100\n",
      "324/324 [==============================] - 3s 10ms/step - loss: 363.0274 - val_loss: 782.7764\n",
      "Epoch 91/100\n",
      "324/324 [==============================] - 3s 11ms/step - loss: 361.8773 - val_loss: 774.1061\n",
      "Epoch 92/100\n",
      "324/324 [==============================] - 3s 11ms/step - loss: 361.8164 - val_loss: 762.9158\n",
      "Epoch 93/100\n",
      "324/324 [==============================] - 4s 11ms/step - loss: 350.4845 - val_loss: 786.9178\n",
      "Epoch 94/100\n",
      "324/324 [==============================] - 3s 11ms/step - loss: 350.9368 - val_loss: 751.8366\n",
      "Epoch 95/100\n",
      "324/324 [==============================] - 3s 11ms/step - loss: 346.7813 - val_loss: 763.0878\n",
      "Epoch 96/100\n",
      "324/324 [==============================] - 3s 11ms/step - loss: 347.3791 - val_loss: 768.2750\n",
      "Epoch 97/100\n",
      "324/324 [==============================] - 3s 10ms/step - loss: 347.5384 - val_loss: 780.5057\n",
      "Epoch 98/100\n",
      "324/324 [==============================] - 3s 10ms/step - loss: 341.6853 - val_loss: 795.9050\n",
      "Epoch 99/100\n",
      "324/324 [==============================] - 3s 10ms/step - loss: 341.3468 - val_loss: 793.5919\n",
      "Epoch 100/100\n",
      "324/324 [==============================] - 3s 10ms/step - loss: 337.9909 - val_loss: 775.9841\n"
     ]
    },
    {
     "name": "stderr",
     "output_type": "stream",
     "text": [
      "2020-12-05 00:08:43.868394: I tensorflow/stream_executor/platform/default/dso_loader.cc:44] Successfully opened dynamic library libcuda.so.1\n",
      "2020-12-05 00:08:44.372721: I tensorflow/stream_executor/cuda/cuda_gpu_executor.cc:981] successful NUMA node read from SysFS had negative value (-1), but there must be at least one NUMA node, so returning NUMA node zero\n",
      "2020-12-05 00:08:44.374660: I tensorflow/core/common_runtime/gpu/gpu_device.cc:1561] Found device 0 with properties: \n",
      "pciBusID: 0000:01:00.0 name: GeForce GTX 1050 computeCapability: 6.1\n",
      "coreClock: 1.493GHz coreCount: 5 deviceMemorySize: 3.95GiB deviceMemoryBandwidth: 104.43GiB/s\n",
      "2020-12-05 00:08:44.377479: W tensorflow/stream_executor/platform/default/dso_loader.cc:55] Could not load dynamic library 'libcudart.so.10.1'; dlerror: libcudart.so.10.1: cannot open shared object file: No such file or directory; LD_LIBRARY_PATH: /home/nitish/Root/lib:/home/nitish/Root/lib/:\n",
      "2020-12-05 00:08:44.379339: W tensorflow/stream_executor/platform/default/dso_loader.cc:55] Could not load dynamic library 'libcublas.so.10'; dlerror: libcublas.so.10: cannot open shared object file: No such file or directory; LD_LIBRARY_PATH: /home/nitish/Root/lib:/home/nitish/Root/lib/:\n",
      "2020-12-05 00:08:44.379682: W tensorflow/stream_executor/platform/default/dso_loader.cc:55] Could not load dynamic library 'libcufft.so.10'; dlerror: libcufft.so.10: cannot open shared object file: No such file or directory; LD_LIBRARY_PATH: /home/nitish/Root/lib:/home/nitish/Root/lib/:\n",
      "2020-12-05 00:08:44.379999: W tensorflow/stream_executor/platform/default/dso_loader.cc:55] Could not load dynamic library 'libcurand.so.10'; dlerror: libcurand.so.10: cannot open shared object file: No such file or directory; LD_LIBRARY_PATH: /home/nitish/Root/lib:/home/nitish/Root/lib/:\n",
      "2020-12-05 00:08:44.380616: W tensorflow/stream_executor/platform/default/dso_loader.cc:55] Could not load dynamic library 'libcusolver.so.10'; dlerror: libcusolver.so.10: cannot open shared object file: No such file or directory; LD_LIBRARY_PATH: /home/nitish/Root/lib:/home/nitish/Root/lib/:\n",
      "2020-12-05 00:08:44.380946: W tensorflow/stream_executor/platform/default/dso_loader.cc:55] Could not load dynamic library 'libcusparse.so.10'; dlerror: libcusparse.so.10: cannot open shared object file: No such file or directory; LD_LIBRARY_PATH: /home/nitish/Root/lib:/home/nitish/Root/lib/:\n",
      "2020-12-05 00:08:44.382839: W tensorflow/stream_executor/platform/default/dso_loader.cc:55] Could not load dynamic library 'libcudnn.so.7'; dlerror: libcudnn.so.7: cannot open shared object file: No such file or directory; LD_LIBRARY_PATH: /home/nitish/Root/lib:/home/nitish/Root/lib/:\n",
      "2020-12-05 00:08:44.382881: W tensorflow/core/common_runtime/gpu/gpu_device.cc:1598] Cannot dlopen some GPU libraries. Please make sure the missing libraries mentioned above are installed properly if you would like to use GPU. Follow the guide at https://www.tensorflow.org/install/gpu for how to download and setup the required libraries for your platform.\n",
      "Skipping registering GPU devices...\n",
      "2020-12-05 00:08:44.390429: I tensorflow/core/platform/cpu_feature_guard.cc:143] Your CPU supports instructions that this TensorFlow binary was not compiled to use: AVX2 FMA\n",
      "2020-12-05 00:08:45.347373: I tensorflow/core/platform/profile_utils/cpu_utils.cc:102] CPU Frequency: 1800000000 Hz\n",
      "2020-12-05 00:08:45.395534: I tensorflow/compiler/xla/service/service.cc:168] XLA service 0x7fc614000b60 initialized for platform Host (this does not guarantee that XLA will be used). Devices:\n",
      "2020-12-05 00:08:45.395625: I tensorflow/compiler/xla/service/service.cc:176]   StreamExecutor device (0): Host, Default Version\n",
      "2020-12-05 00:08:45.402878: I tensorflow/core/common_runtime/gpu/gpu_device.cc:1102] Device interconnect StreamExecutor with strength 1 edge matrix:\n",
      "2020-12-05 00:08:45.402936: I tensorflow/core/common_runtime/gpu/gpu_device.cc:1108]      \n",
      "2020-12-05 00:08:45.731567: W tensorflow/core/framework/cpu_allocator_impl.cc:81] Allocation of 61909120 exceeds 10% of free system memory.\n",
      "2020-12-05 00:08:45.861732: W tensorflow/core/framework/cpu_allocator_impl.cc:81] Allocation of 55718080 exceeds 10% of free system memory.\n",
      "2020-12-05 00:08:46.020836: W tensorflow/core/framework/cpu_allocator_impl.cc:81] Allocation of 61909120 exceeds 10% of free system memory.\n"
     ]
    }
   ],
   "source": [
    "\n",
    "\n",
    "    neptune.init(project_qualified_name='nitish-kumar-kv/sandbox',\n",
    "        api_token=\"eyJhcGlfYWRkcmVzcyI6Imh0dHBzOi8vdWkubmVwdHVuZS5haSIsImFwaV91cmwiOiJodHRwczovL3VpLm5lcHR1bmUuYWkiLCJhcGlfa2V5IjoiNGFmN2EzYmItM2I5NS00M2Q1LWFjMDktNDNiMmZlNDYzZWExIn0=\"\n",
    "                )\n",
    "\n",
    "\n",
    "    params = {'epochs': 100,\n",
    "              'batch_size': 539,\n",
    "              'optimizer':\"adam\",\n",
    "              'activation':\"relu\",\n",
    "              'lr': 0.000565844,\n",
    "              'units_per_layer': 512,\n",
    "              'num_hidden_layers': 2,\n",
    "              'dropout': 0.02,\n",
    "              'loss_fuc': \"mse\",\n",
    "              'val_splip':0.1}\n",
    "\n",
    "    neptune.create_experiment(name='particle_energy_reconstruction', params=params)\n",
    "    \n",
    "    \n",
    "    \n",
    "    model = keras.models.Sequential([\n",
    "        keras.layers.Dense(params['units_per_layer'], input_shape=[40], activation=keras.activations.relu),\n",
    "        keras.layers.Dropout(params['dropout']),\n",
    "        keras.layers.Dense(params['units_per_layer'], activation=keras.activations.relu),\n",
    "        keras.layers.Dropout(params['dropout']),\n",
    "        keras.layers.Dense(1, activation=keras.activations.relu) \n",
    "    ])\n",
    "\n",
    "    optimizer = tf.keras.optimizers.Adam(\n",
    "        learning_rate=params[\"lr\"])\n",
    "\n",
    "    model.compile(optimizer=optimizer,\n",
    "                  loss=tf.keras.losses.MeanSquaredError())\n",
    "    \n",
    "    \n",
    "    \n",
    "    history=model.fit(X, Y,\n",
    "              epochs=params['epochs'],\n",
    "              batch_size=params['batch_size'],\n",
    "              validation_split=0.1,\n",
    "              callbacks=[NeptuneMonitor()])"
   ]
  },
  {
   "cell_type": "code",
   "execution_count": 26,
   "metadata": {},
   "outputs": [
    {
     "data": {
      "image/png": "[encoded data removed]",
      "text/plain": [
       "<IPython.core.display.Image object>"
      ]
     },
     "execution_count": 26,
     "metadata": {},
     "output_type": "execute_result"
    }
   ],
   "source": [
    "model = keras.models.Sequential([\n",
    "    keras.layers.Dense(512, input_dim=40, activation=keras.activations.relu),\n",
    "    keras.layers.Dropout(0.009),\n",
    "    keras.layers.Dense(1, activation=keras.activations.relu) \n",
    "])\n",
    "\n",
    "optimizer = tf.keras.optimizers.Adam(\n",
    "    learning_rate=0.00056)\n",
    "\n",
    "model.compile(optimizer=optimizer,\n",
    "              loss=tf.keras.losses.MeanSquaredError())\n",
    "\n",
    "tf.keras.utils.plot_model(model, to_file='model_plot.png', show_shapes=True, show_layer_names=False)"
   ]
  },
  {
   "cell_type": "code",
   "execution_count": 28,
   "metadata": {},
   "outputs": [],
   "source": [
    "import pydot"
   ]
  },
  {
   "cell_type": "code",
   "execution_count": null,
   "metadata": {},
   "outputs": [],
   "source": [
    "\"\"\"history=model.fit(X, Y,\n",
    "          epochs=params['epochs'],\n",
    "          batch_size=params['batch_size'],\n",
    "          validation_split=0.2,\n",
    "          callbacks=[NeptuneMonitor()])\"\"\""
   ]
  },
  {
   "cell_type": "code",
   "execution_count": 16,
   "metadata": {},
   "outputs": [
    {
     "data": {
      "image/png": "[encoded data removed]",
      "text/plain": [
       "<Figure size 432x288 with 1 Axes>"
      ]
     },
     "metadata": {
      "needs_background": "light"
     },
     "output_type": "display_data"
    }
   ],
   "source": [
    "n=0\n",
    "#l = train_loss[n]\n",
    "#vl = val_loss[n]\n",
    "\n",
    "l = history.history['loss']\n",
    "vl = history.history['val_loss']\n",
    "\n",
    "epochs = range(1, len(l) + 1)\n",
    "plt.plot(epochs, l, 'y', label='Training loss')\n",
    "plt.plot(epochs, vl, 'r', label='Validation loss')\n",
    "plt.title('Training and validation loss')\n",
    "plt.xlabel('Epochs')\n",
    "plt.ylabel('Loss')\n",
    "plt.legend()\n",
    "plt.show()"
   ]
  },
  {
   "cell_type": "code",
   "execution_count": 20,
   "metadata": {},
   "outputs": [
    {
     "name": "stdout",
     "output_type": "stream",
     "text": [
      "Model: \"sequential_9\"\n",
      "_________________________________________________________________\n",
      "Layer (type)                 Output Shape              Param #   \n",
      "=================================================================\n",
      "dense_19 (Dense)             (None, 512)               20992     \n",
      "_________________________________________________________________\n",
      "dropout_9 (Dropout)          (None, 512)               0         \n",
      "_________________________________________________________________\n",
      "dense_20 (Dense)             (None, 1)                 513       \n",
      "=================================================================\n",
      "Total params: 21,505\n",
      "Trainable params: 21,505\n",
      "Non-trainable params: 0\n",
      "_________________________________________________________________\n"
     ]
    }
   ],
   "source": [
    "model.summary()"
   ]
  },
  {
   "cell_type": "code",
   "execution_count": 18,
   "metadata": {},
   "outputs": [],
   "source": [
    "x_pion_test = np.stack(xy_pion_test.rechit_energy_layer.values)\n",
    "x_positron_test = np.stack(xy_positron_test.rechit_energy_layer.values)"
   ]
  },
  {
   "cell_type": "code",
   "execution_count": 19,
   "metadata": {},
   "outputs": [
    {
     "data": {
      "text/html": [
       "<div>\n",
       "<style scoped>\n",
       "    .dataframe tbody tr th:only-of-type {\n",
       "        vertical-align: middle;\n",
       "    }\n",
       "\n",
       "    .dataframe tbody tr th {\n",
       "        vertical-align: top;\n",
       "    }\n",
       "\n",
       "    .dataframe thead th {\n",
       "        text-align: right;\n",
       "    }\n",
       "</style>\n",
       "<table border=\"1\" class=\"dataframe\">\n",
       "  <thead>\n",
       "    <tr style=\"text-align: right;\">\n",
       "      <th></th>\n",
       "      <th>rechit_energy_layer</th>\n",
       "      <th>beamEnergy</th>\n",
       "      <th>trueBeamEnergy</th>\n",
       "      <th>pred_energy</th>\n",
       "    </tr>\n",
       "  </thead>\n",
       "  <tbody>\n",
       "    <tr>\n",
       "      <th>99504</th>\n",
       "      <td>[2.8410134315490723, 1.33797287940979, 1.43170...</td>\n",
       "      <td>20.0</td>\n",
       "      <td>19.889193</td>\n",
       "      <td>15.970251</td>\n",
       "    </tr>\n",
       "    <tr>\n",
       "      <th>99505</th>\n",
       "      <td>[0.6647481322288513, 2.8174188137054443, 2.225...</td>\n",
       "      <td>300.0</td>\n",
       "      <td>302.439880</td>\n",
       "      <td>267.620239</td>\n",
       "    </tr>\n",
       "    <tr>\n",
       "      <th>99506</th>\n",
       "      <td>[1.3266353607177734, 1.0852224826812744, 0.949...</td>\n",
       "      <td>50.0</td>\n",
       "      <td>50.156723</td>\n",
       "      <td>47.028805</td>\n",
       "    </tr>\n",
       "    <tr>\n",
       "      <th>99507</th>\n",
       "      <td>[1.2607249021530151, 0.9402479529380798, 1.845...</td>\n",
       "      <td>100.0</td>\n",
       "      <td>99.060066</td>\n",
       "      <td>87.635277</td>\n",
       "    </tr>\n",
       "    <tr>\n",
       "      <th>99508</th>\n",
       "      <td>[0.7270526885986328, 2.224700450897217, 2.4738...</td>\n",
       "      <td>100.0</td>\n",
       "      <td>100.693108</td>\n",
       "      <td>98.094978</td>\n",
       "    </tr>\n",
       "    <tr>\n",
       "      <th>...</th>\n",
       "      <td>...</td>\n",
       "      <td>...</td>\n",
       "      <td>...</td>\n",
       "      <td>...</td>\n",
       "    </tr>\n",
       "    <tr>\n",
       "      <th>124371</th>\n",
       "      <td>[1.3581607341766357, 0.8177338242530823, 0.625...</td>\n",
       "      <td>300.0</td>\n",
       "      <td>298.845581</td>\n",
       "      <td>269.486389</td>\n",
       "    </tr>\n",
       "    <tr>\n",
       "      <th>124372</th>\n",
       "      <td>[0.890269935131073, 3.9279664158821106, 4.9102...</td>\n",
       "      <td>100.0</td>\n",
       "      <td>100.154640</td>\n",
       "      <td>98.843025</td>\n",
       "    </tr>\n",
       "    <tr>\n",
       "      <th>124373</th>\n",
       "      <td>[1.2927695512771606, 1.2073720693588257, 1.366...</td>\n",
       "      <td>50.0</td>\n",
       "      <td>49.806194</td>\n",
       "      <td>143.750076</td>\n",
       "    </tr>\n",
       "    <tr>\n",
       "      <th>124374</th>\n",
       "      <td>[1.2978936433792114, 1.3454351425170898, 1.276...</td>\n",
       "      <td>20.0</td>\n",
       "      <td>20.142143</td>\n",
       "      <td>27.611027</td>\n",
       "    </tr>\n",
       "    <tr>\n",
       "      <th>124375</th>\n",
       "      <td>[0.8119217753410339, 1.9831839799880981, 0.838...</td>\n",
       "      <td>100.0</td>\n",
       "      <td>100.037560</td>\n",
       "      <td>83.770622</td>\n",
       "    </tr>\n",
       "  </tbody>\n",
       "</table>\n",
       "<p>24872 rows × 4 columns</p>\n",
       "</div>"
      ],
      "text/plain": [
       "                                      rechit_energy_layer  beamEnergy  \\\n",
       "99504   [2.8410134315490723, 1.33797287940979, 1.43170...        20.0   \n",
       "99505   [0.6647481322288513, 2.8174188137054443, 2.225...       300.0   \n",
       "99506   [1.3266353607177734, 1.0852224826812744, 0.949...        50.0   \n",
       "99507   [1.2607249021530151, 0.9402479529380798, 1.845...       100.0   \n",
       "99508   [0.7270526885986328, 2.224700450897217, 2.4738...       100.0   \n",
       "...                                                   ...         ...   \n",
       "124371  [1.3581607341766357, 0.8177338242530823, 0.625...       300.0   \n",
       "124372  [0.890269935131073, 3.9279664158821106, 4.9102...       100.0   \n",
       "124373  [1.2927695512771606, 1.2073720693588257, 1.366...        50.0   \n",
       "124374  [1.2978936433792114, 1.3454351425170898, 1.276...        20.0   \n",
       "124375  [0.8119217753410339, 1.9831839799880981, 0.838...       100.0   \n",
       "\n",
       "        trueBeamEnergy  pred_energy  \n",
       "99504        19.889193    15.970251  \n",
       "99505       302.439880   267.620239  \n",
       "99506        50.156723    47.028805  \n",
       "99507        99.060066    87.635277  \n",
       "99508       100.693108    98.094978  \n",
       "...                ...          ...  \n",
       "124371      298.845581   269.486389  \n",
       "124372      100.154640    98.843025  \n",
       "124373       49.806194   143.750076  \n",
       "124374       20.142143    27.611027  \n",
       "124375      100.037560    83.770622  \n",
       "\n",
       "[24872 rows x 4 columns]"
      ]
     },
     "execution_count": 19,
     "metadata": {},
     "output_type": "execute_result"
    }
   ],
   "source": [
    "xy_pion_test[\"pred_energy\"] = model.predict(x_pion_test)\n",
    "xy_pion_test"
   ]
  },
  {
   "cell_type": "code",
   "execution_count": 20,
   "metadata": {},
   "outputs": [
    {
     "data": {
      "text/html": [
       "<div>\n",
       "<style scoped>\n",
       "    .dataframe tbody tr th:only-of-type {\n",
       "        vertical-align: middle;\n",
       "    }\n",
       "\n",
       "    .dataframe tbody tr th {\n",
       "        vertical-align: top;\n",
       "    }\n",
       "\n",
       "    .dataframe thead th {\n",
       "        text-align: right;\n",
       "    }\n",
       "</style>\n",
       "<table border=\"1\" class=\"dataframe\">\n",
       "  <thead>\n",
       "    <tr style=\"text-align: right;\">\n",
       "      <th></th>\n",
       "      <th>rechit_energy_layer</th>\n",
       "      <th>beamEnergy</th>\n",
       "      <th>pred_energy</th>\n",
       "    </tr>\n",
       "  </thead>\n",
       "  <tbody>\n",
       "    <tr>\n",
       "      <th>93960</th>\n",
       "      <td>[48.474596083164215, 210.22055506706238, 526.9...</td>\n",
       "      <td>100.0</td>\n",
       "      <td>93.469635</td>\n",
       "    </tr>\n",
       "    <tr>\n",
       "      <th>93961</th>\n",
       "      <td>[80.1898500919342, 290.61194786429405, 709.226...</td>\n",
       "      <td>200.0</td>\n",
       "      <td>193.800461</td>\n",
       "    </tr>\n",
       "    <tr>\n",
       "      <th>93962</th>\n",
       "      <td>[26.53403690457344, 39.63148808479309, 205.012...</td>\n",
       "      <td>100.0</td>\n",
       "      <td>97.200691</td>\n",
       "    </tr>\n",
       "    <tr>\n",
       "      <th>93963</th>\n",
       "      <td>[4.945270538330078, 58.32416772842407, 121.142...</td>\n",
       "      <td>50.0</td>\n",
       "      <td>48.689472</td>\n",
       "    </tr>\n",
       "    <tr>\n",
       "      <th>93964</th>\n",
       "      <td>[17.606875479221344, 106.81302815675735, 338.8...</td>\n",
       "      <td>300.0</td>\n",
       "      <td>300.350433</td>\n",
       "    </tr>\n",
       "    <tr>\n",
       "      <th>...</th>\n",
       "      <td>...</td>\n",
       "      <td>...</td>\n",
       "      <td>...</td>\n",
       "    </tr>\n",
       "    <tr>\n",
       "      <th>117405</th>\n",
       "      <td>[5.714633464813232, 38.73452568054199, 36.3505...</td>\n",
       "      <td>20.0</td>\n",
       "      <td>20.143728</td>\n",
       "    </tr>\n",
       "    <tr>\n",
       "      <th>117406</th>\n",
       "      <td>[13.62235713005066, 52.56782001256943, 149.397...</td>\n",
       "      <td>50.0</td>\n",
       "      <td>51.010616</td>\n",
       "    </tr>\n",
       "    <tr>\n",
       "      <th>117407</th>\n",
       "      <td>[28.073861598968506, 104.68717896938324, 116.3...</td>\n",
       "      <td>20.0</td>\n",
       "      <td>20.453190</td>\n",
       "    </tr>\n",
       "    <tr>\n",
       "      <th>117408</th>\n",
       "      <td>[36.890026211738586, 73.41665822267532, 192.20...</td>\n",
       "      <td>300.0</td>\n",
       "      <td>293.164124</td>\n",
       "    </tr>\n",
       "    <tr>\n",
       "      <th>117409</th>\n",
       "      <td>[26.54376769065857, 84.03166055679321, 159.715...</td>\n",
       "      <td>200.0</td>\n",
       "      <td>202.412308</td>\n",
       "    </tr>\n",
       "  </tbody>\n",
       "</table>\n",
       "<p>23450 rows × 3 columns</p>\n",
       "</div>"
      ],
      "text/plain": [
       "                                      rechit_energy_layer  beamEnergy  \\\n",
       "93960   [48.474596083164215, 210.22055506706238, 526.9...       100.0   \n",
       "93961   [80.1898500919342, 290.61194786429405, 709.226...       200.0   \n",
       "93962   [26.53403690457344, 39.63148808479309, 205.012...       100.0   \n",
       "93963   [4.945270538330078, 58.32416772842407, 121.142...        50.0   \n",
       "93964   [17.606875479221344, 106.81302815675735, 338.8...       300.0   \n",
       "...                                                   ...         ...   \n",
       "117405  [5.714633464813232, 38.73452568054199, 36.3505...        20.0   \n",
       "117406  [13.62235713005066, 52.56782001256943, 149.397...        50.0   \n",
       "117407  [28.073861598968506, 104.68717896938324, 116.3...        20.0   \n",
       "117408  [36.890026211738586, 73.41665822267532, 192.20...       300.0   \n",
       "117409  [26.54376769065857, 84.03166055679321, 159.715...       200.0   \n",
       "\n",
       "        pred_energy  \n",
       "93960     93.469635  \n",
       "93961    193.800461  \n",
       "93962     97.200691  \n",
       "93963     48.689472  \n",
       "93964    300.350433  \n",
       "...             ...  \n",
       "117405    20.143728  \n",
       "117406    51.010616  \n",
       "117407    20.453190  \n",
       "117408   293.164124  \n",
       "117409   202.412308  \n",
       "\n",
       "[23450 rows x 3 columns]"
      ]
     },
     "execution_count": 20,
     "metadata": {},
     "output_type": "execute_result"
    }
   ],
   "source": [
    "xy_positron_test[\"pred_energy\"] = model.predict(x_positron_test)\n",
    "xy_positron_test"
   ]
  },
  {
   "cell_type": "code",
   "execution_count": 21,
   "metadata": {},
   "outputs": [
    {
     "name": "stdout",
     "output_type": "stream",
     "text": [
      "[array([15.970251, 19.69729 , 16.797617, ..., 24.195223, 20.80136 ,\n",
      "       27.611027], dtype=float32), array([ 47.028805,  37.58433 ,  49.8269  , ...,  58.595524,  53.904625,\n",
      "       143.75008 ], dtype=float32), array([ 87.63528 ,  98.09498 ,  86.03196 , ..., 101.242485,  98.843025,\n",
      "        83.77062 ], dtype=float32), array([259.15573, 189.50015, 233.48576, ..., 188.99551, 184.2618 ,\n",
      "       161.09981], dtype=float32), array([267.62024, 366.88055, 323.74524, ..., 310.6869 , 261.0243 ,\n",
      "       269.4864 ], dtype=float32)]\n"
     ]
    },
    {
     "data": {
      "text/plain": [
       "[array([19.762632, 20.82068 , 20.759771, ..., 21.430183, 20.143728,\n",
       "        20.45319 ], dtype=float32),\n",
       " array([48.689472, 49.07783 , 48.415653, ..., 47.014973, 48.663525,\n",
       "        51.010616], dtype=float32),\n",
       " array([ 93.469635,  97.20069 ,  98.27588 , ..., 102.03468 , 102.48881 ,\n",
       "         95.97033 ], dtype=float32),\n",
       " array([193.80046, 201.55334, 202.76736, ..., 194.47426, 199.89622,\n",
       "        202.41231], dtype=float32),\n",
       " array([300.35043, 284.34836, 287.56482, ..., 291.03317, 292.58978,\n",
       "        293.16412], dtype=float32)]"
      ]
     },
     "execution_count": 21,
     "metadata": {},
     "output_type": "execute_result"
    }
   ],
   "source": [
    "energy=[20, 50, 100, 200, 300]\n",
    "pred_energy_pion = []\n",
    "pred_energy_positron = []\n",
    "\n",
    "for i in energy:\n",
    "    pred_energy_pion.append(xy_pion_test.loc[xy_pion_test.beamEnergy==i].pred_energy.values)\n",
    "    pred_energy_positron.append(xy_positron_test.loc[xy_positron_test.beamEnergy==i].pred_energy.values)\n",
    "    \n",
    "print(pred_energy_pion)\n",
    "pred_energy_positron"
   ]
  },
  {
   "cell_type": "code",
   "execution_count": 28,
   "metadata": {},
   "outputs": [
    {
     "name": "stderr",
     "output_type": "stream",
     "text": [
      "Warning in <TROOT::Append>: Replacing existing TH1: H_pion_pred_20 (Potential memory leak).\n",
      "Warning in <TROOT::Append>: Replacing existing TH1: H_pion_pred_50 (Potential memory leak).\n",
      "Warning in <TROOT::Append>: Replacing existing TH1: H_pion_pred_100 (Potential memory leak).\n",
      "Warning in <TROOT::Append>: Replacing existing TH1: H_pion_pred_200 (Potential memory leak).\n",
      "Warning in <TROOT::Append>: Replacing existing TH1: H_pion_pred_300 (Potential memory leak).\n"
     ]
    },
    {
     "data": {
      "text/html": [
       "\n",
       "<div id=\"root_plot_1607108774965\"\n",
       "     style=\"width: 696px; height: 472px\">\n",
       "</div>\n",
       "<script src=\"/static/components/requirejs/require.js\" type=\"text/javascript\" charset=\"utf-8\"></script>\n",
       "<script>\n",
       " requirejs.config({\n",
       "     paths: {\n",
       "       'JSRootCore' : '/static/scripts/JSRootCore',\n",
       "     }\n",
       "   });\n",
       " require(['JSRootCore'],\n",
       "     function(Core) {\n",
       "       var obj = Core.JSONR_unref({\"_typename\":\"TCanvas\",\"fUniqueID\":0,\"fBits\":3342344,\"fLineColor\":1,\"fLineStyle\":1,\"fLineWidth\":1,\"fFillColor\":0,\"fFillStyle\":1001,\"fLeftMargin\":0.1,\"fRightMargin\":0.1,\"fBottomMargin\":0.1,\"fTopMargin\":0.1,\"fXfile\":2,\"fYfile\":2,\"fAfile\":1,\"fXstat\":0.99,\"fYstat\":0.99,\"fAstat\":2,\"fFrameFillColor\":0,\"fFrameLineColor\":1,\"fFrameFillStyle\":1001,\"fFrameLineStyle\":1,\"fFrameLineWidth\":1,\"fFrameBorderSize\":1,\"fFrameBorderMode\":0,\"fX1\":-61.2500038184228,\"fY1\":-180.206263426413,\"fX2\":451.250003818423,\"fY2\":1621.85626342641,\"fXtoAbsPixelk\":83.1805417509965,\"fXtoPixelk\":83.1805417509965,\"fXtoPixel\":1.3580487602513,\"fYtoAbsPixelk\":424.800047186661,\"fYtoPixelk\":424.800047186661,\"fYtoPixel\":-0.261922099242757,\"fUtoAbsPixelk\":5e-5,\"fUtoPixelk\":5e-5,\"fUtoPixel\":696,\"fVtoAbsPixelk\":472.00005,\"fVtoPixelk\":472,\"fVtoPixel\":-472,\"fAbsPixeltoXk\":-61.2500038184228,\"fPixeltoXk\":-61.2500038184228,\"fPixeltoX\":0.736350585685123,\"fAbsPixeltoYk\":1621.85626342641,\"fPixeltoYk\":-180.206263426413,\"fPixeltoY\":-3.81792908231531,\"fXlowNDC\":0,\"fYlowNDC\":0,\"fXUpNDC\":1,\"fYUpNDC\":1,\"fWNDC\":1,\"fHNDC\":1,\"fAbsXlowNDC\":0,\"fAbsYlowNDC\":0,\"fAbsWNDC\":1,\"fAbsHNDC\":1,\"fUxmin\":-10,\"fUymin\":0,\"fUxmax\":400,\"fUymax\":1441.65,\"fTheta\":30,\"fPhi\":30,\"fAspectRatio\":0,\"fNumber\":0,\"fTickx\":0,\"fTicky\":0,\"fLogx\":0,\"fLogy\":0,\"fLogz\":0,\"fPadPaint\":0,\"fCrosshair\":0,\"fCrosshairPos\":0,\"fBorderSize\":2,\"fBorderMode\":0,\"fModified\":false,\"fGridx\":false,\"fGridy\":false,\"fAbsCoord\":false,\"fEditable\":true,\"fFixedAspectRatio\":false,\"fPrimitives\":{\"_typename\":\"TList\",\"name\":\"TList\",\"arr\":[{\"_typename\":\"TFrame\",\"fUniqueID\":0,\"fBits\":8,\"fLineColor\":1,\"fLineStyle\":1,\"fLineWidth\":1,\"fFillColor\":0,\"fFillStyle\":1001,\"fX1\":-10,\"fY1\":0,\"fX2\":400,\"fY2\":1441.65,\"fBorderSize\":1,\"fBorderMode\":0},{\"_typename\":\"TH1F\",\"fUniqueID\":0,\"fBits\":8,\"fName\":\"H_pion_pred_20\",\"fTitle\":\"Reconstructed Energy Distribution (pion)\",\"fLineColor\":1,\"fLineStyle\":1,\"fLineWidth\":1,\"fFillColor\":0,\"fFillStyle\":1001,\"fMarkerColor\":1,\"fMarkerStyle\":1,\"fMarkerSize\":1,\"fNcells\":102,\"fXaxis\":{\"_typename\":\"TAxis\",\"fUniqueID\":0,\"fBits\":0,\"fName\":\"xaxis\",\"fTitle\":\"Energy(GeV)\",\"fNdivisions\":510,\"fAxisColor\":1,\"fLabelColor\":1,\"fLabelFont\":42,\"fLabelOffset\":0.005,\"fLabelSize\":0.035,\"fTickLength\":0.03,\"fTitleOffset\":1,\"fTitleSize\":0.035,\"fTitleColor\":1,\"fTitleFont\":42,\"fNbins\":100,\"fXmin\":-10,\"fXmax\":400,\"fXbins\":[],\"fFirst\":0,\"fLast\":0,\"fBits2\":0,\"fTimeDisplay\":false,\"fTimeFormat\":\"\",\"fLabels\":null,\"fModLabs\":null},\"fYaxis\":{\"_typename\":\"TAxis\",\"fUniqueID\":0,\"fBits\":0,\"fName\":\"yaxis\",\"fTitle\":\"Normalized Entries\",\"fNdivisions\":510,\"fAxisColor\":1,\"fLabelColor\":1,\"fLabelFont\":42,\"fLabelOffset\":0.005,\"fLabelSize\":0.035,\"fTickLength\":0.03,\"fTitleOffset\":0,\"fTitleSize\":0.035,\"fTitleColor\":1,\"fTitleFont\":42,\"fNbins\":1,\"fXmin\":0,\"fXmax\":1,\"fXbins\":[],\"fFirst\":0,\"fLast\":0,\"fBits2\":0,\"fTimeDisplay\":false,\"fTimeFormat\":\"\",\"fLabels\":null,\"fModLabs\":null},\"fZaxis\":{\"_typename\":\"TAxis\",\"fUniqueID\":0,\"fBits\":0,\"fName\":\"zaxis\",\"fTitle\":\"\",\"fNdivisions\":510,\"fAxisColor\":1,\"fLabelColor\":1,\"fLabelFont\":42,\"fLabelOffset\":0.005,\"fLabelSize\":0.035,\"fTickLength\":0.03,\"fTitleOffset\":1,\"fTitleSize\":0.035,\"fTitleColor\":1,\"fTitleFont\":42,\"fNbins\":1,\"fXmin\":0,\"fXmax\":1,\"fXbins\":[],\"fFirst\":0,\"fLast\":0,\"fBits2\":0,\"fTimeDisplay\":false,\"fTimeFormat\":\"\",\"fLabels\":null,\"fModLabs\":null},\"fBarOffset\":0,\"fBarWidth\":1000,\"fEntries\":4920,\"fTsumw\":4919,\"fTsumw2\":4919,\"fTsumwx\":131380.880587101,\"fTsumwx2\":5713339.93919456,\"fMaximum\":-1111,\"fMinimum\":-1111,\"fNormFactor\":0,\"fContour\":[],\"fSumw2\":[],\"fOption\":\"\",\"fFunctions\":{\"_typename\":\"TList\",\"name\":\"TList\",\"arr\":[{\"_typename\":\"TPaveStats\",\"fUniqueID\":0,\"fBits\":9,\"fLineColor\":1,\"fLineStyle\":1,\"fLineWidth\":1,\"fFillColor\":0,\"fFillStyle\":1001,\"fX1\":338.50001038611,\"fY1\":1216.39220562566,\"fX2\":441.000013440848,\"fY2\":1504.72220347743,\"fX1NDC\":0.780000016093254,\"fY1NDC\":0.775000005960464,\"fX2NDC\":0.980000019073486,\"fY2NDC\":0.935000002384186,\"fBorderSize\":1,\"fInit\":1,\"fShadowColor\":1,\"fCornerRadius\":0,\"fOption\":\"brNDC\",\"fName\":\"stats\",\"fTextAngle\":0,\"fTextSize\":0,\"fTextAlign\":12,\"fTextColor\":1,\"fTextFont\":42,\"fLabel\":\"\",\"fLongest\":18,\"fMargin\":0.05,\"fLines\":{\"_typename\":\"TList\",\"name\":\"TList\",\"arr\":[{\"_typename\":\"TLatex\",\"fUniqueID\":0,\"fBits\":0,\"fName\":\"\",\"fTitle\":\"H_pion_pred_20\",\"fTextAngle\":0,\"fTextSize\":0.0368,\"fTextAlign\":0,\"fTextColor\":0,\"fTextFont\":0,\"fX\":0,\"fY\":0,\"fLineColor\":1,\"fLineStyle\":1,\"fLineWidth\":2,\"fLimitFactorSize\":3,\"fOriginSize\":0.0368000008165836},{\"_typename\":\"TLatex\",\"fUniqueID\":0,\"fBits\":0,\"fName\":\"\",\"fTitle\":\"Entries = 4920   \",\"fTextAngle\":0,\"fTextSize\":0,\"fTextAlign\":0,\"fTextColor\":0,\"fTextFont\":0,\"fX\":0,\"fY\":0,\"fLineColor\":1,\"fLineStyle\":1,\"fLineWidth\":2,\"fLimitFactorSize\":3,\"fOriginSize\":0.04},{\"_typename\":\"TLatex\",\"fUniqueID\":0,\"fBits\":0,\"fName\":\"\",\"fTitle\":\"Mean  =  26.71\",\"fTextAngle\":0,\"fTextSize\":0,\"fTextAlign\":0,\"fTextColor\":0,\"fTextFont\":0,\"fX\":0,\"fY\":0,\"fLineColor\":1,\"fLineStyle\":1,\"fLineWidth\":2,\"fLimitFactorSize\":3,\"fOriginSize\":0.04},{\"_typename\":\"TLatex\",\"fUniqueID\":0,\"fBits\":0,\"fName\":\"\",\"fTitle\":\"Std Dev   =  21.17\",\"fTextAngle\":0,\"fTextSize\":0,\"fTextAlign\":0,\"fTextColor\":0,\"fTextFont\":0,\"fX\":0,\"fY\":0,\"fLineColor\":1,\"fLineStyle\":1,\"fLineWidth\":2,\"fLimitFactorSize\":3,\"fOriginSize\":0.04}],\"opt\":[\"\",\"\",\"\",\"\"]},\"fOptFit\":0,\"fOptStat\":1111,\"fFitFormat\":\"5.4g\",\"fStatFormat\":\"6.4g\",\"fParent\":{\"$ref\":3}}],\"opt\":[\"brNDC\"]},\"fBufferSize\":0,\"fBuffer\":[],\"fBinStatErrOpt\":0,\"fStatOverflows\":2,\"fArray\":[0,0,0,13,10,44,248,914,1373,1118,500,225,118,50,37,28,21,14,10,12,12,9,16,5,9,11,13,8,9,7,10,6,7,4,2,4,3,6,2,4,3,0,2,3,3,4,2,4,3,1,0,1,0,1,0,1,4,1,0,0,0,1,1,0,1,0,0,0,0,0,0,0,0,0,1,0,0,0,0,0,0,0,0,0,0,0,0,0,0,0,0,0,0,0,0,0,0,0,0,0,0,1]},{\"_typename\":\"TH1F\",\"fUniqueID\":0,\"fBits\":8,\"fName\":\"H_pion_pred_50\",\"fTitle\":\"Reconstructed Energy Distribution \",\"fLineColor\":2,\"fLineStyle\":1,\"fLineWidth\":1,\"fFillColor\":0,\"fFillStyle\":1001,\"fMarkerColor\":1,\"fMarkerStyle\":1,\"fMarkerSize\":1,\"fNcells\":102,\"fXaxis\":{\"_typename\":\"TAxis\",\"fUniqueID\":0,\"fBits\":0,\"fName\":\"xaxis\",\"fTitle\":\"Energy(GeV)\",\"fNdivisions\":510,\"fAxisColor\":1,\"fLabelColor\":1,\"fLabelFont\":42,\"fLabelOffset\":0.005,\"fLabelSize\":0.035,\"fTickLength\":0.03,\"fTitleOffset\":1,\"fTitleSize\":0.035,\"fTitleColor\":1,\"fTitleFont\":42,\"fNbins\":100,\"fXmin\":-10,\"fXmax\":400,\"fXbins\":[],\"fFirst\":0,\"fLast\":0,\"fBits2\":0,\"fTimeDisplay\":false,\"fTimeFormat\":\"\",\"fLabels\":null,\"fModLabs\":null},\"fYaxis\":{\"_typename\":\"TAxis\",\"fUniqueID\":0,\"fBits\":0,\"fName\":\"yaxis\",\"fTitle\":\"Normalized Entries\",\"fNdivisions\":510,\"fAxisColor\":1,\"fLabelColor\":1,\"fLabelFont\":42,\"fLabelOffset\":0.005,\"fLabelSize\":0.035,\"fTickLength\":0.03,\"fTitleOffset\":0,\"fTitleSize\":0.035,\"fTitleColor\":1,\"fTitleFont\":42,\"fNbins\":1,\"fXmin\":0,\"fXmax\":1,\"fXbins\":[],\"fFirst\":0,\"fLast\":0,\"fBits2\":0,\"fTimeDisplay\":false,\"fTimeFormat\":\"\",\"fLabels\":null,\"fModLabs\":null},\"fZaxis\":{\"_typename\":\"TAxis\",\"fUniqueID\":0,\"fBits\":0,\"fName\":\"zaxis\",\"fTitle\":\"\",\"fNdivisions\":510,\"fAxisColor\":1,\"fLabelColor\":1,\"fLabelFont\":42,\"fLabelOffset\":0.005,\"fLabelSize\":0.035,\"fTickLength\":0.03,\"fTitleOffset\":1,\"fTitleSize\":0.035,\"fTitleColor\":1,\"fTitleFont\":42,\"fNbins\":1,\"fXmin\":0,\"fXmax\":1,\"fXbins\":[],\"fFirst\":0,\"fLast\":0,\"fBits2\":0,\"fTimeDisplay\":false,\"fTimeFormat\":\"\",\"fLabels\":null,\"fModLabs\":null},\"fBarOffset\":0,\"fBarWidth\":1000,\"fEntries\":5048,\"fTsumw\":5048,\"fTsumw2\":5048,\"fTsumwx\":276086.126006365,\"fTsumwx2\":17379643.0444364,\"fMaximum\":-1111,\"fMinimum\":-1111,\"fNormFactor\":0,\"fContour\":[],\"fSumw2\":[],\"fOption\":\"\",\"fFunctions\":{\"_typename\":\"TList\",\"name\":\"TList\",\"arr\":[],\"opt\":[]},\"fBufferSize\":0,\"fBuffer\":[],\"fBinStatErrOpt\":0,\"fStatOverflows\":2,\"fArray\":[0,0,0,9,2,3,3,14,10,28,69,154,287,510,662,825,749,546,326,242,154,84,67,41,39,27,22,22,16,12,10,8,9,10,12,11,6,4,2,7,2,2,4,1,6,2,4,1,2,1,2,3,2,1,1,0,2,2,0,0,0,1,3,0,0,0,0,1,0,0,0,1,0,0,1,0,0,0,0,0,1,0,0,0,0,0,0,0,0,0,0,0,0,0,0,0,0,0,0,0,0,0]},{\"_typename\":\"TH1F\",\"fUniqueID\":0,\"fBits\":8,\"fName\":\"H_pion_pred_100\",\"fTitle\":\"Reconstructed Energy Distribution \",\"fLineColor\":3,\"fLineStyle\":1,\"fLineWidth\":1,\"fFillColor\":0,\"fFillStyle\":1001,\"fMarkerColor\":1,\"fMarkerStyle\":1,\"fMarkerSize\":1,\"fNcells\":102,\"fXaxis\":{\"_typename\":\"TAxis\",\"fUniqueID\":0,\"fBits\":0,\"fName\":\"xaxis\",\"fTitle\":\"Energy(GeV)\",\"fNdivisions\":510,\"fAxisColor\":1,\"fLabelColor\":1,\"fLabelFont\":42,\"fLabelOffset\":0.005,\"fLabelSize\":0.035,\"fTickLength\":0.03,\"fTitleOffset\":1,\"fTitleSize\":0.035,\"fTitleColor\":1,\"fTitleFont\":42,\"fNbins\":100,\"fXmin\":-10,\"fXmax\":400,\"fXbins\":[],\"fFirst\":0,\"fLast\":0,\"fBits2\":0,\"fTimeDisplay\":false,\"fTimeFormat\":\"\",\"fLabels\":null,\"fModLabs\":null},\"fYaxis\":{\"_typename\":\"TAxis\",\"fUniqueID\":0,\"fBits\":0,\"fName\":\"yaxis\",\"fTitle\":\"Normalized Entries\",\"fNdivisions\":510,\"fAxisColor\":1,\"fLabelColor\":1,\"fLabelFont\":42,\"fLabelOffset\":0.005,\"fLabelSize\":0.035,\"fTickLength\":0.03,\"fTitleOffset\":0,\"fTitleSize\":0.035,\"fTitleColor\":1,\"fTitleFont\":42,\"fNbins\":1,\"fXmin\":0,\"fXmax\":1,\"fXbins\":[],\"fFirst\":0,\"fLast\":0,\"fBits2\":0,\"fTimeDisplay\":false,\"fTimeFormat\":\"\",\"fLabels\":null,\"fModLabs\":null},\"fZaxis\":{\"_typename\":\"TAxis\",\"fUniqueID\":0,\"fBits\":0,\"fName\":\"zaxis\",\"fTitle\":\"\",\"fNdivisions\":510,\"fAxisColor\":1,\"fLabelColor\":1,\"fLabelFont\":42,\"fLabelOffset\":0.005,\"fLabelSize\":0.035,\"fTickLength\":0.03,\"fTitleOffset\":1,\"fTitleSize\":0.035,\"fTitleColor\":1,\"fTitleFont\":42,\"fNbins\":1,\"fXmin\":0,\"fXmax\":1,\"fXbins\":[],\"fFirst\":0,\"fLast\":0,\"fBits2\":0,\"fTimeDisplay\":false,\"fTimeFormat\":\"\",\"fLabels\":null,\"fModLabs\":null},\"fBarOffset\":0,\"fBarWidth\":1000,\"fEntries\":4980,\"fTsumw\":4979,\"fTsumw2\":4979,\"fTsumwx\":510262.22525692,\"fTsumwx2\":55580545.610496,\"fMaximum\":-1111,\"fMinimum\":-1111,\"fNormFactor\":0,\"fContour\":[],\"fSumw2\":[],\"fOption\":\"\",\"fFunctions\":{\"_typename\":\"TList\",\"name\":\"TList\",\"arr\":[],\"opt\":[]},\"fBufferSize\":0,\"fBuffer\":[],\"fBinStatErrOpt\":0,\"fStatOverflows\":2,\"fArray\":[0,0,0,1,2,3,3,3,4,9,6,7,10,7,17,20,23,24,29,52,73,119,180,258,344,395,478,484,497,396,338,270,188,135,134,87,62,47,42,29,26,22,17,26,11,15,11,5,8,8,8,5,5,4,4,2,4,2,3,4,1,2,0,0,1,3,0,0,0,1,1,0,0,0,0,0,1,1,0,0,1,0,0,0,0,0,0,0,0,0,0,1,0,0,0,0,0,0,0,0,0,1]},{\"_typename\":\"TH1F\",\"fUniqueID\":0,\"fBits\":8,\"fName\":\"H_pion_pred_200\",\"fTitle\":\"Reconstructed Energy Distribution \",\"fLineColor\":4,\"fLineStyle\":1,\"fLineWidth\":1,\"fFillColor\":0,\"fFillStyle\":1001,\"fMarkerColor\":1,\"fMarkerStyle\":1,\"fMarkerSize\":1,\"fNcells\":102,\"fXaxis\":{\"_typename\":\"TAxis\",\"fUniqueID\":0,\"fBits\":0,\"fName\":\"xaxis\",\"fTitle\":\"Energy(GeV)\",\"fNdivisions\":510,\"fAxisColor\":1,\"fLabelColor\":1,\"fLabelFont\":42,\"fLabelOffset\":0.005,\"fLabelSize\":0.035,\"fTickLength\":0.03,\"fTitleOffset\":1,\"fTitleSize\":0.035,\"fTitleColor\":1,\"fTitleFont\":42,\"fNbins\":100,\"fXmin\":-10,\"fXmax\":400,\"fXbins\":[],\"fFirst\":0,\"fLast\":0,\"fBits2\":0,\"fTimeDisplay\":false,\"fTimeFormat\":\"\",\"fLabels\":null,\"fModLabs\":null},\"fYaxis\":{\"_typename\":\"TAxis\",\"fUniqueID\":0,\"fBits\":0,\"fName\":\"yaxis\",\"fTitle\":\"Normalized Entries\",\"fNdivisions\":510,\"fAxisColor\":1,\"fLabelColor\":1,\"fLabelFont\":42,\"fLabelOffset\":0.005,\"fLabelSize\":0.035,\"fTickLength\":0.03,\"fTitleOffset\":0,\"fTitleSize\":0.035,\"fTitleColor\":1,\"fTitleFont\":42,\"fNbins\":1,\"fXmin\":0,\"fXmax\":1,\"fXbins\":[],\"fFirst\":0,\"fLast\":0,\"fBits2\":0,\"fTimeDisplay\":false,\"fTimeFormat\":\"\",\"fLabels\":null,\"fModLabs\":null},\"fZaxis\":{\"_typename\":\"TAxis\",\"fUniqueID\":0,\"fBits\":0,\"fName\":\"zaxis\",\"fTitle\":\"\",\"fNdivisions\":510,\"fAxisColor\":1,\"fLabelColor\":1,\"fLabelFont\":42,\"fLabelOffset\":0.005,\"fLabelSize\":0.035,\"fTickLength\":0.03,\"fTitleOffset\":1,\"fTitleSize\":0.035,\"fTitleColor\":1,\"fTitleFont\":42,\"fNbins\":1,\"fXmin\":0,\"fXmax\":1,\"fXbins\":[],\"fFirst\":0,\"fLast\":0,\"fBits2\":0,\"fTimeDisplay\":false,\"fTimeFormat\":\"\",\"fLabels\":null,\"fModLabs\":null},\"fBarOffset\":0,\"fBarWidth\":1000,\"fEntries\":4897,\"fTsumw\":4896,\"fTsumw2\":4896,\"fTsumwx\":944158.790317535,\"fTsumwx2\":190598935.568469,\"fMaximum\":-1111,\"fMinimum\":-1111,\"fNormFactor\":0,\"fContour\":[],\"fSumw2\":[],\"fOption\":\"\",\"fFunctions\":{\"_typename\":\"TList\",\"name\":\"TList\",\"arr\":[],\"opt\":[]},\"fBufferSize\":0,\"fBuffer\":[],\"fBinStatErrOpt\":0,\"fStatOverflows\":2,\"fArray\":[0,0,0,4,2,1,5,3,8,7,6,5,8,5,6,5,7,9,2,7,11,8,11,13,11,17,16,18,14,18,10,17,21,29,24,16,24,43,32,45,62,63,99,91,135,166,196,233,231,287,288,302,296,299,253,218,182,175,150,109,88,79,70,53,51,45,36,24,19,14,12,15,10,7,9,11,6,5,1,2,4,1,1,0,3,1,1,1,2,0,0,0,1,0,0,0,0,0,1,0,0,1]},{\"_typename\":\"TH1F\",\"fUniqueID\":0,\"fBits\":8,\"fName\":\"H_pion_pred_300\",\"fTitle\":\"Reconstructed Energy Distribution \",\"fLineColor\":5,\"fLineStyle\":1,\"fLineWidth\":1,\"fFillColor\":0,\"fFillStyle\":1001,\"fMarkerColor\":1,\"fMarkerStyle\":1,\"fMarkerSize\":1,\"fNcells\":102,\"fXaxis\":{\"_typename\":\"TAxis\",\"fUniqueID\":0,\"fBits\":0,\"fName\":\"xaxis\",\"fTitle\":\"Energy(GeV)\",\"fNdivisions\":510,\"fAxisColor\":1,\"fLabelColor\":1,\"fLabelFont\":42,\"fLabelOffset\":0.005,\"fLabelSize\":0.035,\"fTickLength\":0.03,\"fTitleOffset\":1,\"fTitleSize\":0.035,\"fTitleColor\":1,\"fTitleFont\":42,\"fNbins\":100,\"fXmin\":-10,\"fXmax\":400,\"fXbins\":[],\"fFirst\":0,\"fLast\":0,\"fBits2\":0,\"fTimeDisplay\":false,\"fTimeFormat\":\"\",\"fLabels\":null,\"fModLabs\":null},\"fYaxis\":{\"_typename\":\"TAxis\",\"fUniqueID\":0,\"fBits\":0,\"fName\":\"yaxis\",\"fTitle\":\"Normalized Entries\",\"fNdivisions\":510,\"fAxisColor\":1,\"fLabelColor\":1,\"fLabelFont\":42,\"fLabelOffset\":0.005,\"fLabelSize\":0.035,\"fTickLength\":0.03,\"fTitleOffset\":0,\"fTitleSize\":0.035,\"fTitleColor\":1,\"fTitleFont\":42,\"fNbins\":1,\"fXmin\":0,\"fXmax\":1,\"fXbins\":[],\"fFirst\":0,\"fLast\":0,\"fBits2\":0,\"fTimeDisplay\":false,\"fTimeFormat\":\"\",\"fLabels\":null,\"fModLabs\":null},\"fZaxis\":{\"_typename\":\"TAxis\",\"fUniqueID\":0,\"fBits\":0,\"fName\":\"zaxis\",\"fTitle\":\"\",\"fNdivisions\":510,\"fAxisColor\":1,\"fLabelColor\":1,\"fLabelFont\":42,\"fLabelOffset\":0.005,\"fLabelSize\":0.035,\"fTickLength\":0.03,\"fTitleOffset\":1,\"fTitleSize\":0.035,\"fTitleColor\":1,\"fTitleFont\":42,\"fNbins\":1,\"fXmin\":0,\"fXmax\":1,\"fXbins\":[],\"fFirst\":0,\"fLast\":0,\"fBits2\":0,\"fTimeDisplay\":false,\"fTimeFormat\":\"\",\"fLabels\":null,\"fModLabs\":null},\"fBarOffset\":0,\"fBarWidth\":1000,\"fEntries\":5027,\"fTsumw\":4990,\"fTsumw2\":4990,\"fTsumwx\":1390987.3301549,\"fTsumwx2\":404824818.339952,\"fMaximum\":-1111,\"fMinimum\":-1111,\"fNormFactor\":0,\"fContour\":[],\"fSumw2\":[],\"fOption\":\"\",\"fFunctions\":{\"_typename\":\"TList\",\"name\":\"TList\",\"arr\":[],\"opt\":[]},\"fBufferSize\":0,\"fBuffer\":[],\"fBinStatErrOpt\":0,\"fStatOverflows\":2,\"fArray\":[0,0,0,3,3,3,2,6,5,7,7,6,8,4,3,6,7,4,2,3,9,11,8,6,5,3,8,10,6,4,5,7,6,8,5,16,5,6,8,9,7,4,5,8,10,11,8,15,12,9,28,23,20,20,23,39,25,28,40,61,57,70,83,74,102,112,143,131,163,190,195,190,215,224,230,212,232,198,193,183,163,158,135,104,91,89,69,74,43,51,28,33,33,22,17,20,7,15,6,11,4,37]},{\"_typename\":\"TPaveText\",\"fUniqueID\":0,\"fBits\":9,\"fLineColor\":1,\"fLineStyle\":1,\"fLineWidth\":1,\"fFillColor\":0,\"fFillStyle\":0,\"fX1\":16.8326122876276,\"fY1\":1502.88960181437,\"fX2\":373.167387712372,\"fY2\":1612.84595938505,\"fX1NDC\":0.15235632183908,\"fY1NDC\":0.933983055615829,\"fX2NDC\":0.84764367816092,\"fY2NDC\":0.995000004768372,\"fBorderSize\":0,\"fInit\":1,\"fShadowColor\":1,\"fCornerRadius\":0,\"fOption\":\"blNDC\",\"fName\":\"title\",\"fTextAngle\":0,\"fTextSize\":0,\"fTextAlign\":22,\"fTextColor\":1,\"fTextFont\":42,\"fLabel\":\"\",\"fLongest\":40,\"fMargin\":0.05,\"fLines\":{\"_typename\":\"TList\",\"name\":\"TList\",\"arr\":[{\"_typename\":\"TLatex\",\"fUniqueID\":0,\"fBits\":0,\"fName\":\"\",\"fTitle\":\"Reconstructed Energy Distribution (pion)\",\"fTextAngle\":0,\"fTextSize\":0,\"fTextAlign\":0,\"fTextColor\":0,\"fTextFont\":0,\"fX\":0,\"fY\":0,\"fLineColor\":1,\"fLineStyle\":1,\"fLineWidth\":2,\"fLimitFactorSize\":3,\"fOriginSize\":0.0518644079566002}],\"opt\":[\"\"]}},{\"_typename\":\"TStyle\",\"fUniqueID\":0,\"fBits\":0,\"fName\":\"Modern\",\"fTitle\":\"Modern Style\",\"fLineColor\":1,\"fLineStyle\":1,\"fLineWidth\":1,\"fFillColor\":19,\"fFillStyle\":1001,\"fMarkerColor\":1,\"fMarkerStyle\":1,\"fMarkerSize\":1,\"fTextAngle\":0,\"fTextSize\":0.05,\"fTextAlign\":11,\"fTextColor\":1,\"fTextFont\":62,\"fXaxis\":{\"_typename\":\"TAttAxis\",\"fNdivisions\":510,\"fAxisColor\":1,\"fLabelColor\":1,\"fLabelFont\":42,\"fLabelOffset\":0.005,\"fLabelSize\":0.035,\"fTickLength\":0.03,\"fTitleOffset\":1,\"fTitleSize\":0.035,\"fTitleColor\":1,\"fTitleFont\":42},\"fYaxis\":{\"_typename\":\"TAttAxis\",\"fNdivisions\":510,\"fAxisColor\":1,\"fLabelColor\":1,\"fLabelFont\":42,\"fLabelOffset\":0.005,\"fLabelSize\":0.035,\"fTickLength\":0.03,\"fTitleOffset\":0,\"fTitleSize\":0.035,\"fTitleColor\":1,\"fTitleFont\":42},\"fZaxis\":{\"_typename\":\"TAttAxis\",\"fNdivisions\":510,\"fAxisColor\":1,\"fLabelColor\":1,\"fLabelFont\":42,\"fLabelOffset\":0.005,\"fLabelSize\":0.035,\"fTickLength\":0.03,\"fTitleOffset\":1,\"fTitleSize\":0.035,\"fTitleColor\":1,\"fTitleFont\":42},\"fBarWidth\":1,\"fBarOffset\":0,\"fColorModelPS\":0,\"fDrawBorder\":0,\"fOptLogx\":0,\"fOptLogy\":0,\"fOptLogz\":0,\"fOptDate\":0,\"fOptStat\":1111,\"fOptTitle\":1,\"fOptFile\":0,\"fOptFit\":0,\"fShowEventStatus\":0,\"fShowEditor\":0,\"fShowToolBar\":0,\"fNumberContours\":20,\"fAttDate\":{\"_typename\":\"TAttText\",\"fTextAngle\":0,\"fTextSize\":0.025,\"fTextAlign\":11,\"fTextColor\":1,\"fTextFont\":62},\"fDateX\":0.01,\"fDateY\":0.01,\"fEndErrorSize\":2,\"fErrorX\":0.5,\"fFuncColor\":2,\"fFuncStyle\":1,\"fFuncWidth\":2,\"fGridColor\":0,\"fGridStyle\":3,\"fGridWidth\":1,\"fLegendBorderSize\":1,\"fLegendFillColor\":0,\"fLegendFont\":42,\"fLegendTextSize\":0,\"fHatchesLineWidth\":1,\"fHatchesSpacing\":1,\"fFrameFillColor\":0,\"fFrameLineColor\":1,\"fFrameFillStyle\":1001,\"fFrameLineStyle\":1,\"fFrameLineWidth\":1,\"fFrameBorderSize\":1,\"fFrameBorderMode\":0,\"fHistFillColor\":0,\"fHistLineColor\":602,\"fHistFillStyle\":1001,\"fHistLineStyle\":1,\"fHistLineWidth\":1,\"fHistMinimumZero\":false,\"fHistTopMargin\":0.05,\"fCanvasPreferGL\":false,\"fCanvasColor\":0,\"fCanvasBorderSize\":2,\"fCanvasBorderMode\":0,\"fCanvasDefH\":500,\"fCanvasDefW\":700,\"fCanvasDefX\":10,\"fCanvasDefY\":10,\"fPadColor\":0,\"fPadBorderSize\":2,\"fPadBorderMode\":0,\"fPadBottomMargin\":0.1,\"fPadTopMargin\":0.1,\"fPadLeftMargin\":0.1,\"fPadRightMargin\":0.1,\"fPadGridX\":false,\"fPadGridY\":false,\"fPadTickX\":0,\"fPadTickY\":0,\"fPaperSizeX\":20,\"fPaperSizeY\":26,\"fScreenFactor\":1,\"fStatColor\":0,\"fStatTextColor\":1,\"fStatBorderSize\":1,\"fStatFont\":42,\"fStatFontSize\":0,\"fStatStyle\":1001,\"fStatFormat\":\"6.4g\",\"fStatX\":0.98,\"fStatY\":0.935,\"fStatW\":0.2,\"fStatH\":0.16,\"fStripDecimals\":true,\"fTitleAlign\":23,\"fTitleColor\":0,\"fTitleTextColor\":1,\"fTitleBorderSize\":0,\"fTitleFont\":42,\"fTitleFontSize\":0.05,\"fTitleStyle\":0,\"fTitleX\":0.5,\"fTitleY\":0.995,\"fTitleW\":0,\"fTitleH\":0,\"fLegoInnerR\":0.5,\"fLineStyle\":[\"\",\"  \",\" 12 12\",\" 4 8\",\" 12 16 4 16\",\" 20 12 4 12\",\" 20 12 4 12 4 12 4 12\",\" 20 20\",\" 20 12 4 12 4 12\",\" 80 20\",\" 80 40 4 40\",\"  \",\"  \",\"  \",\"  \",\"  \",\"  \",\"  \",\"  \",\"  \",\"  \",\"  \",\"  \",\"  \",\"  \",\"  \",\"  \",\"  \",\"  \",\"  \"],\"fHeaderPS\":\"\",\"fTitlePS\":\"\",\"fFitFormat\":\"5.4g\",\"fPaintTextFormat\":\"g\",\"fLineScalePS\":3,\"fJoinLinePS\":0,\"fCapLinePS\":0,\"fTimeOffset\":788918400,\"fImageScaling\":1}],\"opt\":[\"\",\"\",\"same\",\"same\",\"same\",\"same\",\"blNDC\",\"\"]},\"fExecs\":null,\"fName\":\"c1_n2\",\"fTitle\":\"c1_n2\",\"fNumPaletteColor\":0,\"fNextPaletteColor\":0,\"fDISPLAY\":\"$DISPLAY\",\"fDoubleBuffer\":0,\"fRetained\":true,\"fXsizeUser\":0,\"fYsizeUser\":0,\"fXsizeReal\":20,\"fYsizeReal\":14.28571,\"fWindowTopX\":0,\"fWindowTopY\":0,\"fWindowWidth\":0,\"fWindowHeight\":0,\"fCw\":696,\"fCh\":472,\"fCatt\":{\"_typename\":\"TAttCanvas\",\"fXBetween\":2,\"fYBetween\":2,\"fTitleFromTop\":1.2,\"fXdate\":0.2,\"fYdate\":0.3,\"fAdate\":1},\"kMoveOpaque\":true,\"kResizeOpaque\":true,\"fHighLightColor\":2,\"fBatch\":true,\"kShowEventStatus\":false,\"kAutoExec\":true,\"kMenuBar\":true});\n",
       "       Core.key_handling = false;\n",
       "       Core.draw(\"root_plot_1607108774965\", obj, \"\");\n",
       "     }\n",
       " );\n",
       "</script>\n"
      ],
      "text/plain": [
       "<IPython.core.display.HTML object>"
      ]
     },
     "metadata": {},
     "output_type": "display_data"
    }
   ],
   "source": [
    "%jsroot on\n",
    "c = ROOT.TCanvas()\n",
    "\n",
    "H_pion_pred_20 = ROOT.TH1F(\"H_pion_pred_20\",\"Reconstructed Energy Distribution (pion);Energy(GeV);Normalized Entries\",100,-10,400)\n",
    "H_pion_pred_50 = ROOT.TH1F(\"H_pion_pred_50\",\"Reconstructed Energy Distribution ;Energy(GeV);Normalized Entries\",100,-10,400)\n",
    "H_pion_pred_100 = ROOT.TH1F(\"H_pion_pred_100\",\"Reconstructed Energy Distribution ;Energy(GeV);Normalized Entries\",100,-10,400)\n",
    "H_pion_pred_200 = ROOT.TH1F(\"H_pion_pred_200\",\"Reconstructed Energy Distribution ;Energy(GeV);Normalized Entries\",100,-10,400)\n",
    "H_pion_pred_300 = ROOT.TH1F(\"H_pion_pred_300\",\"Reconstructed Energy Distribution ;Energy(GeV);Normalized Entries\",100,-10,400)\n",
    "\n",
    "\n",
    "\n",
    "for i in range(pred_energy_pion[0].size):\n",
    "    H_pion_pred_20.Fill(pred_energy_pion[0][i])\n",
    "    \n",
    "for i in range(pred_energy_pion[1].size):\n",
    "    H_pion_pred_50.Fill(pred_energy_pion[1][i])\n",
    "    \n",
    "for i in range(pred_energy_pion[2].size):\n",
    "    H_pion_pred_100.Fill(pred_energy_pion[2][i])\n",
    "    \n",
    "for i in range(pred_energy_pion[3].size):\n",
    "    H_pion_pred_200.Fill(pred_energy_pion[3][i])\n",
    "    \n",
    "for i in range(pred_energy_pion[4].size):\n",
    "    H_pion_pred_300.Fill(pred_energy_pion[4][i])\n",
    "    \n",
    "\n",
    "\n",
    "H_pion_pred_20.SetLineColor(1)\n",
    "H_pion_pred_50.SetLineColor(2)\n",
    "H_pion_pred_100.SetLineColor(3)\n",
    "H_pion_pred_200.SetLineColor(4)\n",
    "H_pion_pred_300.SetLineColor(5)\n",
    "\n",
    "\n",
    "\n",
    "\n",
    "H_pion_pred_20.Draw()\n",
    "H_pion_pred_50.Draw('same')\n",
    "H_pion_pred_100.Draw('same')\n",
    "H_pion_pred_200.Draw('same')\n",
    "H_pion_pred_300.Draw('same')\n",
    "\n",
    "\n",
    "\n",
    "#ROOT.gPad.SetLogy()\n",
    "c.Draw()"
   ]
  },
  {
   "cell_type": "code",
   "execution_count": 31,
   "metadata": {},
   "outputs": [
    {
     "name": "stderr",
     "output_type": "stream",
     "text": [
      "Warning in <TROOT::Append>: Replacing existing TH1: H_positron_pred_20 (Potential memory leak).\n",
      "Warning in <TROOT::Append>: Replacing existing TH1: H_positron_pred_50 (Potential memory leak).\n",
      "Warning in <TROOT::Append>: Replacing existing TH1: H_positron_pred_100 (Potential memory leak).\n",
      "Warning in <TROOT::Append>: Replacing existing TH1: H_positron_pred_200 (Potential memory leak).\n",
      "Warning in <TROOT::Append>: Replacing existing TH1: H_positron_pred_300 (Potential memory leak).\n"
     ]
    },
    {
     "data": {
      "text/html": [
       "\n",
       "<div id=\"root_plot_1607108856524\"\n",
       "     style=\"width: 696px; height: 472px\">\n",
       "</div>\n",
       "<script src=\"/static/components/requirejs/require.js\" type=\"text/javascript\" charset=\"utf-8\"></script>\n",
       "<script>\n",
       " requirejs.config({\n",
       "     paths: {\n",
       "       'JSRootCore' : '/static/scripts/JSRootCore',\n",
       "     }\n",
       "   });\n",
       " require(['JSRootCore'],\n",
       "     function(Core) {\n",
       "       var obj = Core.JSONR_unref({\"_typename\":\"TCanvas\",\"fUniqueID\":0,\"fBits\":3342344,\"fLineColor\":1,\"fLineStyle\":1,\"fLineWidth\":1,\"fFillColor\":0,\"fFillStyle\":1001,\"fLeftMargin\":0.1,\"fRightMargin\":0.1,\"fBottomMargin\":0.1,\"fTopMargin\":0.1,\"fXfile\":2,\"fYfile\":2,\"fAfile\":1,\"fXstat\":0.99,\"fYstat\":0.99,\"fAstat\":2,\"fFrameFillColor\":0,\"fFrameLineColor\":1,\"fFrameFillStyle\":1001,\"fFrameLineStyle\":1,\"fFrameLineWidth\":1,\"fFrameBorderSize\":1,\"fFrameBorderMode\":0,\"fX1\":-61.2500038184228,\"fY1\":-554.137541286464,\"fX2\":451.250003818423,\"fY2\":4987.23754128646,\"fXtoAbsPixelk\":83.1805417509965,\"fXtoPixelk\":83.1805417509965,\"fXtoPixel\":1.3580487602513,\"fYtoAbsPixelk\":424.800047186661,\"fYtoPixelk\":424.800047186661,\"fYtoPixel\":-0.0851774140834453,\"fUtoAbsPixelk\":5e-5,\"fUtoPixelk\":5e-5,\"fUtoPixel\":696,\"fVtoAbsPixelk\":472.00005,\"fVtoPixelk\":472,\"fVtoPixel\":-472,\"fAbsPixeltoXk\":-61.2500038184228,\"fPixeltoXk\":-61.2500038184228,\"fPixeltoX\":0.736350585685123,\"fAbsPixeltoYk\":4987.23754128646,\"fPixeltoYk\":-554.137541286464,\"fPixeltoY\":-11.7402014461291,\"fXlowNDC\":0,\"fYlowNDC\":0,\"fXUpNDC\":1,\"fYUpNDC\":1,\"fWNDC\":1,\"fHNDC\":1,\"fAbsXlowNDC\":0,\"fAbsYlowNDC\":0,\"fAbsWNDC\":1,\"fAbsHNDC\":1,\"fUxmin\":-10,\"fUymin\":0,\"fUxmax\":400,\"fUymax\":4433.1,\"fTheta\":30,\"fPhi\":30,\"fAspectRatio\":0,\"fNumber\":0,\"fTickx\":0,\"fTicky\":0,\"fLogx\":0,\"fLogy\":0,\"fLogz\":0,\"fPadPaint\":0,\"fCrosshair\":0,\"fCrosshairPos\":0,\"fBorderSize\":2,\"fBorderMode\":0,\"fModified\":false,\"fGridx\":false,\"fGridy\":false,\"fAbsCoord\":false,\"fEditable\":true,\"fFixedAspectRatio\":false,\"fPrimitives\":{\"_typename\":\"TList\",\"name\":\"TList\",\"arr\":[{\"_typename\":\"TFrame\",\"fUniqueID\":0,\"fBits\":8,\"fLineColor\":1,\"fLineStyle\":1,\"fLineWidth\":1,\"fFillColor\":0,\"fFillStyle\":1001,\"fX1\":-10,\"fY1\":0,\"fX2\":400,\"fY2\":4433.1,\"fBorderSize\":1,\"fBorderMode\":0},{\"_typename\":\"TH1F\",\"fUniqueID\":0,\"fBits\":8,\"fName\":\"H_positron_pred_20\",\"fTitle\":\"Reconstructed Energy Distribution (Positron)\",\"fLineColor\":1,\"fLineStyle\":1,\"fLineWidth\":1,\"fFillColor\":0,\"fFillStyle\":1001,\"fMarkerColor\":1,\"fMarkerStyle\":1,\"fMarkerSize\":1,\"fNcells\":102,\"fXaxis\":{\"_typename\":\"TAxis\",\"fUniqueID\":0,\"fBits\":0,\"fName\":\"xaxis\",\"fTitle\":\"Energy(GeV)\",\"fNdivisions\":510,\"fAxisColor\":1,\"fLabelColor\":1,\"fLabelFont\":42,\"fLabelOffset\":0.005,\"fLabelSize\":0.035,\"fTickLength\":0.03,\"fTitleOffset\":1,\"fTitleSize\":0.035,\"fTitleColor\":1,\"fTitleFont\":42,\"fNbins\":100,\"fXmin\":-10,\"fXmax\":400,\"fXbins\":[],\"fFirst\":0,\"fLast\":0,\"fBits2\":0,\"fTimeDisplay\":false,\"fTimeFormat\":\"\",\"fLabels\":null,\"fModLabs\":null},\"fYaxis\":{\"_typename\":\"TAxis\",\"fUniqueID\":0,\"fBits\":0,\"fName\":\"yaxis\",\"fTitle\":\"Normalized Entries\",\"fNdivisions\":510,\"fAxisColor\":1,\"fLabelColor\":1,\"fLabelFont\":42,\"fLabelOffset\":0.005,\"fLabelSize\":0.035,\"fTickLength\":0.03,\"fTitleOffset\":0,\"fTitleSize\":0.035,\"fTitleColor\":1,\"fTitleFont\":42,\"fNbins\":1,\"fXmin\":0,\"fXmax\":1,\"fXbins\":[],\"fFirst\":0,\"fLast\":0,\"fBits2\":0,\"fTimeDisplay\":false,\"fTimeFormat\":\"\",\"fLabels\":null,\"fModLabs\":null},\"fZaxis\":{\"_typename\":\"TAxis\",\"fUniqueID\":0,\"fBits\":0,\"fName\":\"zaxis\",\"fTitle\":\"\",\"fNdivisions\":510,\"fAxisColor\":1,\"fLabelColor\":1,\"fLabelFont\":42,\"fLabelOffset\":0.005,\"fLabelSize\":0.035,\"fTickLength\":0.03,\"fTitleOffset\":1,\"fTitleSize\":0.035,\"fTitleColor\":1,\"fTitleFont\":42,\"fNbins\":1,\"fXmin\":0,\"fXmax\":1,\"fXbins\":[],\"fFirst\":0,\"fLast\":0,\"fBits2\":0,\"fTimeDisplay\":false,\"fTimeFormat\":\"\",\"fLabels\":null,\"fModLabs\":null},\"fBarOffset\":0,\"fBarWidth\":1000,\"fEntries\":4902,\"fTsumw\":4902,\"fTsumw2\":4902,\"fTsumwx\":100519.91778183,\"fTsumwx2\":2076179.02247135,\"fMaximum\":-1111,\"fMinimum\":-1111,\"fNormFactor\":0,\"fContour\":[],\"fSumw2\":[],\"fOption\":\"\",\"fFunctions\":{\"_typename\":\"TList\",\"name\":\"TList\",\"arr\":[{\"_typename\":\"TPaveStats\",\"fUniqueID\":0,\"fBits\":9,\"fLineColor\":1,\"fLineStyle\":1,\"fLineWidth\":1,\"fFillColor\":0,\"fFillStyle\":1001,\"fX1\":338.50001038611,\"fY1\":3740.42818073672,\"fX2\":441.000013440848,\"fY2\":4627.04817413089,\"fX1NDC\":0.780000016093254,\"fY1NDC\":0.775000005960464,\"fX2NDC\":0.980000019073486,\"fY2NDC\":0.935000002384186,\"fBorderSize\":1,\"fInit\":1,\"fShadowColor\":1,\"fCornerRadius\":0,\"fOption\":\"brNDC\",\"fName\":\"stats\",\"fTextAngle\":0,\"fTextSize\":0,\"fTextAlign\":12,\"fTextColor\":1,\"fTextFont\":42,\"fLabel\":\"\",\"fLongest\":18,\"fMargin\":0.05,\"fLines\":{\"_typename\":\"TList\",\"name\":\"TList\",\"arr\":[{\"_typename\":\"TLatex\",\"fUniqueID\":0,\"fBits\":0,\"fName\":\"\",\"fTitle\":\"H_positron_pred_20\",\"fTextAngle\":0,\"fTextSize\":0.0368,\"fTextAlign\":0,\"fTextColor\":0,\"fTextFont\":0,\"fX\":0,\"fY\":0,\"fLineColor\":1,\"fLineStyle\":1,\"fLineWidth\":2,\"fLimitFactorSize\":3,\"fOriginSize\":0.0368000008165836},{\"_typename\":\"TLatex\",\"fUniqueID\":0,\"fBits\":0,\"fName\":\"\",\"fTitle\":\"Entries = 4902   \",\"fTextAngle\":0,\"fTextSize\":0,\"fTextAlign\":0,\"fTextColor\":0,\"fTextFont\":0,\"fX\":0,\"fY\":0,\"fLineColor\":1,\"fLineStyle\":1,\"fLineWidth\":2,\"fLimitFactorSize\":3,\"fOriginSize\":0.04},{\"_typename\":\"TLatex\",\"fUniqueID\":0,\"fBits\":0,\"fName\":\"\",\"fTitle\":\"Mean  =  20.51\",\"fTextAngle\":0,\"fTextSize\":0,\"fTextAlign\":0,\"fTextColor\":0,\"fTextFont\":0,\"fX\":0,\"fY\":0,\"fLineColor\":1,\"fLineStyle\":1,\"fLineWidth\":2,\"fLimitFactorSize\":3,\"fOriginSize\":0.04},{\"_typename\":\"TLatex\",\"fUniqueID\":0,\"fBits\":0,\"fName\":\"\",\"fTitle\":\"Std Dev   =  1.745\",\"fTextAngle\":0,\"fTextSize\":0,\"fTextAlign\":0,\"fTextColor\":0,\"fTextFont\":0,\"fX\":0,\"fY\":0,\"fLineColor\":1,\"fLineStyle\":1,\"fLineWidth\":2,\"fLimitFactorSize\":3,\"fOriginSize\":0.04}],\"opt\":[\"\",\"\",\"\",\"\"]},\"fOptFit\":0,\"fOptStat\":1111,\"fFitFormat\":\"5.4g\",\"fStatFormat\":\"6.4g\",\"fParent\":{\"$ref\":3}}],\"opt\":[\"brNDC\"]},\"fBufferSize\":0,\"fBuffer\":[],\"fBinStatErrOpt\":0,\"fStatOverflows\":2,\"fArray\":[0,0,0,0,0,0,10,396,4222,226,35,10,2,0,1,0,0,0,0,0,0,0,0,0,0,0,0,0,0,0,0,0,0,0,0,0,0,0,0,0,0,0,0,0,0,0,0,0,0,0,0,0,0,0,0,0,0,0,0,0,0,0,0,0,0,0,0,0,0,0,0,0,0,0,0,0,0,0,0,0,0,0,0,0,0,0,0,0,0,0,0,0,0,0,0,0,0,0,0,0,0,0]},{\"_typename\":\"TH1F\",\"fUniqueID\":0,\"fBits\":8,\"fName\":\"H_positron_pred_50\",\"fTitle\":\"Reconstructed Energy Distribution \",\"fLineColor\":2,\"fLineStyle\":1,\"fLineWidth\":1,\"fFillColor\":0,\"fFillStyle\":1001,\"fMarkerColor\":1,\"fMarkerStyle\":1,\"fMarkerSize\":1,\"fNcells\":102,\"fXaxis\":{\"_typename\":\"TAxis\",\"fUniqueID\":0,\"fBits\":0,\"fName\":\"xaxis\",\"fTitle\":\"Energy(GeV)\",\"fNdivisions\":510,\"fAxisColor\":1,\"fLabelColor\":1,\"fLabelFont\":42,\"fLabelOffset\":0.005,\"fLabelSize\":0.035,\"fTickLength\":0.03,\"fTitleOffset\":1,\"fTitleSize\":0.035,\"fTitleColor\":1,\"fTitleFont\":42,\"fNbins\":100,\"fXmin\":-10,\"fXmax\":400,\"fXbins\":[],\"fFirst\":0,\"fLast\":0,\"fBits2\":0,\"fTimeDisplay\":false,\"fTimeFormat\":\"\",\"fLabels\":null,\"fModLabs\":null},\"fYaxis\":{\"_typename\":\"TAxis\",\"fUniqueID\":0,\"fBits\":0,\"fName\":\"yaxis\",\"fTitle\":\"Normalized Entries\",\"fNdivisions\":510,\"fAxisColor\":1,\"fLabelColor\":1,\"fLabelFont\":42,\"fLabelOffset\":0.005,\"fLabelSize\":0.035,\"fTickLength\":0.03,\"fTitleOffset\":0,\"fTitleSize\":0.035,\"fTitleColor\":1,\"fTitleFont\":42,\"fNbins\":1,\"fXmin\":0,\"fXmax\":1,\"fXbins\":[],\"fFirst\":0,\"fLast\":0,\"fBits2\":0,\"fTimeDisplay\":false,\"fTimeFormat\":\"\",\"fLabels\":null,\"fModLabs\":null},\"fZaxis\":{\"_typename\":\"TAxis\",\"fUniqueID\":0,\"fBits\":0,\"fName\":\"zaxis\",\"fTitle\":\"\",\"fNdivisions\":510,\"fAxisColor\":1,\"fLabelColor\":1,\"fLabelFont\":42,\"fLabelOffset\":0.005,\"fLabelSize\":0.035,\"fTickLength\":0.03,\"fTitleOffset\":1,\"fTitleSize\":0.035,\"fTitleColor\":1,\"fTitleFont\":42,\"fNbins\":1,\"fXmin\":0,\"fXmax\":1,\"fXbins\":[],\"fFirst\":0,\"fLast\":0,\"fBits2\":0,\"fTimeDisplay\":false,\"fTimeFormat\":\"\",\"fLabels\":null,\"fModLabs\":null},\"fBarOffset\":0,\"fBarWidth\":1000,\"fEntries\":4839,\"fTsumw\":4839,\"fTsumw2\":4839,\"fTsumwx\":240160.942819595,\"fTsumwx2\":11943971.9781388,\"fMaximum\":-1111,\"fMinimum\":-1111,\"fNormFactor\":0,\"fContour\":[],\"fSumw2\":[],\"fOption\":\"\",\"fFunctions\":{\"_typename\":\"TList\",\"name\":\"TList\",\"arr\":[],\"opt\":[]},\"fBufferSize\":0,\"fBuffer\":[],\"fBinStatErrOpt\":0,\"fStatOverflows\":2,\"fArray\":[0,0,0,0,0,0,0,0,0,1,0,2,1,24,623,3343,818,17,7,2,1,0,0,0,0,0,0,0,0,0,0,0,0,0,0,0,0,0,0,0,0,0,0,0,0,0,0,0,0,0,0,0,0,0,0,0,0,0,0,0,0,0,0,0,0,0,0,0,0,0,0,0,0,0,0,0,0,0,0,0,0,0,0,0,0,0,0,0,0,0,0,0,0,0,0,0,0,0,0,0,0,0]},{\"_typename\":\"TH1F\",\"fUniqueID\":0,\"fBits\":8,\"fName\":\"H_positron_pred_100\",\"fTitle\":\"Reconstructed Energy Distribution \",\"fLineColor\":3,\"fLineStyle\":1,\"fLineWidth\":1,\"fFillColor\":0,\"fFillStyle\":1001,\"fMarkerColor\":1,\"fMarkerStyle\":1,\"fMarkerSize\":1,\"fNcells\":102,\"fXaxis\":{\"_typename\":\"TAxis\",\"fUniqueID\":0,\"fBits\":0,\"fName\":\"xaxis\",\"fTitle\":\"Energy(GeV)\",\"fNdivisions\":510,\"fAxisColor\":1,\"fLabelColor\":1,\"fLabelFont\":42,\"fLabelOffset\":0.005,\"fLabelSize\":0.035,\"fTickLength\":0.03,\"fTitleOffset\":1,\"fTitleSize\":0.035,\"fTitleColor\":1,\"fTitleFont\":42,\"fNbins\":100,\"fXmin\":-10,\"fXmax\":400,\"fXbins\":[],\"fFirst\":0,\"fLast\":0,\"fBits2\":0,\"fTimeDisplay\":false,\"fTimeFormat\":\"\",\"fLabels\":null,\"fModLabs\":null},\"fYaxis\":{\"_typename\":\"TAxis\",\"fUniqueID\":0,\"fBits\":0,\"fName\":\"yaxis\",\"fTitle\":\"Normalized Entries\",\"fNdivisions\":510,\"fAxisColor\":1,\"fLabelColor\":1,\"fLabelFont\":42,\"fLabelOffset\":0.005,\"fLabelSize\":0.035,\"fTickLength\":0.03,\"fTitleOffset\":0,\"fTitleSize\":0.035,\"fTitleColor\":1,\"fTitleFont\":42,\"fNbins\":1,\"fXmin\":0,\"fXmax\":1,\"fXbins\":[],\"fFirst\":0,\"fLast\":0,\"fBits2\":0,\"fTimeDisplay\":false,\"fTimeFormat\":\"\",\"fLabels\":null,\"fModLabs\":null},\"fZaxis\":{\"_typename\":\"TAxis\",\"fUniqueID\":0,\"fBits\":0,\"fName\":\"zaxis\",\"fTitle\":\"\",\"fNdivisions\":510,\"fAxisColor\":1,\"fLabelColor\":1,\"fLabelFont\":42,\"fLabelOffset\":0.005,\"fLabelSize\":0.035,\"fTickLength\":0.03,\"fTitleOffset\":1,\"fTitleSize\":0.035,\"fTitleColor\":1,\"fTitleFont\":42,\"fNbins\":1,\"fXmin\":0,\"fXmax\":1,\"fXbins\":[],\"fFirst\":0,\"fLast\":0,\"fBits2\":0,\"fTimeDisplay\":false,\"fTimeFormat\":\"\",\"fLabels\":null,\"fModLabs\":null},\"fBarOffset\":0,\"fBarWidth\":1000,\"fEntries\":4796,\"fTsumw\":4796,\"fTsumw2\":4796,\"fTsumwx\":479604.332496643,\"fTsumwx2\":48004755.6051732,\"fMaximum\":-1111,\"fMinimum\":-1111,\"fNormFactor\":0,\"fContour\":[],\"fSumw2\":[],\"fOption\":\"\",\"fFunctions\":{\"_typename\":\"TList\",\"name\":\"TList\",\"arr\":[],\"opt\":[]},\"fBufferSize\":0,\"fBuffer\":[],\"fBinStatErrOpt\":0,\"fStatOverflows\":2,\"fArray\":[0,0,0,0,0,0,0,0,0,0,0,0,0,0,0,0,0,0,0,0,0,0,0,3,3,38,554,2191,1786,212,8,0,0,0,0,1,0,0,0,0,0,0,0,0,0,0,0,0,0,0,0,0,0,0,0,0,0,0,0,0,0,0,0,0,0,0,0,0,0,0,0,0,0,0,0,0,0,0,0,0,0,0,0,0,0,0,0,0,0,0,0,0,0,0,0,0,0,0,0,0,0,0]},{\"_typename\":\"TH1F\",\"fUniqueID\":0,\"fBits\":8,\"fName\":\"H_positron_pred_200\",\"fTitle\":\"Reconstructed Energy Distribution \",\"fLineColor\":4,\"fLineStyle\":1,\"fLineWidth\":1,\"fFillColor\":0,\"fFillStyle\":1001,\"fMarkerColor\":1,\"fMarkerStyle\":1,\"fMarkerSize\":1,\"fNcells\":102,\"fXaxis\":{\"_typename\":\"TAxis\",\"fUniqueID\":0,\"fBits\":0,\"fName\":\"xaxis\",\"fTitle\":\"Energy(GeV)\",\"fNdivisions\":510,\"fAxisColor\":1,\"fLabelColor\":1,\"fLabelFont\":42,\"fLabelOffset\":0.005,\"fLabelSize\":0.035,\"fTickLength\":0.03,\"fTitleOffset\":1,\"fTitleSize\":0.035,\"fTitleColor\":1,\"fTitleFont\":42,\"fNbins\":100,\"fXmin\":-10,\"fXmax\":400,\"fXbins\":[],\"fFirst\":0,\"fLast\":0,\"fBits2\":0,\"fTimeDisplay\":false,\"fTimeFormat\":\"\",\"fLabels\":null,\"fModLabs\":null},\"fYaxis\":{\"_typename\":\"TAxis\",\"fUniqueID\":0,\"fBits\":0,\"fName\":\"yaxis\",\"fTitle\":\"Normalized Entries\",\"fNdivisions\":510,\"fAxisColor\":1,\"fLabelColor\":1,\"fLabelFont\":42,\"fLabelOffset\":0.005,\"fLabelSize\":0.035,\"fTickLength\":0.03,\"fTitleOffset\":0,\"fTitleSize\":0.035,\"fTitleColor\":1,\"fTitleFont\":42,\"fNbins\":1,\"fXmin\":0,\"fXmax\":1,\"fXbins\":[],\"fFirst\":0,\"fLast\":0,\"fBits2\":0,\"fTimeDisplay\":false,\"fTimeFormat\":\"\",\"fLabels\":null,\"fModLabs\":null},\"fZaxis\":{\"_typename\":\"TAxis\",\"fUniqueID\":0,\"fBits\":0,\"fName\":\"zaxis\",\"fTitle\":\"\",\"fNdivisions\":510,\"fAxisColor\":1,\"fLabelColor\":1,\"fLabelFont\":42,\"fLabelOffset\":0.005,\"fLabelSize\":0.035,\"fTickLength\":0.03,\"fTitleOffset\":1,\"fTitleSize\":0.035,\"fTitleColor\":1,\"fTitleFont\":42,\"fNbins\":1,\"fXmin\":0,\"fXmax\":1,\"fXbins\":[],\"fFirst\":0,\"fLast\":0,\"fBits2\":0,\"fTimeDisplay\":false,\"fTimeFormat\":\"\",\"fLabels\":null,\"fModLabs\":null},\"fBarOffset\":0,\"fBarWidth\":1000,\"fEntries\":5009,\"fTsumw\":5009,\"fTsumw2\":5009,\"fTsumwx\":1002204.38020325,\"fTsumwx2\":200611447.214115,\"fMaximum\":-1111,\"fMinimum\":-1111,\"fNormFactor\":0,\"fContour\":[],\"fSumw2\":[],\"fOption\":\"\",\"fFunctions\":{\"_typename\":\"TList\",\"name\":\"TList\",\"arr\":[],\"opt\":[]},\"fBufferSize\":0,\"fBuffer\":[],\"fBinStatErrOpt\":0,\"fStatOverflows\":2,\"fArray\":[0,0,0,0,0,0,0,0,0,0,0,0,0,0,0,0,0,0,0,0,0,0,0,0,0,0,0,0,0,0,0,0,0,0,0,0,0,0,0,0,0,0,0,0,0,0,0,6,9,79,457,1422,1902,954,171,8,0,0,0,0,0,0,0,1,0,0,0,0,0,0,0,0,0,0,0,0,0,0,0,0,0,0,0,0,0,0,0,0,0,0,0,0,0,0,0,0,0,0,0,0,0,0]},{\"_typename\":\"TH1F\",\"fUniqueID\":0,\"fBits\":8,\"fName\":\"H_positron_pred_300\",\"fTitle\":\"Reconstructed Energy Distribution \",\"fLineColor\":5,\"fLineStyle\":1,\"fLineWidth\":1,\"fFillColor\":0,\"fFillStyle\":1001,\"fMarkerColor\":1,\"fMarkerStyle\":1,\"fMarkerSize\":1,\"fNcells\":102,\"fXaxis\":{\"_typename\":\"TAxis\",\"fUniqueID\":0,\"fBits\":0,\"fName\":\"xaxis\",\"fTitle\":\"Energy(GeV)\",\"fNdivisions\":510,\"fAxisColor\":1,\"fLabelColor\":1,\"fLabelFont\":42,\"fLabelOffset\":0.005,\"fLabelSize\":0.035,\"fTickLength\":0.03,\"fTitleOffset\":1,\"fTitleSize\":0.035,\"fTitleColor\":1,\"fTitleFont\":42,\"fNbins\":100,\"fXmin\":-10,\"fXmax\":400,\"fXbins\":[],\"fFirst\":0,\"fLast\":0,\"fBits2\":0,\"fTimeDisplay\":false,\"fTimeFormat\":\"\",\"fLabels\":null,\"fModLabs\":null},\"fYaxis\":{\"_typename\":\"TAxis\",\"fUniqueID\":0,\"fBits\":0,\"fName\":\"yaxis\",\"fTitle\":\"Normalized Entries\",\"fNdivisions\":510,\"fAxisColor\":1,\"fLabelColor\":1,\"fLabelFont\":42,\"fLabelOffset\":0.005,\"fLabelSize\":0.035,\"fTickLength\":0.03,\"fTitleOffset\":0,\"fTitleSize\":0.035,\"fTitleColor\":1,\"fTitleFont\":42,\"fNbins\":1,\"fXmin\":0,\"fXmax\":1,\"fXbins\":[],\"fFirst\":0,\"fLast\":0,\"fBits2\":0,\"fTimeDisplay\":false,\"fTimeFormat\":\"\",\"fLabels\":null,\"fModLabs\":null},\"fZaxis\":{\"_typename\":\"TAxis\",\"fUniqueID\":0,\"fBits\":0,\"fName\":\"zaxis\",\"fTitle\":\"\",\"fNdivisions\":510,\"fAxisColor\":1,\"fLabelColor\":1,\"fLabelFont\":42,\"fLabelOffset\":0.005,\"fLabelSize\":0.035,\"fTickLength\":0.03,\"fTitleOffset\":1,\"fTitleSize\":0.035,\"fTitleColor\":1,\"fTitleFont\":42,\"fNbins\":1,\"fXmin\":0,\"fXmax\":1,\"fXbins\":[],\"fFirst\":0,\"fLast\":0,\"fBits2\":0,\"fTimeDisplay\":false,\"fTimeFormat\":\"\",\"fLabels\":null,\"fModLabs\":null},\"fBarOffset\":0,\"fBarWidth\":1000,\"fEntries\":3904,\"fTsumw\":3904,\"fTsumw2\":3904,\"fTsumwx\":1142545.59759521,\"fTsumwx2\":334487787.670261,\"fMaximum\":-1111,\"fMinimum\":-1111,\"fNormFactor\":0,\"fContour\":[],\"fSumw2\":[],\"fOption\":\"\",\"fFunctions\":{\"_typename\":\"TList\",\"name\":\"TList\",\"arr\":[],\"opt\":[]},\"fBufferSize\":0,\"fBuffer\":[],\"fBinStatErrOpt\":0,\"fStatOverflows\":2,\"fArray\":[0,0,0,0,0,0,0,0,0,0,0,0,0,0,0,0,0,0,0,0,0,0,0,0,0,0,0,0,0,0,0,0,0,0,0,0,0,0,0,0,0,0,0,0,0,0,0,0,0,0,0,0,0,0,0,0,0,0,0,0,0,0,0,0,0,0,0,1,1,9,16,69,220,615,1143,1163,542,111,13,1,0,0,0,0,0,0,0,0,0,0,0,0,0,0,0,0,0,0,0,0,0,0]},{\"_typename\":\"TPaveText\",\"fUniqueID\":0,\"fBits\":9,\"fLineColor\":1,\"fLineStyle\":1,\"fLineWidth\":1,\"fFillColor\":0,\"fFillStyle\":0,\"fX1\":15.6249973271041,\"fY1\":4621.41289064842,\"fX2\":374.375002672896,\"fY2\":4959.53069229693,\"fX1NDC\":0.15,\"fY1NDC\":0.933983055615829,\"fX2NDC\":0.85,\"fY2NDC\":0.995000004768372,\"fBorderSize\":0,\"fInit\":1,\"fShadowColor\":1,\"fCornerRadius\":0,\"fOption\":\"blNDC\",\"fName\":\"title\",\"fTextAngle\":0,\"fTextSize\":0,\"fTextAlign\":22,\"fTextColor\":1,\"fTextFont\":42,\"fLabel\":\"\",\"fLongest\":44,\"fMargin\":0.05,\"fLines\":{\"_typename\":\"TList\",\"name\":\"TList\",\"arr\":[{\"_typename\":\"TLatex\",\"fUniqueID\":0,\"fBits\":0,\"fName\":\"\",\"fTitle\":\"Reconstructed Energy Distribution (Positron)\",\"fTextAngle\":0,\"fTextSize\":0,\"fTextAlign\":0,\"fTextColor\":0,\"fTextFont\":0,\"fX\":0,\"fY\":0,\"fLineColor\":1,\"fLineStyle\":1,\"fLineWidth\":2,\"fLimitFactorSize\":3,\"fOriginSize\":0.0518644079566002}],\"opt\":[\"\"]}},{\"_typename\":\"TStyle\",\"fUniqueID\":0,\"fBits\":0,\"fName\":\"Modern\",\"fTitle\":\"Modern Style\",\"fLineColor\":1,\"fLineStyle\":1,\"fLineWidth\":1,\"fFillColor\":19,\"fFillStyle\":1001,\"fMarkerColor\":1,\"fMarkerStyle\":1,\"fMarkerSize\":1,\"fTextAngle\":0,\"fTextSize\":0.05,\"fTextAlign\":11,\"fTextColor\":1,\"fTextFont\":62,\"fXaxis\":{\"_typename\":\"TAttAxis\",\"fNdivisions\":510,\"fAxisColor\":1,\"fLabelColor\":1,\"fLabelFont\":42,\"fLabelOffset\":0.005,\"fLabelSize\":0.035,\"fTickLength\":0.03,\"fTitleOffset\":1,\"fTitleSize\":0.035,\"fTitleColor\":1,\"fTitleFont\":42},\"fYaxis\":{\"_typename\":\"TAttAxis\",\"fNdivisions\":510,\"fAxisColor\":1,\"fLabelColor\":1,\"fLabelFont\":42,\"fLabelOffset\":0.005,\"fLabelSize\":0.035,\"fTickLength\":0.03,\"fTitleOffset\":0,\"fTitleSize\":0.035,\"fTitleColor\":1,\"fTitleFont\":42},\"fZaxis\":{\"_typename\":\"TAttAxis\",\"fNdivisions\":510,\"fAxisColor\":1,\"fLabelColor\":1,\"fLabelFont\":42,\"fLabelOffset\":0.005,\"fLabelSize\":0.035,\"fTickLength\":0.03,\"fTitleOffset\":1,\"fTitleSize\":0.035,\"fTitleColor\":1,\"fTitleFont\":42},\"fBarWidth\":1,\"fBarOffset\":0,\"fColorModelPS\":0,\"fDrawBorder\":0,\"fOptLogx\":0,\"fOptLogy\":0,\"fOptLogz\":0,\"fOptDate\":0,\"fOptStat\":1111,\"fOptTitle\":1,\"fOptFile\":0,\"fOptFit\":0,\"fShowEventStatus\":0,\"fShowEditor\":0,\"fShowToolBar\":0,\"fNumberContours\":20,\"fAttDate\":{\"_typename\":\"TAttText\",\"fTextAngle\":0,\"fTextSize\":0.025,\"fTextAlign\":11,\"fTextColor\":1,\"fTextFont\":62},\"fDateX\":0.01,\"fDateY\":0.01,\"fEndErrorSize\":2,\"fErrorX\":0.5,\"fFuncColor\":2,\"fFuncStyle\":1,\"fFuncWidth\":2,\"fGridColor\":0,\"fGridStyle\":3,\"fGridWidth\":1,\"fLegendBorderSize\":1,\"fLegendFillColor\":0,\"fLegendFont\":42,\"fLegendTextSize\":0,\"fHatchesLineWidth\":1,\"fHatchesSpacing\":1,\"fFrameFillColor\":0,\"fFrameLineColor\":1,\"fFrameFillStyle\":1001,\"fFrameLineStyle\":1,\"fFrameLineWidth\":1,\"fFrameBorderSize\":1,\"fFrameBorderMode\":0,\"fHistFillColor\":0,\"fHistLineColor\":602,\"fHistFillStyle\":1001,\"fHistLineStyle\":1,\"fHistLineWidth\":1,\"fHistMinimumZero\":false,\"fHistTopMargin\":0.05,\"fCanvasPreferGL\":false,\"fCanvasColor\":0,\"fCanvasBorderSize\":2,\"fCanvasBorderMode\":0,\"fCanvasDefH\":500,\"fCanvasDefW\":700,\"fCanvasDefX\":10,\"fCanvasDefY\":10,\"fPadColor\":0,\"fPadBorderSize\":2,\"fPadBorderMode\":0,\"fPadBottomMargin\":0.1,\"fPadTopMargin\":0.1,\"fPadLeftMargin\":0.1,\"fPadRightMargin\":0.1,\"fPadGridX\":false,\"fPadGridY\":false,\"fPadTickX\":0,\"fPadTickY\":0,\"fPaperSizeX\":20,\"fPaperSizeY\":26,\"fScreenFactor\":1,\"fStatColor\":0,\"fStatTextColor\":1,\"fStatBorderSize\":1,\"fStatFont\":42,\"fStatFontSize\":0,\"fStatStyle\":1001,\"fStatFormat\":\"6.4g\",\"fStatX\":0.98,\"fStatY\":0.935,\"fStatW\":0.2,\"fStatH\":0.16,\"fStripDecimals\":true,\"fTitleAlign\":23,\"fTitleColor\":0,\"fTitleTextColor\":1,\"fTitleBorderSize\":0,\"fTitleFont\":42,\"fTitleFontSize\":0.05,\"fTitleStyle\":0,\"fTitleX\":0.5,\"fTitleY\":0.995,\"fTitleW\":0,\"fTitleH\":0,\"fLegoInnerR\":0.5,\"fLineStyle\":[\"\",\"  \",\" 12 12\",\" 4 8\",\" 12 16 4 16\",\" 20 12 4 12\",\" 20 12 4 12 4 12 4 12\",\" 20 20\",\" 20 12 4 12 4 12\",\" 80 20\",\" 80 40 4 40\",\"  \",\"  \",\"  \",\"  \",\"  \",\"  \",\"  \",\"  \",\"  \",\"  \",\"  \",\"  \",\"  \",\"  \",\"  \",\"  \",\"  \",\"  \",\"  \"],\"fHeaderPS\":\"\",\"fTitlePS\":\"\",\"fFitFormat\":\"5.4g\",\"fPaintTextFormat\":\"g\",\"fLineScalePS\":3,\"fJoinLinePS\":0,\"fCapLinePS\":0,\"fTimeOffset\":788918400,\"fImageScaling\":1}],\"opt\":[\"\",\"\",\"same\",\"same\",\"same\",\"same\",\"blNDC\",\"\"]},\"fExecs\":null,\"fName\":\"c1_n2\",\"fTitle\":\"c1_n2\",\"fNumPaletteColor\":0,\"fNextPaletteColor\":0,\"fDISPLAY\":\"$DISPLAY\",\"fDoubleBuffer\":0,\"fRetained\":true,\"fXsizeUser\":0,\"fYsizeUser\":0,\"fXsizeReal\":20,\"fYsizeReal\":14.28571,\"fWindowTopX\":0,\"fWindowTopY\":0,\"fWindowWidth\":0,\"fWindowHeight\":0,\"fCw\":696,\"fCh\":472,\"fCatt\":{\"_typename\":\"TAttCanvas\",\"fXBetween\":2,\"fYBetween\":2,\"fTitleFromTop\":1.2,\"fXdate\":0.2,\"fYdate\":0.3,\"fAdate\":1},\"kMoveOpaque\":true,\"kResizeOpaque\":true,\"fHighLightColor\":2,\"fBatch\":true,\"kShowEventStatus\":false,\"kAutoExec\":true,\"kMenuBar\":true});\n",
       "       Core.key_handling = false;\n",
       "       Core.draw(\"root_plot_1607108856524\", obj, \"\");\n",
       "     }\n",
       " );\n",
       "</script>\n"
      ],
      "text/plain": [
       "<IPython.core.display.HTML object>"
      ]
     },
     "metadata": {},
     "output_type": "display_data"
    }
   ],
   "source": [
    "H_positron_pred_20 = ROOT.TH1F(\"H_positron_pred_20\",\"Reconstructed Energy Distribution (Positron);Energy(GeV);Normalized Entries\",100,-10,400)\n",
    "H_positron_pred_50 = ROOT.TH1F(\"H_positron_pred_50\",\"Reconstructed Energy Distribution ;Energy(GeV);Normalized Entries\",100,-10,400)\n",
    "H_positron_pred_100 = ROOT.TH1F(\"H_positron_pred_100\",\"Reconstructed Energy Distribution ;Energy(GeV);Normalized Entries\",100,-10,400)\n",
    "H_positron_pred_200 = ROOT.TH1F(\"H_positron_pred_200\",\"Reconstructed Energy Distribution ;Energy(GeV);Normalized Entries\",100,-10,400)\n",
    "H_positron_pred_300 = ROOT.TH1F(\"H_positron_pred_300\",\"Reconstructed Energy Distribution ;Energy(GeV);Normalized Entries\",100,-10,400)\n",
    "\n",
    "\n",
    "\n",
    "for i in range(pred_energy_positron[0].size):\n",
    "    H_positron_pred_20.Fill(pred_energy_positron[0][i])\n",
    "    \n",
    "for i in range(pred_energy_positron[1].size):\n",
    "    H_positron_pred_50.Fill(pred_energy_positron[1][i])\n",
    "    \n",
    "for i in range(pred_energy_positron[2].size):\n",
    "    H_positron_pred_100.Fill(pred_energy_positron[2][i])\n",
    "    \n",
    "for i in range(pred_energy_positron[3].size):\n",
    "    H_positron_pred_200.Fill(pred_energy_positron[3][i])\n",
    "    \n",
    "for i in range(pred_energy_positron[4].size):\n",
    "    H_positron_pred_300.Fill(pred_energy_positron[4][i])\n",
    "    \n",
    "\n",
    "\n",
    "H_positron_pred_20.SetLineColor(1)\n",
    "H_positron_pred_50.SetLineColor(2)\n",
    "H_positron_pred_100.SetLineColor(3)\n",
    "H_positron_pred_200.SetLineColor(4)\n",
    "H_positron_pred_300.SetLineColor(5)\n",
    "\n",
    "\n",
    "\n",
    "\n",
    "H_positron_pred_20.Draw()\n",
    "H_positron_pred_50.Draw('same')\n",
    "H_positron_pred_100.Draw('same')\n",
    "H_positron_pred_200.Draw('same')\n",
    "H_positron_pred_300.Draw('same')\n",
    "\n",
    "\n",
    "\n",
    "#ROOT.gPad.SetLogy()\n",
    "c.Draw()"
   ]
  },
  {
   "cell_type": "code",
   "execution_count": 24,
   "metadata": {},
   "outputs": [
    {
     "name": "stdout",
     "output_type": "stream",
     "text": [
      "[26.708859643647283, 54.69218027067449, 102.48287311848159, 192.84289017923518, 278.75497598294504]\n"
     ]
    },
    {
     "data": {
      "text/plain": [
       "[21.168865006099203,\n",
       " 21.251880082133443,\n",
       " 25.695416186588922,\n",
       " 41.72698001305679,\n",
       " 58.50539692153566]"
      ]
     },
     "execution_count": 24,
     "metadata": {},
     "output_type": "execute_result"
    }
   ],
   "source": [
    "pion_means = []\n",
    "pion_stds = []\n",
    "\n",
    "pion_means.append(H_pion_pred_20.GetMean())\n",
    "pion_means.append(H_pion_pred_50.GetMean())\n",
    "pion_means.append(H_pion_pred_100.GetMean())\n",
    "pion_means.append(H_pion_pred_200.GetMean())\n",
    "pion_means.append(H_pion_pred_300.GetMean())\n",
    "\n",
    "pion_stds.append(H_pion_pred_20.GetStdDev())\n",
    "pion_stds.append(H_pion_pred_50.GetStdDev())\n",
    "pion_stds.append(H_pion_pred_100.GetStdDev())\n",
    "pion_stds.append(H_pion_pred_200.GetStdDev())\n",
    "pion_stds.append(H_pion_pred_300.GetStdDev())\n",
    "\n",
    "print(pion_means)\n",
    "pion_stds"
   ]
  },
  {
   "cell_type": "code",
   "execution_count": 25,
   "metadata": {},
   "outputs": [
    {
     "name": "stdout",
     "output_type": "stream",
     "text": [
      "[20.505899180299842, 49.630283699027764, 100.00090335626419, 200.08073072534378, 292.6602452856595]\n"
     ]
    },
    {
     "data": {
      "text/plain": [
       "[1.7450590518589297,\n",
       " 2.2600263426117486,\n",
       " 3.0250932040168634,\n",
       " 4.230871882172724,\n",
       " 5.310850225870337]"
      ]
     },
     "execution_count": 25,
     "metadata": {},
     "output_type": "execute_result"
    }
   ],
   "source": [
    "positron_means = []\n",
    "positron_stds = []\n",
    "\n",
    "positron_means.append(H_positron_pred_20.GetMean())\n",
    "positron_means.append(H_positron_pred_50.GetMean())\n",
    "positron_means.append(H_positron_pred_100.GetMean())\n",
    "positron_means.append(H_positron_pred_200.GetMean())\n",
    "positron_means.append(H_positron_pred_300.GetMean())\n",
    "\n",
    "positron_stds.append(H_positron_pred_20.GetStdDev())\n",
    "positron_stds.append(H_positron_pred_50.GetStdDev())\n",
    "positron_stds.append(H_positron_pred_100.GetStdDev())\n",
    "positron_stds.append(H_positron_pred_200.GetStdDev())\n",
    "positron_stds.append(H_positron_pred_300.GetStdDev())\n",
    "\n",
    "print(positron_means)\n",
    "positron_stds"
   ]
  },
  {
   "cell_type": "code",
   "execution_count": 26,
   "metadata": {},
   "outputs": [
    {
     "data": {
      "image/png": "[encoded data removed]",
      "text/plain": [
       "<Figure size 432x288 with 1 Axes>"
      ]
     },
     "metadata": {
      "needs_background": "light"
     },
     "output_type": "display_data"
    }
   ],
   "source": [
    "ene = [20, 50, 100, 200, 300]\n",
    "\n",
    "plt.scatter(ene, pion_means, label=\"Pion\", color=\"b\")\n",
    "plt.scatter(ene, positron_means, label=\"Positron\", color=\"g\")\n",
    "\n",
    "plt.xlabel(\"Energy (GeV)\")\n",
    "plt.ylabel(\"Response (GeV)\")\n",
    "plt.title(\"Response\")\n",
    "\n",
    "plt.grid(linestyle='--')\n",
    "plt.legend()\n",
    "plt.show()"
   ]
  },
  {
   "cell_type": "code",
   "execution_count": 27,
   "metadata": {},
   "outputs": [
    {
     "data": {
      "image/png": "[encoded data removed]",
      "text/plain": [
       "<Figure size 432x288 with 1 Axes>"
      ]
     },
     "metadata": {
      "needs_background": "light"
     },
     "output_type": "display_data"
    }
   ],
   "source": [
    "plt.scatter(ene, np.array(pion_stds)/np.array(pion_means), label=\"Pion\", color=\"b\")\n",
    "plt.scatter(ene, np.array(positron_stds)/np.array(positron_means), label=\"Positron\", color=\"g\")\n",
    "\n",
    "plt.xlabel(\"Energy (GeV)\")\n",
    "plt.ylabel(\"Resolution \")\n",
    "plt.title(\"Resolution\")\n",
    "\n",
    "plt.grid(linestyle='--')\n",
    "plt.legend()\n",
    "plt.show()"
   ]
  },
  {
   "cell_type": "code",
   "execution_count": 32,
   "metadata": {},
   "outputs": [
    {
     "data": {
      "image/png": "[encoded data removed]",
      "text/plain": [
       "<Figure size 432x288 with 1 Axes>"
      ]
     },
     "metadata": {
      "needs_background": "light"
     },
     "output_type": "display_data"
    }
   ],
   "source": [
    "plt.scatter(ene, np.array(pion_means)/np.array(ene), label=\"Pion\", color=\"b\")\n",
    "plt.scatter(ene, np.array(positron_means)/np.array(ene), label=\"Positron\", color=\"g\")\n",
    "\n",
    "plt.xlabel(\"Energy (GeV)\")\n",
    "plt.ylabel(\"Resolution \")\n",
    "plt.title(\"Resolution\")\n",
    "\n",
    "plt.grid(linestyle='--')\n",
    "plt.legend()\n",
    "plt.show()"
   ]
  },
  {
   "cell_type": "code",
   "execution_count": null,
   "metadata": {},
   "outputs": [],
   "source": [
    "%jsroot on\n",
    "c = ROOT.TCanvas()\n",
    "\n",
    "H_pion_pred_20 = ROOT.TH1F(\"H_pion_pred_20\",\"Reconstructed Energy Distribution (pion);Energy(GeV);Normalized Entries\",100,-10,400)\n",
    "H_pion_pred_50 = ROOT.TH1F(\"H_pion_pred_50\",\"Reconstructed Energy Distribution ;Energy(GeV);Normalized Entries\",100,-10,400)\n",
    "H_pion_pred_100 = ROOT.TH1F(\"H_pion_pred_100\",\"Reconstructed Energy Distribution ;Energy(GeV);Normalized Entries\",100,-10,400)\n",
    "H_pion_pred_200 = ROOT.TH1F(\"H_pion_pred_200\",\"Reconstructed Energy Distribution ;Energy(GeV);Normalized Entries\",100,-10,400)\n",
    "H_pion_pred_300 = ROOT.TH1F(\"H_pion_pred_300\",\"Reconstructed Energy Distribution ;Energy(GeV);Normalized Entries\",100,-10,400)\n",
    "\n",
    "\n",
    "\n",
    "for i in range(pred_energy_pion[0].size):\n",
    "    H_pion_pred_20.Fill(pred_energy_pion[0][i])\n",
    "    \n",
    "for i in range(pred_energy_pion[1].size):\n",
    "    H_pion_pred_50.Fill(pred_energy_pion[1][i])\n",
    "    \n",
    "for i in range(pred_energy_pion[2].size):\n",
    "    H_pion_pred_100.Fill(pred_energy_pion[2][i])\n",
    "    \n",
    "for i in range(pred_energy_pion[3].size):\n",
    "    H_pion_pred_200.Fill(pred_energy_pion[3][i])\n",
    "    \n",
    "for i in range(pred_energy_pion[4].size):\n",
    "    H_pion_pred_300.Fill(pred_energy_pion[4][i])\n",
    "    \n",
    "\n",
    "\n",
    "H_pion_pred_20.SetLineColor(1)\n",
    "H_pion_pred_50.SetLineColor(2)\n",
    "H_pion_pred_100.SetLineColor(3)\n",
    "H_pion_pred_200.SetLineColor(4)\n",
    "H_pion_pred_300.SetLineColor(5)\n",
    "\n",
    "\n",
    "\n",
    "\n",
    "H_pion_pred_20.Draw()\n",
    "H_pion_pred_50.Draw('same')\n",
    "H_pion_pred_100.Draw('same')\n",
    "H_pion_pred_200.Draw('same')\n",
    "H_pion_pred_300.Draw('same')\n",
    "\n",
    "\n",
    "\n",
    "#ROOT.gPad.SetLogy()\n",
    "c.Draw()\n",
    "\n",
    "\n",
    "pion_means = []\n",
    "pion_stds = []\n",
    "\n",
    "pion_means.append(H_pion_pred_20.GetMean())\n",
    "pion_means.append(H_pion_pred_50.GetMean())\n",
    "pion_means.append(H_pion_pred_100.GetMean())\n",
    "pion_means.append(H_pion_pred_200.GetMean())\n",
    "pion_means.append(H_pion_pred_300.GetMean())\n",
    "\n",
    "pion_stds.append(H_pion_pred_20.GetStdDev())\n",
    "pion_stds.append(H_pion_pred_50.GetStdDev())\n",
    "pion_stds.append(H_pion_pred_100.GetStdDev())\n",
    "pion_stds.append(H_pion_pred_200.GetStdDev())\n",
    "pion_stds.append(H_pion_pred_300.GetStdDev())\n",
    "\n",
    "print(pion_means)\n",
    "pion_stds"
   ]
  },
  {
   "cell_type": "code",
   "execution_count": null,
   "metadata": {},
   "outputs": [],
   "source": []
  }
 ],
 "metadata": {
  "kernelspec": {
   "display_name": "Python 3",
   "language": "python",
   "name": "python3"
  },
  "language_info": {
   "codemirror_mode": {
    "name": "ipython",
    "version": 3
   },
   "file_extension": ".py",
   "mimetype": "text/x-python",
   "name": "python",
   "nbconvert_exporter": "python",
   "pygments_lexer": "ipython3",
   "version": "3.8.5"
  }
 },
 "nbformat": 4,
 "nbformat_minor": 4
}
