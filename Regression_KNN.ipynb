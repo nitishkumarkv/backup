{
 "cells": [
  {
   "cell_type": "code",
   "execution_count": 1,
   "metadata": {},
   "outputs": [],
   "source": [
    "import pandas as pd\n",
    "import numpy as np\n",
    "\n",
    "import seaborn as sns\n",
    "import matplotlib.pyplot as plt\n",
    "%matplotlib inline"
   ]
  },
  {
   "cell_type": "code",
   "execution_count": 2,
   "metadata": {},
   "outputs": [
    {
     "data": {
      "text/html": [
       "<div>\n",
       "<style scoped>\n",
       "    .dataframe tbody tr th:only-of-type {\n",
       "        vertical-align: middle;\n",
       "    }\n",
       "\n",
       "    .dataframe tbody tr th {\n",
       "        vertical-align: top;\n",
       "    }\n",
       "\n",
       "    .dataframe thead th {\n",
       "        text-align: right;\n",
       "    }\n",
       "</style>\n",
       "<table border=\"1\" class=\"dataframe\">\n",
       "  <thead>\n",
       "    <tr style=\"text-align: right;\">\n",
       "      <th></th>\n",
       "      <th>beamEnergy</th>\n",
       "      <th>trueBeamEnergy</th>\n",
       "      <th>lay_energy</th>\n",
       "      <th>totEne_std</th>\n",
       "    </tr>\n",
       "  </thead>\n",
       "  <tbody>\n",
       "    <tr>\n",
       "      <th>469388</th>\n",
       "      <td>300.0</td>\n",
       "      <td>302.028625</td>\n",
       "      <td>[0.6774013042449951, 3.8306031227111816, 0.745...</td>\n",
       "      <td>[58.38472819328308, 3185.633409622824, 5652.10...</td>\n",
       "    </tr>\n",
       "    <tr>\n",
       "      <th>221341</th>\n",
       "      <td>100.0</td>\n",
       "      <td>99.577240</td>\n",
       "      <td>[2.0719006061553955, 2.016815185546875, 1.2768...</td>\n",
       "      <td>[1547.1951704323292, 631.3814797792584, 787.53...</td>\n",
       "    </tr>\n",
       "    <tr>\n",
       "      <th>351415</th>\n",
       "      <td>200.0</td>\n",
       "      <td>199.088165</td>\n",
       "      <td>[0.9237810969352722, 1.8481943607330322, 1.052...</td>\n",
       "      <td>[13043.029094567522, 890.3392220679671, 0.0, 3...</td>\n",
       "    </tr>\n",
       "    <tr>\n",
       "      <th>170813</th>\n",
       "      <td>50.0</td>\n",
       "      <td>49.566555</td>\n",
       "      <td>[1.3247671127319336, 1.2322539389133453, 1.167...</td>\n",
       "      <td>[2736.0301661789417, 15.79646509885788, 0.6681...</td>\n",
       "    </tr>\n",
       "    <tr>\n",
       "      <th>155352</th>\n",
       "      <td>50.0</td>\n",
       "      <td>49.580795</td>\n",
       "      <td>[0.8254274129867554, 1.221725344657898, 1.0039...</td>\n",
       "      <td>[39.59376472234726, 509.28097496926785, 38.062...</td>\n",
       "    </tr>\n",
       "    <tr>\n",
       "      <th>...</th>\n",
       "      <td>...</td>\n",
       "      <td>...</td>\n",
       "      <td>...</td>\n",
       "      <td>...</td>\n",
       "    </tr>\n",
       "    <tr>\n",
       "      <th>125043</th>\n",
       "      <td>50.0</td>\n",
       "      <td>49.747456</td>\n",
       "      <td>[0.9296020269393921, 1.071818232536316, 0.9877...</td>\n",
       "      <td>[392.5351561307907, 670.2571065686643, 0.0, 3....</td>\n",
       "    </tr>\n",
       "    <tr>\n",
       "      <th>445804</th>\n",
       "      <td>300.0</td>\n",
       "      <td>296.598419</td>\n",
       "      <td>[355.851594209671, 237.71247899532318, 413.946...</td>\n",
       "      <td>[10965.104797500186, 1092.0883614122868, 621.0...</td>\n",
       "    </tr>\n",
       "    <tr>\n",
       "      <th>256963</th>\n",
       "      <td>100.0</td>\n",
       "      <td>100.537315</td>\n",
       "      <td>[0.7462937235832214, 0.9820317029953003, 1.276...</td>\n",
       "      <td>[5598.700338477269, 397.8625102080405, 0.0, 3....</td>\n",
       "    </tr>\n",
       "    <tr>\n",
       "      <th>190051</th>\n",
       "      <td>50.0</td>\n",
       "      <td>49.442238</td>\n",
       "      <td>[0.8751309514045715, 0.8454559445381165, 1.157...</td>\n",
       "      <td>[582.0988074243069, 532.9226724132895, 253.366...</td>\n",
       "    </tr>\n",
       "    <tr>\n",
       "      <th>475757</th>\n",
       "      <td>300.0</td>\n",
       "      <td>302.944305</td>\n",
       "      <td>[1.5136513710021973, 1.2584999799728394, 1.654...</td>\n",
       "      <td>[15104.552676785737, 1972.7559262104332, 68.61...</td>\n",
       "    </tr>\n",
       "  </tbody>\n",
       "</table>\n",
       "<p>497521 rows × 4 columns</p>\n",
       "</div>"
      ],
      "text/plain": [
       "        beamEnergy  trueBeamEnergy  \\\n",
       "469388       300.0      302.028625   \n",
       "221341       100.0       99.577240   \n",
       "351415       200.0      199.088165   \n",
       "170813        50.0       49.566555   \n",
       "155352        50.0       49.580795   \n",
       "...            ...             ...   \n",
       "125043        50.0       49.747456   \n",
       "445804       300.0      296.598419   \n",
       "256963       100.0      100.537315   \n",
       "190051        50.0       49.442238   \n",
       "475757       300.0      302.944305   \n",
       "\n",
       "                                               lay_energy  \\\n",
       "469388  [0.6774013042449951, 3.8306031227111816, 0.745...   \n",
       "221341  [2.0719006061553955, 2.016815185546875, 1.2768...   \n",
       "351415  [0.9237810969352722, 1.8481943607330322, 1.052...   \n",
       "170813  [1.3247671127319336, 1.2322539389133453, 1.167...   \n",
       "155352  [0.8254274129867554, 1.221725344657898, 1.0039...   \n",
       "...                                                   ...   \n",
       "125043  [0.9296020269393921, 1.071818232536316, 0.9877...   \n",
       "445804  [355.851594209671, 237.71247899532318, 413.946...   \n",
       "256963  [0.7462937235832214, 0.9820317029953003, 1.276...   \n",
       "190051  [0.8751309514045715, 0.8454559445381165, 1.157...   \n",
       "475757  [1.5136513710021973, 1.2584999799728394, 1.654...   \n",
       "\n",
       "                                               totEne_std  \n",
       "469388  [58.38472819328308, 3185.633409622824, 5652.10...  \n",
       "221341  [1547.1951704323292, 631.3814797792584, 787.53...  \n",
       "351415  [13043.029094567522, 890.3392220679671, 0.0, 3...  \n",
       "170813  [2736.0301661789417, 15.79646509885788, 0.6681...  \n",
       "155352  [39.59376472234726, 509.28097496926785, 38.062...  \n",
       "...                                                   ...  \n",
       "125043  [392.5351561307907, 670.2571065686643, 0.0, 3....  \n",
       "445804  [10965.104797500186, 1092.0883614122868, 621.0...  \n",
       "256963  [5598.700338477269, 397.8625102080405, 0.0, 3....  \n",
       "190051  [582.0988074243069, 532.9226724132895, 253.366...  \n",
       "475757  [15104.552676785737, 1972.7559262104332, 68.61...  \n",
       "\n",
       "[497521 rows x 4 columns]"
      ]
     },
     "execution_count": 2,
     "metadata": {},
     "output_type": "execute_result"
    }
   ],
   "source": [
    "pion_features_data = pd.read_pickle(\"new_combined_data_pion_ene_std.pkl\")\n",
    "pion_features_data"
   ]
  },
  {
   "cell_type": "code",
   "execution_count": 3,
   "metadata": {},
   "outputs": [],
   "source": [
    "def features(df):\n",
    "    return np.array(list(df.lay_energy) + list(df.totEne_std)  )"
   ]
  },
  {
   "cell_type": "code",
   "execution_count": 4,
   "metadata": {},
   "outputs": [
    {
     "data": {
      "text/html": [
       "<div>\n",
       "<style scoped>\n",
       "    .dataframe tbody tr th:only-of-type {\n",
       "        vertical-align: middle;\n",
       "    }\n",
       "\n",
       "    .dataframe tbody tr th {\n",
       "        vertical-align: top;\n",
       "    }\n",
       "\n",
       "    .dataframe thead th {\n",
       "        text-align: right;\n",
       "    }\n",
       "</style>\n",
       "<table border=\"1\" class=\"dataframe\">\n",
       "  <thead>\n",
       "    <tr style=\"text-align: right;\">\n",
       "      <th></th>\n",
       "      <th>beamEnergy</th>\n",
       "      <th>trueBeamEnergy</th>\n",
       "      <th>lay_energy</th>\n",
       "      <th>totEne_std</th>\n",
       "      <th>features</th>\n",
       "    </tr>\n",
       "  </thead>\n",
       "  <tbody>\n",
       "    <tr>\n",
       "      <th>469388</th>\n",
       "      <td>300.0</td>\n",
       "      <td>302.028625</td>\n",
       "      <td>[0.6774013042449951, 3.8306031227111816, 0.745...</td>\n",
       "      <td>[58.38472819328308, 3185.633409622824, 5652.10...</td>\n",
       "      <td>[0.6774013042449951, 3.8306031227111816, 0.745...</td>\n",
       "    </tr>\n",
       "    <tr>\n",
       "      <th>221341</th>\n",
       "      <td>100.0</td>\n",
       "      <td>99.577240</td>\n",
       "      <td>[2.0719006061553955, 2.016815185546875, 1.2768...</td>\n",
       "      <td>[1547.1951704323292, 631.3814797792584, 787.53...</td>\n",
       "      <td>[2.0719006061553955, 2.016815185546875, 1.2768...</td>\n",
       "    </tr>\n",
       "    <tr>\n",
       "      <th>351415</th>\n",
       "      <td>200.0</td>\n",
       "      <td>199.088165</td>\n",
       "      <td>[0.9237810969352722, 1.8481943607330322, 1.052...</td>\n",
       "      <td>[13043.029094567522, 890.3392220679671, 0.0, 3...</td>\n",
       "      <td>[0.9237810969352722, 1.8481943607330322, 1.052...</td>\n",
       "    </tr>\n",
       "    <tr>\n",
       "      <th>170813</th>\n",
       "      <td>50.0</td>\n",
       "      <td>49.566555</td>\n",
       "      <td>[1.3247671127319336, 1.2322539389133453, 1.167...</td>\n",
       "      <td>[2736.0301661789417, 15.79646509885788, 0.6681...</td>\n",
       "      <td>[1.3247671127319336, 1.2322539389133453, 1.167...</td>\n",
       "    </tr>\n",
       "    <tr>\n",
       "      <th>155352</th>\n",
       "      <td>50.0</td>\n",
       "      <td>49.580795</td>\n",
       "      <td>[0.8254274129867554, 1.221725344657898, 1.0039...</td>\n",
       "      <td>[39.59376472234726, 509.28097496926785, 38.062...</td>\n",
       "      <td>[0.8254274129867554, 1.221725344657898, 1.0039...</td>\n",
       "    </tr>\n",
       "    <tr>\n",
       "      <th>...</th>\n",
       "      <td>...</td>\n",
       "      <td>...</td>\n",
       "      <td>...</td>\n",
       "      <td>...</td>\n",
       "      <td>...</td>\n",
       "    </tr>\n",
       "    <tr>\n",
       "      <th>125043</th>\n",
       "      <td>50.0</td>\n",
       "      <td>49.747456</td>\n",
       "      <td>[0.9296020269393921, 1.071818232536316, 0.9877...</td>\n",
       "      <td>[392.5351561307907, 670.2571065686643, 0.0, 3....</td>\n",
       "      <td>[0.9296020269393921, 1.071818232536316, 0.9877...</td>\n",
       "    </tr>\n",
       "    <tr>\n",
       "      <th>445804</th>\n",
       "      <td>300.0</td>\n",
       "      <td>296.598419</td>\n",
       "      <td>[355.851594209671, 237.71247899532318, 413.946...</td>\n",
       "      <td>[10965.104797500186, 1092.0883614122868, 621.0...</td>\n",
       "      <td>[355.851594209671, 237.71247899532318, 413.946...</td>\n",
       "    </tr>\n",
       "    <tr>\n",
       "      <th>256963</th>\n",
       "      <td>100.0</td>\n",
       "      <td>100.537315</td>\n",
       "      <td>[0.7462937235832214, 0.9820317029953003, 1.276...</td>\n",
       "      <td>[5598.700338477269, 397.8625102080405, 0.0, 3....</td>\n",
       "      <td>[0.7462937235832214, 0.9820317029953003, 1.276...</td>\n",
       "    </tr>\n",
       "    <tr>\n",
       "      <th>190051</th>\n",
       "      <td>50.0</td>\n",
       "      <td>49.442238</td>\n",
       "      <td>[0.8751309514045715, 0.8454559445381165, 1.157...</td>\n",
       "      <td>[582.0988074243069, 532.9226724132895, 253.366...</td>\n",
       "      <td>[0.8751309514045715, 0.8454559445381165, 1.157...</td>\n",
       "    </tr>\n",
       "    <tr>\n",
       "      <th>475757</th>\n",
       "      <td>300.0</td>\n",
       "      <td>302.944305</td>\n",
       "      <td>[1.5136513710021973, 1.2584999799728394, 1.654...</td>\n",
       "      <td>[15104.552676785737, 1972.7559262104332, 68.61...</td>\n",
       "      <td>[1.5136513710021973, 1.2584999799728394, 1.654...</td>\n",
       "    </tr>\n",
       "  </tbody>\n",
       "</table>\n",
       "<p>497521 rows × 5 columns</p>\n",
       "</div>"
      ],
      "text/plain": [
       "        beamEnergy  trueBeamEnergy  \\\n",
       "469388       300.0      302.028625   \n",
       "221341       100.0       99.577240   \n",
       "351415       200.0      199.088165   \n",
       "170813        50.0       49.566555   \n",
       "155352        50.0       49.580795   \n",
       "...            ...             ...   \n",
       "125043        50.0       49.747456   \n",
       "445804       300.0      296.598419   \n",
       "256963       100.0      100.537315   \n",
       "190051        50.0       49.442238   \n",
       "475757       300.0      302.944305   \n",
       "\n",
       "                                               lay_energy  \\\n",
       "469388  [0.6774013042449951, 3.8306031227111816, 0.745...   \n",
       "221341  [2.0719006061553955, 2.016815185546875, 1.2768...   \n",
       "351415  [0.9237810969352722, 1.8481943607330322, 1.052...   \n",
       "170813  [1.3247671127319336, 1.2322539389133453, 1.167...   \n",
       "155352  [0.8254274129867554, 1.221725344657898, 1.0039...   \n",
       "...                                                   ...   \n",
       "125043  [0.9296020269393921, 1.071818232536316, 0.9877...   \n",
       "445804  [355.851594209671, 237.71247899532318, 413.946...   \n",
       "256963  [0.7462937235832214, 0.9820317029953003, 1.276...   \n",
       "190051  [0.8751309514045715, 0.8454559445381165, 1.157...   \n",
       "475757  [1.5136513710021973, 1.2584999799728394, 1.654...   \n",
       "\n",
       "                                               totEne_std  \\\n",
       "469388  [58.38472819328308, 3185.633409622824, 5652.10...   \n",
       "221341  [1547.1951704323292, 631.3814797792584, 787.53...   \n",
       "351415  [13043.029094567522, 890.3392220679671, 0.0, 3...   \n",
       "170813  [2736.0301661789417, 15.79646509885788, 0.6681...   \n",
       "155352  [39.59376472234726, 509.28097496926785, 38.062...   \n",
       "...                                                   ...   \n",
       "125043  [392.5351561307907, 670.2571065686643, 0.0, 3....   \n",
       "445804  [10965.104797500186, 1092.0883614122868, 621.0...   \n",
       "256963  [5598.700338477269, 397.8625102080405, 0.0, 3....   \n",
       "190051  [582.0988074243069, 532.9226724132895, 253.366...   \n",
       "475757  [15104.552676785737, 1972.7559262104332, 68.61...   \n",
       "\n",
       "                                                 features  \n",
       "469388  [0.6774013042449951, 3.8306031227111816, 0.745...  \n",
       "221341  [2.0719006061553955, 2.016815185546875, 1.2768...  \n",
       "351415  [0.9237810969352722, 1.8481943607330322, 1.052...  \n",
       "170813  [1.3247671127319336, 1.2322539389133453, 1.167...  \n",
       "155352  [0.8254274129867554, 1.221725344657898, 1.0039...  \n",
       "...                                                   ...  \n",
       "125043  [0.9296020269393921, 1.071818232536316, 0.9877...  \n",
       "445804  [355.851594209671, 237.71247899532318, 413.946...  \n",
       "256963  [0.7462937235832214, 0.9820317029953003, 1.276...  \n",
       "190051  [0.8751309514045715, 0.8454559445381165, 1.157...  \n",
       "475757  [1.5136513710021973, 1.2584999799728394, 1.654...  \n",
       "\n",
       "[497521 rows x 5 columns]"
      ]
     },
     "execution_count": 4,
     "metadata": {},
     "output_type": "execute_result"
    }
   ],
   "source": [
    "pion_features_data[\"features\"] = pion_features_data.apply(features, axis=1)\n",
    "pion_features_data"
   ]
  },
  {
   "cell_type": "code",
   "execution_count": 5,
   "metadata": {},
   "outputs": [
    {
     "name": "stdout",
     "output_type": "stream",
     "text": [
      "(400000, 84)\n"
     ]
    },
    {
     "data": {
      "text/plain": [
       "(400000,)"
      ]
     },
     "execution_count": 5,
     "metadata": {},
     "output_type": "execute_result"
    }
   ],
   "source": [
    "X = np.stack(pion_features_data.head(400000).features.values)\n",
    "print(X.shape)\n",
    "\n",
    "y = pion_features_data.head(400000).trueBeamEnergy.values\n",
    "y.shape"
   ]
  },
  {
   "cell_type": "code",
   "execution_count": 6,
   "metadata": {},
   "outputs": [],
   "source": [
    "#from sklearn.model_selection import train_test_split\n",
    "\n",
    "#X_train, X_val, y_train, y_val = train_test_split(X, y, test_size=0.8, random_state=34)\n",
    "#print(X_train.shape)\n",
    "#y_train.shape"
   ]
  },
  {
   "cell_type": "code",
   "execution_count": 7,
   "metadata": {},
   "outputs": [
    {
     "name": "stdout",
     "output_type": "stream",
     "text": [
      "(97521, 84)\n"
     ]
    },
    {
     "data": {
      "text/plain": [
       "(97521,)"
      ]
     },
     "execution_count": 7,
     "metadata": {},
     "output_type": "execute_result"
    }
   ],
   "source": [
    "X_test = np.stack(pion_features_data.tail(497521-400000).features.values)\n",
    "y_test = pion_features_data.tail(497521-400000).trueBeamEnergy.values\n",
    "print(X_test.shape)\n",
    "y_test.shape"
   ]
  },
  {
   "cell_type": "code",
   "execution_count": 8,
   "metadata": {},
   "outputs": [],
   "source": [
    "from sklearn.linear_model import LinearRegression\n",
    "from sklearn.cluster import KMeans\n",
    "from sklearn.pipeline import Pipeline\n",
    "from sklearn.model_selection import GridSearchCV\n",
    "from sklearn.metrics import mean_squared_error"
   ]
  },
  {
   "cell_type": "code",
   "execution_count": 9,
   "metadata": {},
   "outputs": [
    {
     "name": "stdout",
     "output_type": "stream",
     "text": [
      "[Pipeline] ............ (step 1 of 2) Processing kmeans, total=10.5min\n",
      "[Pipeline] ........... (step 2 of 2) Processing lin_reg, total=  33.0s\n"
     ]
    },
    {
     "data": {
      "text/plain": [
       "Pipeline(steps=[('kmeans', KMeans(n_clusters=150)),\n",
       "                ('lin_reg', LinearRegression())],\n",
       "         verbose=True)"
      ]
     },
     "execution_count": 9,
     "metadata": {},
     "output_type": "execute_result"
    }
   ],
   "source": [
    "pipeline = Pipeline([\n",
    "(\"kmeans\", KMeans(n_clusters=150)),\n",
    "(\"lin_reg\", LinearRegression()),\n",
    "], verbose=True)\n",
    "pipeline.fit(X, y)"
   ]
  },
  {
   "cell_type": "code",
   "execution_count": 11,
   "metadata": {},
   "outputs": [
    {
     "data": {
      "text/plain": [
       "472.5528693359803"
      ]
     },
     "execution_count": 11,
     "metadata": {},
     "output_type": "execute_result"
    }
   ],
   "source": [
    "mean_squared_error(y_test, pipeline.predict(X_test))"
   ]
  },
  {
   "cell_type": "code",
   "execution_count": 66,
   "metadata": {},
   "outputs": [
    {
     "name": "stdout",
     "output_type": "stream",
     "text": [
      "Fitting 2 folds for each of 5 candidates, totalling 10 fits\n"
     ]
    },
    {
     "name": "stderr",
     "output_type": "stream",
     "text": [
      "[Parallel(n_jobs=1)]: Using backend SequentialBackend with 1 concurrent workers.\n"
     ]
    },
    {
     "name": "stdout",
     "output_type": "stream",
     "text": [
      "[CV] kmeans__n_clusters=105 ..........................................\n",
      "[Pipeline] ............ (step 1 of 2) Processing kmeans, total= 1.6min\n",
      "[Pipeline] ........... (step 2 of 2) Processing lin_reg, total=   1.5s\n",
      "[CV] ........................... kmeans__n_clusters=105, total= 1.6min\n",
      "[CV] kmeans__n_clusters=105 ..........................................\n"
     ]
    },
    {
     "name": "stderr",
     "output_type": "stream",
     "text": [
      "[Parallel(n_jobs=1)]: Done   1 out of   1 | elapsed:  1.6min remaining:    0.0s\n"
     ]
    },
    {
     "name": "stdout",
     "output_type": "stream",
     "text": [
      "[Pipeline] ............ (step 1 of 2) Processing kmeans, total= 1.6min\n",
      "[Pipeline] ........... (step 2 of 2) Processing lin_reg, total=   1.9s\n",
      "[CV] ........................... kmeans__n_clusters=105, total= 1.6min\n",
      "[CV] kmeans__n_clusters=106 ..........................................\n",
      "[Pipeline] ............ (step 1 of 2) Processing kmeans, total= 1.6min\n",
      "[Pipeline] ........... (step 2 of 2) Processing lin_reg, total=   1.7s\n",
      "[CV] ........................... kmeans__n_clusters=106, total= 1.7min\n",
      "[CV] kmeans__n_clusters=106 ..........................................\n",
      "[Pipeline] ............ (step 1 of 2) Processing kmeans, total= 1.6min\n",
      "[Pipeline] ........... (step 2 of 2) Processing lin_reg, total=   1.9s\n",
      "[CV] ........................... kmeans__n_clusters=106, total= 1.6min\n",
      "[CV] kmeans__n_clusters=107 ..........................................\n",
      "[Pipeline] ............ (step 1 of 2) Processing kmeans, total= 1.5min\n",
      "[Pipeline] ........... (step 2 of 2) Processing lin_reg, total=   1.4s\n",
      "[CV] ........................... kmeans__n_clusters=107, total= 1.5min\n",
      "[CV] kmeans__n_clusters=107 ..........................................\n",
      "[Pipeline] ............ (step 1 of 2) Processing kmeans, total= 1.6min\n",
      "[Pipeline] ........... (step 2 of 2) Processing lin_reg, total=  23.3s\n",
      "[CV] ........................... kmeans__n_clusters=107, total= 2.0min\n",
      "[CV] kmeans__n_clusters=108 ..........................................\n",
      "[Pipeline] ............ (step 1 of 2) Processing kmeans, total= 1.5min\n",
      "[Pipeline] ........... (step 2 of 2) Processing lin_reg, total=   1.6s\n",
      "[CV] ........................... kmeans__n_clusters=108, total= 1.5min\n",
      "[CV] kmeans__n_clusters=108 ..........................................\n",
      "[Pipeline] ............ (step 1 of 2) Processing kmeans, total= 1.6min\n",
      "[Pipeline] ........... (step 2 of 2) Processing lin_reg, total=   1.9s\n",
      "[CV] ........................... kmeans__n_clusters=108, total= 1.6min\n",
      "[CV] kmeans__n_clusters=109 ..........................................\n",
      "[Pipeline] ............ (step 1 of 2) Processing kmeans, total= 1.6min\n",
      "[Pipeline] ........... (step 2 of 2) Processing lin_reg, total=   1.3s\n",
      "[CV] ........................... kmeans__n_clusters=109, total= 1.6min\n",
      "[CV] kmeans__n_clusters=109 ..........................................\n",
      "[Pipeline] ............ (step 1 of 2) Processing kmeans, total= 1.6min\n",
      "[Pipeline] ........... (step 2 of 2) Processing lin_reg, total=   1.3s\n",
      "[CV] ........................... kmeans__n_clusters=109, total= 1.6min\n"
     ]
    },
    {
     "name": "stderr",
     "output_type": "stream",
     "text": [
      "[Parallel(n_jobs=1)]: Done  10 out of  10 | elapsed: 16.5min finished\n"
     ]
    },
    {
     "name": "stdout",
     "output_type": "stream",
     "text": [
      "[Pipeline] ............ (step 1 of 2) Processing kmeans, total= 2.4min\n",
      "[Pipeline] ........... (step 2 of 2) Processing lin_reg, total=   2.0s\n"
     ]
    },
    {
     "data": {
      "text/plain": [
       "GridSearchCV(cv=2,\n",
       "             estimator=Pipeline(steps=[('kmeans', KMeans(n_clusters=50)),\n",
       "                                       ('lin_reg', LinearRegression())],\n",
       "                                verbose=True),\n",
       "             param_grid={'kmeans__n_clusters': range(105, 110)}, verbose=2)"
      ]
     },
     "execution_count": 66,
     "metadata": {},
     "output_type": "execute_result"
    }
   ],
   "source": [
    "param_grid = dict(kmeans__n_clusters=range(105, 110))\n",
    "grid_clf = GridSearchCV(pipeline, param_grid, cv=2, verbose=2)\n",
    "grid_clf.fit(X_train, y_train)"
   ]
  },
  {
   "cell_type": "code",
   "execution_count": 67,
   "metadata": {},
   "outputs": [
    {
     "data": {
      "text/plain": [
       "{'kmeans__n_clusters': 108}"
      ]
     },
     "execution_count": 67,
     "metadata": {},
     "output_type": "execute_result"
    }
   ],
   "source": [
    "grid_clf.best_params_"
   ]
  },
  {
   "cell_type": "code",
   "execution_count": 68,
   "metadata": {},
   "outputs": [
    {
     "data": {
      "text/plain": [
       "486.7660997365511"
      ]
     },
     "execution_count": 68,
     "metadata": {},
     "output_type": "execute_result"
    }
   ],
   "source": [
    "mean_squared_error(y_test, grid_clf.predict(X_test))"
   ]
  },
  {
   "cell_type": "code",
   "execution_count": null,
   "metadata": {},
   "outputs": [],
   "source": []
  }
 ],
 "metadata": {
  "kernelspec": {
   "display_name": "Python 3",
   "language": "python",
   "name": "python3"
  },
  "language_info": {
   "codemirror_mode": {
    "name": "ipython",
    "version": 3
   },
   "file_extension": ".py",
   "mimetype": "text/x-python",
   "name": "python",
   "nbconvert_exporter": "python",
   "pygments_lexer": "ipython3",
   "version": "3.8.5"
  }
 },
 "nbformat": 4,
 "nbformat_minor": 4
}
