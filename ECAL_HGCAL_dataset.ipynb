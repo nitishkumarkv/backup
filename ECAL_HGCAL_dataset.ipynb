{
 "cells": [
  {
   "cell_type": "code",
   "execution_count": 1,
   "metadata": {},
   "outputs": [
    {
     "name": "stdout",
     "output_type": "stream",
     "text": [
      "Welcome to JupyROOT 6.22/01\n"
     ]
    }
   ],
   "source": [
    "import uproot\n",
    "import pandas as pd\n",
    "import ROOT"
   ]
  },
  {
   "cell_type": "code",
   "execution_count": 2,
   "metadata": {},
   "outputs": [
    {
     "data": {
      "text/plain": [
       "[(b'pion_variables_v1;24', 'TTree'), (b'pion_variables_v1;23', 'TTree')]"
      ]
     },
     "execution_count": 2,
     "metadata": {},
     "output_type": "execute_result"
    }
   ],
   "source": [
    "hgcal_data = uproot.open(\"/home/nitish/Downloads/skimmed_ntuple_data_config22_pion100GeV_HGCv16_AHCv8.root\")\n",
    "hgcal_data.classnames()"
   ]
  },
  {
   "cell_type": "code",
   "execution_count": 9,
   "metadata": {},
   "outputs": [
    {
     "ename": "TypeError",
     "evalue": "arrays() got an unexpected keyword argument 'library'",
     "output_type": "error",
     "traceback": [
      "\u001b[0;31m---------------------------------------------------------------------------\u001b[0m",
      "\u001b[0;31mTypeError\u001b[0m                                 Traceback (most recent call last)",
      "\u001b[0;32m<ipython-input-9-b38478b1defc>\u001b[0m in \u001b[0;36m<module>\u001b[0;34m\u001b[0m\n\u001b[0;32m----> 1\u001b[0;31m \u001b[0mpd\u001b[0m\u001b[0;34m.\u001b[0m\u001b[0mDataFrame\u001b[0m\u001b[0;34m(\u001b[0m\u001b[0mhgcal_data\u001b[0m\u001b[0;34m[\u001b[0m\u001b[0;34m\"pion_variables_v1\"\u001b[0m\u001b[0;34m]\u001b[0m\u001b[0;34m.\u001b[0m\u001b[0marrays\u001b[0m\u001b[0;34m(\u001b[0m \u001b[0mlibrary\u001b[0m\u001b[0;34m=\u001b[0m\u001b[0;34m\"np\"\u001b[0m\u001b[0;34m,\u001b[0m \u001b[0mfilter_name\u001b[0m\u001b[0;34m=\u001b[0m\u001b[0;34m\"beamEnergy\"\u001b[0m\u001b[0;34m)\u001b[0m\u001b[0;34m)\u001b[0m\u001b[0;34m\u001b[0m\u001b[0;34m\u001b[0m\u001b[0m\n\u001b[0m",
      "\u001b[0;31mTypeError\u001b[0m: arrays() got an unexpected keyword argument 'library'"
     ]
    }
   ],
   "source": []
  },
  {
   "cell_type": "code",
   "execution_count": 11,
   "metadata": {},
   "outputs": [
    {
     "ename": "TypeError",
     "evalue": "arrays() got an unexpected keyword argument 'filter_name'",
     "output_type": "error",
     "traceback": [
      "\u001b[0;31m---------------------------------------------------------------------------\u001b[0m",
      "\u001b[0;31mTypeError\u001b[0m                                 Traceback (most recent call last)",
      "\u001b[0;32m<ipython-input-11-7255fca4a1b2>\u001b[0m in \u001b[0;36m<module>\u001b[0;34m\u001b[0m\n\u001b[0;32m----> 1\u001b[0;31m \u001b[0mhgcal_data\u001b[0m\u001b[0;34m[\u001b[0m\u001b[0;34m\"pion_variables_v1\"\u001b[0m\u001b[0;34m]\u001b[0m\u001b[0;34m.\u001b[0m\u001b[0marrays\u001b[0m\u001b[0;34m(\u001b[0m \u001b[0mfilter_name\u001b[0m\u001b[0;34m=\u001b[0m\u001b[0;34m\"beamEnergy\"\u001b[0m\u001b[0;34m)\u001b[0m\u001b[0;34m\u001b[0m\u001b[0;34m\u001b[0m\u001b[0m\n\u001b[0m",
      "\u001b[0;31mTypeError\u001b[0m: arrays() got an unexpected keyword argument 'filter_name'"
     ]
    }
   ],
   "source": [
    "hgcal_data[\"pion_variables_v1\"].arrays( filter_name=\"beamEnergy\")"
   ]
  },
  {
   "cell_type": "code",
   "execution_count": 14,
   "metadata": {},
   "outputs": [
    {
     "ename": "AttributeError",
     "evalue": "'ROOTDirectory' object has no attribute 'kyes'",
     "output_type": "error",
     "traceback": [
      "\u001b[0;31m---------------------------------------------------------------------------\u001b[0m",
      "\u001b[0;31mAttributeError\u001b[0m                            Traceback (most recent call last)",
      "\u001b[0;32m<ipython-input-14-fd1fd8cb33e2>\u001b[0m in \u001b[0;36m<module>\u001b[0;34m\u001b[0m\n\u001b[1;32m      1\u001b[0m \u001b[0mEcal_data\u001b[0m \u001b[0;34m=\u001b[0m \u001b[0muproot\u001b[0m\u001b[0;34m.\u001b[0m\u001b[0mopen\u001b[0m\u001b[0;34m(\u001b[0m\u001b[0;34m\"/home/nitish/Downloads/nTupleMC_Merged.root\"\u001b[0m\u001b[0;34m)\u001b[0m\u001b[0;34m\u001b[0m\u001b[0;34m\u001b[0m\u001b[0m\n\u001b[0;32m----> 2\u001b[0;31m \u001b[0mEcal_data\u001b[0m\u001b[0;34m.\u001b[0m\u001b[0mkyes\u001b[0m\u001b[0;34m(\u001b[0m\u001b[0;34m)\u001b[0m\u001b[0;34m\u001b[0m\u001b[0;34m\u001b[0m\u001b[0m\n\u001b[0m",
      "\u001b[0;31mAttributeError\u001b[0m: 'ROOTDirectory' object has no attribute 'kyes'"
     ]
    }
   ],
   "source": [
    "Ecal_data = uproot.open(\"/home/nitish/Downloads/nTupleMC_Merged.root\")\n",
    "Ecal_data.kyes()"
   ]
  },
  {
   "cell_type": "code",
   "execution_count": 12,
   "metadata": {},
   "outputs": [
    {
     "ename": "TypeError",
     "evalue": "arrays() got an unexpected keyword argument 'entry_start'",
     "output_type": "error",
     "traceback": [
      "\u001b[0;31m---------------------------------------------------------------------------\u001b[0m",
      "\u001b[0;31mTypeError\u001b[0m                                 Traceback (most recent call last)",
      "\u001b[0;32m<ipython-input-12-f87465d216cf>\u001b[0m in \u001b[0;36m<module>\u001b[0;34m\u001b[0m\n\u001b[0;32m----> 1\u001b[0;31m \u001b[0mpd\u001b[0m\u001b[0;34m.\u001b[0m\u001b[0mDataFrame\u001b[0m\u001b[0;34m(\u001b[0m\u001b[0mEcal_data\u001b[0m\u001b[0;34m[\u001b[0m\u001b[0;34m\"nTuplelize/T\"\u001b[0m\u001b[0;34m]\u001b[0m\u001b[0;34m.\u001b[0m\u001b[0marrays\u001b[0m\u001b[0;34m(\u001b[0m\u001b[0mentry_start\u001b[0m\u001b[0;34m=\u001b[0m\u001b[0;36m0\u001b[0m\u001b[0;34m,\u001b[0m \u001b[0mentry_stop\u001b[0m\u001b[0;34m=\u001b[0m\u001b[0;36m10\u001b[0m\u001b[0;34m,\u001b[0m \u001b[0mlibrary\u001b[0m\u001b[0;34m=\u001b[0m\u001b[0;34m\"np\"\u001b[0m\u001b[0;34m,\u001b[0m \u001b[0mfilter_name\u001b[0m\u001b[0;34m=\u001b[0m\u001b[0;34m[\u001b[0m\u001b[0;34m\"iEtaEle1\"\u001b[0m\u001b[0;34m,\u001b[0m\u001b[0;34m\"iPhiEle1\"\u001b[0m\u001b[0;34m,\u001b[0m \u001b[0;34m\"RecHitEnEle1\"\u001b[0m\u001b[0;34m,\u001b[0m \u001b[0;34m\"RecHitFracEle1\"\u001b[0m\u001b[0;34m,\u001b[0m \u001b[0;34m\"Ele_Gen_E\"\u001b[0m\u001b[0;34m]\u001b[0m\u001b[0;34m)\u001b[0m\u001b[0;34m)\u001b[0m\u001b[0;34m\u001b[0m\u001b[0;34m\u001b[0m\u001b[0m\n\u001b[0m",
      "\u001b[0;31mTypeError\u001b[0m: arrays() got an unexpected keyword argument 'entry_start'"
     ]
    }
   ],
   "source": [
    "pd.DataFrame(Ecal_data[\"nTuplelize/T\"].arrays(entry_start=0, entry_stop=10, library=\"np\", filter_name=[\"iEtaEle1\",\"iPhiEle1\", \"RecHitEnEle1\", \"RecHitFracEle1\", \"Ele_Gen_E\"]))"
   ]
  },
  {
   "cell_type": "code",
   "execution_count": 19,
   "metadata": {},
   "outputs": [
    {
     "data": {
      "text/html": [
       "<div>\n",
       "<style scoped>\n",
       "    .dataframe tbody tr th:only-of-type {\n",
       "        vertical-align: middle;\n",
       "    }\n",
       "\n",
       "    .dataframe tbody tr th {\n",
       "        vertical-align: top;\n",
       "    }\n",
       "\n",
       "    .dataframe thead th {\n",
       "        text-align: right;\n",
       "    }\n",
       "</style>\n",
       "<table border=\"1\" class=\"dataframe\">\n",
       "  <thead>\n",
       "    <tr style=\"text-align: right;\">\n",
       "      <th></th>\n",
       "      <th>iEtaEle1</th>\n",
       "      <th>iPhiEle1</th>\n",
       "      <th>RecHitEnEle1</th>\n",
       "      <th>RecHitFracEle1</th>\n",
       "      <th>Ele_Gen_E</th>\n",
       "    </tr>\n",
       "    <tr>\n",
       "      <th>entry</th>\n",
       "      <th></th>\n",
       "      <th></th>\n",
       "      <th></th>\n",
       "      <th></th>\n",
       "      <th></th>\n",
       "    </tr>\n",
       "  </thead>\n",
       "  <tbody>\n",
       "    <tr>\n",
       "      <th>0</th>\n",
       "      <td>[]</td>\n",
       "      <td>[]</td>\n",
       "      <td>[]</td>\n",
       "      <td>[]</td>\n",
       "      <td>[557.5585, 557.5585]</td>\n",
       "    </tr>\n",
       "    <tr>\n",
       "      <th>1</th>\n",
       "      <td>[83.0, 83.0, 83.0, 83.0, 82.0, 82.0, 82.0, 82....</td>\n",
       "      <td>[114.0, 115.0, 116.0, 117.0, 117.0, 116.0, 115...</td>\n",
       "      <td>[98.6994, 53.0985, 5.4753466, 0.67593557, 0.40...</td>\n",
       "      <td>[1.0, 1.0, 1.0, 1.0, 1.0, 1.0, 1.0, 1.0, 1.0, ...</td>\n",
       "      <td>[325.82678, 325.82678]</td>\n",
       "    </tr>\n",
       "    <tr>\n",
       "      <th>2</th>\n",
       "      <td>[40.0, 40.0, 40.0, 39.0, 39.0, 39.0, 39.0, 39....</td>\n",
       "      <td>[116.0, 117.0, 119.0, 119.0, 118.0, 117.0, 116...</td>\n",
       "      <td>[101.92, 3.5487094, 0.65321434, 0.22501326, 1....</td>\n",
       "      <td>[1.0, 0.950841, 0.0009091966, 0.00057429506, 0...</td>\n",
       "      <td>[192.18456, 192.18456]</td>\n",
       "    </tr>\n",
       "    <tr>\n",
       "      <th>3</th>\n",
       "      <td>[-66.0, -66.0, -66.0, -66.0, -67.0, -67.0, -67...</td>\n",
       "      <td>[196.0, 197.0, 198.0, 199.0, 199.0, 198.0, 197...</td>\n",
       "      <td>[326.1422, 19.50797, 2.5923336, 0.41257656, 0....</td>\n",
       "      <td>[1.0, 1.0, 1.0, 1.0, 1.0, 1.0, 1.0, 1.0, 1.0, ...</td>\n",
       "      <td>[430.60556, 430.60556]</td>\n",
       "    </tr>\n",
       "    <tr>\n",
       "      <th>4</th>\n",
       "      <td>[-38.0, -38.0, -39.0, -39.0, -39.0, -38.0, -38...</td>\n",
       "      <td>[178.0, 179.0, 179.0, 178.0, 177.0, 177.0, 179...</td>\n",
       "      <td>[14.638685, 0.8684475, 0.27797627, 0.9772646, ...</td>\n",
       "      <td>[1.0, 0.9999866, 0.99999577, 0.9995876, 0.9629...</td>\n",
       "      <td>[23.873816, 23.873816]</td>\n",
       "    </tr>\n",
       "    <tr>\n",
       "      <th>5</th>\n",
       "      <td>[]</td>\n",
       "      <td>[]</td>\n",
       "      <td>[]</td>\n",
       "      <td>[]</td>\n",
       "      <td>[451.27078, 451.27078]</td>\n",
       "    </tr>\n",
       "    <tr>\n",
       "      <th>6</th>\n",
       "      <td>[]</td>\n",
       "      <td>[]</td>\n",
       "      <td>[]</td>\n",
       "      <td>[]</td>\n",
       "      <td>[291.99167, 291.99167]</td>\n",
       "    </tr>\n",
       "    <tr>\n",
       "      <th>7</th>\n",
       "      <td>[-45.0, -45.0, -45.0, -45.0, -46.0, -46.0, -46...</td>\n",
       "      <td>[146.0, 147.0, 148.0, 149.0, 149.0, 148.0, 147...</td>\n",
       "      <td>[286.22134, 20.847975, 2.1401904, 0.3698063, 0...</td>\n",
       "      <td>[1.0, 1.0, 1.0, 1.0, 1.0, 1.0, 1.0, 1.0, 1.0, ...</td>\n",
       "      <td>[374.6149, 374.6149]</td>\n",
       "    </tr>\n",
       "    <tr>\n",
       "      <th>8</th>\n",
       "      <td>[]</td>\n",
       "      <td>[]</td>\n",
       "      <td>[]</td>\n",
       "      <td>[]</td>\n",
       "      <td>[70.86663, 70.86663]</td>\n",
       "    </tr>\n",
       "    <tr>\n",
       "      <th>9</th>\n",
       "      <td>[]</td>\n",
       "      <td>[]</td>\n",
       "      <td>[]</td>\n",
       "      <td>[]</td>\n",
       "      <td>[377.77396, 377.77396]</td>\n",
       "    </tr>\n",
       "  </tbody>\n",
       "</table>\n",
       "</div>"
      ],
      "text/plain": [
       "                                                iEtaEle1  \\\n",
       "entry                                                      \n",
       "0                                                     []   \n",
       "1      [83.0, 83.0, 83.0, 83.0, 82.0, 82.0, 82.0, 82....   \n",
       "2      [40.0, 40.0, 40.0, 39.0, 39.0, 39.0, 39.0, 39....   \n",
       "3      [-66.0, -66.0, -66.0, -66.0, -67.0, -67.0, -67...   \n",
       "4      [-38.0, -38.0, -39.0, -39.0, -39.0, -38.0, -38...   \n",
       "5                                                     []   \n",
       "6                                                     []   \n",
       "7      [-45.0, -45.0, -45.0, -45.0, -46.0, -46.0, -46...   \n",
       "8                                                     []   \n",
       "9                                                     []   \n",
       "\n",
       "                                                iPhiEle1  \\\n",
       "entry                                                      \n",
       "0                                                     []   \n",
       "1      [114.0, 115.0, 116.0, 117.0, 117.0, 116.0, 115...   \n",
       "2      [116.0, 117.0, 119.0, 119.0, 118.0, 117.0, 116...   \n",
       "3      [196.0, 197.0, 198.0, 199.0, 199.0, 198.0, 197...   \n",
       "4      [178.0, 179.0, 179.0, 178.0, 177.0, 177.0, 179...   \n",
       "5                                                     []   \n",
       "6                                                     []   \n",
       "7      [146.0, 147.0, 148.0, 149.0, 149.0, 148.0, 147...   \n",
       "8                                                     []   \n",
       "9                                                     []   \n",
       "\n",
       "                                            RecHitEnEle1  \\\n",
       "entry                                                      \n",
       "0                                                     []   \n",
       "1      [98.6994, 53.0985, 5.4753466, 0.67593557, 0.40...   \n",
       "2      [101.92, 3.5487094, 0.65321434, 0.22501326, 1....   \n",
       "3      [326.1422, 19.50797, 2.5923336, 0.41257656, 0....   \n",
       "4      [14.638685, 0.8684475, 0.27797627, 0.9772646, ...   \n",
       "5                                                     []   \n",
       "6                                                     []   \n",
       "7      [286.22134, 20.847975, 2.1401904, 0.3698063, 0...   \n",
       "8                                                     []   \n",
       "9                                                     []   \n",
       "\n",
       "                                          RecHitFracEle1  \\\n",
       "entry                                                      \n",
       "0                                                     []   \n",
       "1      [1.0, 1.0, 1.0, 1.0, 1.0, 1.0, 1.0, 1.0, 1.0, ...   \n",
       "2      [1.0, 0.950841, 0.0009091966, 0.00057429506, 0...   \n",
       "3      [1.0, 1.0, 1.0, 1.0, 1.0, 1.0, 1.0, 1.0, 1.0, ...   \n",
       "4      [1.0, 0.9999866, 0.99999577, 0.9995876, 0.9629...   \n",
       "5                                                     []   \n",
       "6                                                     []   \n",
       "7      [1.0, 1.0, 1.0, 1.0, 1.0, 1.0, 1.0, 1.0, 1.0, ...   \n",
       "8                                                     []   \n",
       "9                                                     []   \n",
       "\n",
       "                    Ele_Gen_E  \n",
       "entry                          \n",
       "0        [557.5585, 557.5585]  \n",
       "1      [325.82678, 325.82678]  \n",
       "2      [192.18456, 192.18456]  \n",
       "3      [430.60556, 430.60556]  \n",
       "4      [23.873816, 23.873816]  \n",
       "5      [451.27078, 451.27078]  \n",
       "6      [291.99167, 291.99167]  \n",
       "7        [374.6149, 374.6149]  \n",
       "8        [70.86663, 70.86663]  \n",
       "9      [377.77396, 377.77396]  "
      ]
     },
     "execution_count": 19,
     "metadata": {},
     "output_type": "execute_result"
    }
   ],
   "source": [
    "df = Ecal_data[\"nTuplelize/T\"].pandas.df([\"iEtaEle1\",\"iPhiEle1\", \"RecHitEnEle1\", \"RecHitFracEle1\", \"Ele_Gen_E\"],entrystart=0,entrystop=10, flatten=False)\n",
    "df"
   ]
  },
  {
   "cell_type": "code",
   "execution_count": 20,
   "metadata": {},
   "outputs": [
    {
     "name": "stdout",
     "output_type": "stream",
     "text": [
      "                                                iEtaEle1  \\\n",
      "entry                                                      \n",
      "0                                                     []   \n",
      "1      [83.0, 83.0, 83.0, 83.0, 82.0, 82.0, 82.0, 82....   \n",
      "2      [40.0, 40.0, 40.0, 39.0, 39.0, 39.0, 39.0, 39....   \n",
      "3      [-66.0, -66.0, -66.0, -66.0, -67.0, -67.0, -67...   \n",
      "4      [-38.0, -38.0, -39.0, -39.0, -39.0, -38.0, -38...   \n",
      "5                                                     []   \n",
      "6                                                     []   \n",
      "7      [-45.0, -45.0, -45.0, -45.0, -46.0, -46.0, -46...   \n",
      "8                                                     []   \n",
      "9                                                     []   \n",
      "\n",
      "                                                iPhiEle1  \\\n",
      "entry                                                      \n",
      "0                                                     []   \n",
      "1      [114.0, 115.0, 116.0, 117.0, 117.0, 116.0, 115...   \n",
      "2      [116.0, 117.0, 119.0, 119.0, 118.0, 117.0, 116...   \n",
      "3      [196.0, 197.0, 198.0, 199.0, 199.0, 198.0, 197...   \n",
      "4      [178.0, 179.0, 179.0, 178.0, 177.0, 177.0, 179...   \n",
      "5                                                     []   \n",
      "6                                                     []   \n",
      "7      [146.0, 147.0, 148.0, 149.0, 149.0, 148.0, 147...   \n",
      "8                                                     []   \n",
      "9                                                     []   \n",
      "\n",
      "                                            RecHitEnEle1  \\\n",
      "entry                                                      \n",
      "0                                                     []   \n",
      "1      [98.6994, 53.0985, 5.4753466, 0.67593557, 0.40...   \n",
      "2      [101.92, 3.5487094, 0.65321434, 0.22501326, 1....   \n",
      "3      [326.1422, 19.50797, 2.5923336, 0.41257656, 0....   \n",
      "4      [14.638685, 0.8684475, 0.27797627, 0.9772646, ...   \n",
      "5                                                     []   \n",
      "6                                                     []   \n",
      "7      [286.22134, 20.847975, 2.1401904, 0.3698063, 0...   \n",
      "8                                                     []   \n",
      "9                                                     []   \n",
      "\n",
      "                                          RecHitFracEle1  \\\n",
      "entry                                                      \n",
      "0                                                     []   \n",
      "1      [1.0, 1.0, 1.0, 1.0, 1.0, 1.0, 1.0, 1.0, 1.0, ...   \n",
      "2      [1.0, 0.950841, 0.0009091966, 0.00057429506, 0...   \n",
      "3      [1.0, 1.0, 1.0, 1.0, 1.0, 1.0, 1.0, 1.0, 1.0, ...   \n",
      "4      [1.0, 0.9999866, 0.99999577, 0.9995876, 0.9629...   \n",
      "5                                                     []   \n",
      "6                                                     []   \n",
      "7      [1.0, 1.0, 1.0, 1.0, 1.0, 1.0, 1.0, 1.0, 1.0, ...   \n",
      "8                                                     []   \n",
      "9                                                     []   \n",
      "\n",
      "                    Ele_Gen_E  \n",
      "entry                          \n",
      "0        [557.5585, 557.5585]  \n",
      "1      [325.82678, 325.82678]  \n",
      "2      [192.18456, 192.18456]  \n",
      "3      [430.60556, 430.60556]  \n",
      "4      [23.873816, 23.873816]  \n",
      "5      [451.27078, 451.27078]  \n",
      "6      [291.99167, 291.99167]  \n",
      "7        [374.6149, 374.6149]  \n",
      "8        [70.86663, 70.86663]  \n",
      "9      [377.77396, 377.77396]  \n"
     ]
    },
    {
     "ename": "RuntimeError",
     "evalue": "Object not convertible: Dictionary entry iEtaEle1 is not convertible with AsRVec.",
     "output_type": "error",
     "traceback": [
      "\u001b[0;31m---------------------------------------------------------------------------\u001b[0m",
      "\u001b[0;31mRuntimeError\u001b[0m                              Traceback (most recent call last)",
      "\u001b[0;32m<ipython-input-20-af8e9ecbca20>\u001b[0m in \u001b[0;36m<module>\u001b[0;34m\u001b[0m\n\u001b[1;32m     17\u001b[0m \u001b[0;31m# Write the dictionary with numpy arrays to a ROOT file\u001b[0m\u001b[0;34m\u001b[0m\u001b[0;34m\u001b[0m\u001b[0;34m\u001b[0m\u001b[0m\n\u001b[1;32m     18\u001b[0m \u001b[0;32mimport\u001b[0m \u001b[0mROOT\u001b[0m\u001b[0;34m\u001b[0m\u001b[0;34m\u001b[0m\u001b[0m\n\u001b[0;32m---> 19\u001b[0;31m \u001b[0mrdf\u001b[0m \u001b[0;34m=\u001b[0m \u001b[0mROOT\u001b[0m\u001b[0;34m.\u001b[0m\u001b[0mRDF\u001b[0m\u001b[0;34m.\u001b[0m\u001b[0mMakeNumpyDataFrame\u001b[0m\u001b[0;34m(\u001b[0m\u001b[0mdata\u001b[0m\u001b[0;34m)\u001b[0m\u001b[0;34m\u001b[0m\u001b[0;34m\u001b[0m\u001b[0m\n\u001b[0m\u001b[1;32m     20\u001b[0m \u001b[0;31m#rdf = rdf.Define('z_bool', '(bool)z') # Let's rewrite z as bool\u001b[0m\u001b[0;34m\u001b[0m\u001b[0;34m\u001b[0m\u001b[0;34m\u001b[0m\u001b[0m\n\u001b[1;32m     21\u001b[0m \u001b[0mrdf\u001b[0m\u001b[0;34m.\u001b[0m\u001b[0mSnapshot\u001b[0m\u001b[0;34m(\u001b[0m\u001b[0;34m'tree'\u001b[0m\u001b[0;34m,\u001b[0m \u001b[0;34m'file.root'\u001b[0m\u001b[0;34m)\u001b[0m\u001b[0;34m\u001b[0m\u001b[0;34m\u001b[0m\u001b[0m\n",
      "\u001b[0;31mRuntimeError\u001b[0m: Object not convertible: Dictionary entry iEtaEle1 is not convertible with AsRVec."
     ]
    }
   ],
   "source": [
    "import pandas as pd\n",
    "import numpy as np\n",
    "\n",
    "\n",
    "# Have a look!\n",
    "print(df)\n",
    "\n",
    "# Convert data to a dictionary with numpy arrays\n",
    "data = {key: df[key].values for key in [\"iEtaEle1\",\"iPhiEle1\", \"RecHitEnEle1\", \"RecHitFracEle1\", \"Ele_Gen_E\"]}\n",
    "\n",
    "# Unfortunately booleans in a numpy array don't have the same\n",
    "# memory layout as in C++, and therefore we cannot adopt boolean\n",
    "# columns on the C++ side of RDataFrame.\n",
    "# The workaround is reading them out as integers.\n",
    "#data['z'] = data['z'].astype(np.int)\n",
    "\n",
    "# Write the dictionary with numpy arrays to a ROOT file\n",
    "import ROOT\n",
    "rdf = ROOT.RDF.MakeNumpyDataFrame(data)\n",
    "#rdf = rdf.Define('z_bool', '(bool)z') # Let's rewrite z as bool\n",
    "rdf.Snapshot('tree', 'file.root')\n",
    "\n",
    "# Again, have a look!\n",
    "rdf.Display().Print()\n"
   ]
  },
  {
   "cell_type": "code",
   "execution_count": null,
   "metadata": {},
   "outputs": [],
   "source": []
  }
 ],
 "metadata": {
  "kernelspec": {
   "display_name": "Python 3",
   "language": "python",
   "name": "python3"
  },
  "language_info": {
   "codemirror_mode": {
    "name": "ipython",
    "version": 3
   },
   "file_extension": ".py",
   "mimetype": "text/x-python",
   "name": "python",
   "nbconvert_exporter": "python",
   "pygments_lexer": "ipython3",
   "version": "3.8.5"
  }
 },
 "nbformat": 4,
 "nbformat_minor": 4
}
