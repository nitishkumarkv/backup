{
 "cells": [
  {
   "cell_type": "code",
   "execution_count": 1,
   "metadata": {},
   "outputs": [
    {
     "name": "stdout",
     "output_type": "stream",
     "text": [
      "Welcome to JupyROOT 6.22/01\n"
     ]
    }
   ],
   "source": [
    "import pandas as pd\n",
    "import matplotlib.pyplot as plt\n",
    "import numpy as np\n",
    "import ROOT\n",
    "import seaborn as sns\n",
    "\n",
    "%matplotlib inline\n",
    "%jsroot on"
   ]
  },
  {
   "cell_type": "code",
   "execution_count": 2,
   "metadata": {},
   "outputs": [
    {
     "name": "stdout",
     "output_type": "stream",
     "text": [
      "[[39.17470967 87.06407147 30.18011877 98.36323487 63.54816601 49.09064758\n",
      "  39.6812832  62.82809669 19.02543433 76.40713275]\n",
      " [70.69244313 51.24297687 78.63456961 30.3763562  85.90016777 73.64168302\n",
      "   0.91329567  2.49039084 63.63998391 87.42617373]\n",
      " [75.43054003 96.90248291 57.60267729 57.58143304 51.4063615  92.42057187\n",
      "  14.86563213 79.74086933 66.62635723 67.69827763]\n",
      " [31.50310663  2.81359317 92.7102603   0.92602047  6.03486189 16.12928802\n",
      "  74.67238826 97.18206503 74.42971099 42.96811418]\n",
      " [10.83955539 30.05204588 69.75799232 19.2608359  67.82708872 27.91609404\n",
      "  84.55303852 30.2196715  47.77995367  0.21141045]\n",
      " [22.11077526 55.22042721 96.72465335 11.17855144 68.52824794 49.1025548\n",
      "   4.66360288 92.00369931 13.92584084 92.43163154]\n",
      " [85.36173095 61.11314917 60.71603359 72.76196477 35.00384208 46.07230728\n",
      "  68.26688875 65.24084156 48.93903171  8.52631195]\n",
      " [57.65228659 88.29939728 86.77489446 38.06806132 39.48240277 95.40116105\n",
      "  13.15262564 22.17174438 13.7480131  16.82736539]\n",
      " [74.09838842 15.04734901 79.85386105 78.97737981 87.16528849 74.0011533\n",
      "  53.93566447 24.26977989 29.63006887 30.52238216]\n",
      " [91.87377056 70.21968171 53.93918433 61.60092534 97.00209009 30.59964888\n",
      "  77.1679396  77.61672318 98.01798363 75.55794232]]\n"
     ]
    },
    {
     "data": {
      "text/plain": [
       "(10, 10)"
      ]
     },
     "execution_count": 2,
     "metadata": {},
     "output_type": "execute_result"
    }
   ],
   "source": [
    "a = np.random.uniform(0,100,100).reshape(10,10)\n",
    "print(a)\n",
    "a.shape"
   ]
  },
  {
   "cell_type": "code",
   "execution_count": 3,
   "metadata": {},
   "outputs": [],
   "source": [
    "def matmul(n):\n",
    "    \n",
    "    x = np.random.uniform(0,100,n*n).reshape(n,n)\n",
    "    y = np.random.uniform(0,100,n*n).reshape(n,n)\n",
    "    \n",
    "    return np.matmul(x,y)"
   ]
  },
  {
   "cell_type": "code",
   "execution_count": 4,
   "metadata": {},
   "outputs": [
    {
     "name": "stdout",
     "output_type": "stream",
     "text": [
      "CPU times: user 15 µs, sys: 5 µs, total: 20 µs\n",
      "Wall time: 11 µs\n"
     ]
    }
   ],
   "source": [
    "matmul(100)\n",
    "%time"
   ]
  },
  {
   "cell_type": "code",
   "execution_count": 5,
   "metadata": {},
   "outputs": [
    {
     "data": {
      "text/plain": [
       "[1, 10, 100, 1000, 10000, 100000, 1000000, 10000000, 100000000, 1000000000]"
      ]
     },
     "execution_count": 5,
     "metadata": {},
     "output_type": "execute_result"
    }
   ],
   "source": [
    "dimension = [10**i for i in range(10)]\n",
    "dimension"
   ]
  },
  {
   "cell_type": "code",
   "execution_count": 6,
   "metadata": {},
   "outputs": [],
   "source": [
    "cpu_time = [3, 10, 17, 39, 41]\n",
    "wall_time = [5.96, 16.7, 11, 8.82, 9.06]"
   ]
  },
  {
   "cell_type": "code",
   "execution_count": 7,
   "metadata": {},
   "outputs": [
    {
     "name": "stdout",
     "output_type": "stream",
     "text": [
      "[[-0.0103281   0.00417181 -0.00500908 ... -0.01926845 -0.0215747\n",
      "   0.01352384]\n",
      " [ 0.01632328 -0.00958902  0.00729487 ...  0.0256644   0.02754794\n",
      "  -0.02004773]\n",
      " [-0.00511202  0.005202   -0.00168294 ... -0.01201249 -0.01215621\n",
      "   0.01017559]\n",
      " ...\n",
      " [ 0.00790274 -0.00390652  0.00539193 ...  0.01592092  0.0160718\n",
      "  -0.00994619]\n",
      " [-0.00451619  0.00247431 -0.00498067 ... -0.00544009 -0.00851504\n",
      "   0.00480017]\n",
      " [-0.00419446  0.00243688 -0.00765066 ... -0.01022796 -0.00875692\n",
      "   0.00665629]]\n",
      "CPU times: user 48 µs, sys: 19 µs, total: 67 µs\n",
      "Wall time: 15.5 µs\n"
     ]
    }
   ],
   "source": [
    "print(np.linalg.pinv(np.random.uniform(0,100,79*79).reshape(79,79)))\n",
    "%time"
   ]
  },
  {
   "cell_type": "code",
   "execution_count": 8,
   "metadata": {},
   "outputs": [
    {
     "name": "stdout",
     "output_type": "stream",
     "text": [
      "CPU times: user 92 µs, sys: 40 µs, total: 132 µs\n",
      "Wall time: 31.7 µs\n"
     ]
    }
   ],
   "source": [
    "n = 500000\n",
    "\n",
    "x = np.random.uniform(0,100,79*n).reshape(79,n)\n",
    "y = np.random.uniform(0,100,79*n).reshape(n,79)\n",
    "\n",
    "np.linalg.pinv(np.matmul(x,y))\n",
    "%time"
   ]
  },
  {
   "cell_type": "code",
   "execution_count": 2,
   "metadata": {},
   "outputs": [
    {
     "data": {
      "text/html": [
       "<div>\n",
       "<style scoped>\n",
       "    .dataframe tbody tr th:only-of-type {\n",
       "        vertical-align: middle;\n",
       "    }\n",
       "\n",
       "    .dataframe tbody tr th {\n",
       "        vertical-align: top;\n",
       "    }\n",
       "\n",
       "    .dataframe thead th {\n",
       "        text-align: right;\n",
       "    }\n",
       "</style>\n",
       "<table border=\"1\" class=\"dataframe\">\n",
       "  <thead>\n",
       "    <tr style=\"text-align: right;\">\n",
       "      <th></th>\n",
       "      <th>beamEnergy</th>\n",
       "      <th>trueBeamEnergy</th>\n",
       "      <th>features_82</th>\n",
       "    </tr>\n",
       "  </thead>\n",
       "  <tbody>\n",
       "    <tr>\n",
       "      <th>112520</th>\n",
       "      <td>50.0</td>\n",
       "      <td>49.469673</td>\n",
       "      <td>[2.2882659435272217, 1.9650121927261353, 4.975...</td>\n",
       "    </tr>\n",
       "    <tr>\n",
       "      <th>429496</th>\n",
       "      <td>300.0</td>\n",
       "      <td>298.298615</td>\n",
       "      <td>[0.9531618356704712, 0.8870372772216797, 0.524...</td>\n",
       "    </tr>\n",
       "    <tr>\n",
       "      <th>127960</th>\n",
       "      <td>50.0</td>\n",
       "      <td>49.489178</td>\n",
       "      <td>[1.039785623550415, 1.201719880104065, 71.1739...</td>\n",
       "    </tr>\n",
       "    <tr>\n",
       "      <th>232587</th>\n",
       "      <td>100.0</td>\n",
       "      <td>100.135193</td>\n",
       "      <td>[1.9905580282211304, 6.891543924808502, 6.9337...</td>\n",
       "    </tr>\n",
       "    <tr>\n",
       "      <th>483258</th>\n",
       "      <td>300.0</td>\n",
       "      <td>297.879120</td>\n",
       "      <td>[0.7827611565589905, 1.615274727344513, 0.7945...</td>\n",
       "    </tr>\n",
       "    <tr>\n",
       "      <th>...</th>\n",
       "      <td>...</td>\n",
       "      <td>...</td>\n",
       "      <td>...</td>\n",
       "    </tr>\n",
       "    <tr>\n",
       "      <th>72800</th>\n",
       "      <td>20.0</td>\n",
       "      <td>19.744566</td>\n",
       "      <td>[1.0563750267028809, 1.3372515439987183, 1.368...</td>\n",
       "    </tr>\n",
       "    <tr>\n",
       "      <th>423144</th>\n",
       "      <td>300.0</td>\n",
       "      <td>297.396423</td>\n",
       "      <td>[1.0360097885131836, 0.9656434059143066, 0.842...</td>\n",
       "    </tr>\n",
       "    <tr>\n",
       "      <th>392770</th>\n",
       "      <td>200.0</td>\n",
       "      <td>198.109177</td>\n",
       "      <td>[1.3412532806396484, 0.919788658618927, 0.8255...</td>\n",
       "    </tr>\n",
       "    <tr>\n",
       "      <th>177568</th>\n",
       "      <td>50.0</td>\n",
       "      <td>49.803936</td>\n",
       "      <td>[0.9540113806724548, 2.3491640090942383, 2.188...</td>\n",
       "    </tr>\n",
       "    <tr>\n",
       "      <th>158889</th>\n",
       "      <td>50.0</td>\n",
       "      <td>50.244495</td>\n",
       "      <td>[1.2259968519210815, 1.4584753513336182, 1.331...</td>\n",
       "    </tr>\n",
       "  </tbody>\n",
       "</table>\n",
       "<p>497521 rows × 3 columns</p>\n",
       "</div>"
      ],
      "text/plain": [
       "        beamEnergy  trueBeamEnergy  \\\n",
       "112520        50.0       49.469673   \n",
       "429496       300.0      298.298615   \n",
       "127960        50.0       49.489178   \n",
       "232587       100.0      100.135193   \n",
       "483258       300.0      297.879120   \n",
       "...            ...             ...   \n",
       "72800         20.0       19.744566   \n",
       "423144       300.0      297.396423   \n",
       "392770       200.0      198.109177   \n",
       "177568        50.0       49.803936   \n",
       "158889        50.0       50.244495   \n",
       "\n",
       "                                              features_82  \n",
       "112520  [2.2882659435272217, 1.9650121927261353, 4.975...  \n",
       "429496  [0.9531618356704712, 0.8870372772216797, 0.524...  \n",
       "127960  [1.039785623550415, 1.201719880104065, 71.1739...  \n",
       "232587  [1.9905580282211304, 6.891543924808502, 6.9337...  \n",
       "483258  [0.7827611565589905, 1.615274727344513, 0.7945...  \n",
       "...                                                   ...  \n",
       "72800   [1.0563750267028809, 1.3372515439987183, 1.368...  \n",
       "423144  [1.0360097885131836, 0.9656434059143066, 0.842...  \n",
       "392770  [1.3412532806396484, 0.919788658618927, 0.8255...  \n",
       "177568  [0.9540113806724548, 2.3491640090942383, 2.188...  \n",
       "158889  [1.2259968519210815, 1.4584753513336182, 1.331...  \n",
       "\n",
       "[497521 rows x 3 columns]"
      ]
     },
     "execution_count": 2,
     "metadata": {},
     "output_type": "execute_result"
    }
   ],
   "source": [
    "pion_features_data = pd.read_pickle(\"new_combined_data_pion_features_82.pkl\")\n",
    "pion_features_data"
   ]
  },
  {
   "cell_type": "code",
   "execution_count": 3,
   "metadata": {},
   "outputs": [
    {
     "data": {
      "text/plain": [
       "array([  0.84206855,   7.71049595,   1.06561923,   3.98833743,\n",
       "         5.08009827,  20.25604582,  27.30163515, 127.1375764 ,\n",
       "       176.21185681,  93.47695154, 103.33964995,  93.05634111,\n",
       "       135.87049997, 140.39923218, 145.07190198,  68.8049376 ,\n",
       "       129.25573522,  62.58152157,  71.96056527,  80.7906611 ,\n",
       "        53.82066852,  25.94414568,   7.75775082,   5.78607714,\n",
       "        25.89444423,   5.84826481,   3.66542804,   1.31433713,\n",
       "         0.        ,   0.        ,   0.        ,   0.        ,\n",
       "         0.        ,   0.        ,   0.        ,   0.        ,\n",
       "         0.        ,   0.        ,   0.        ,   0.        ,\n",
       "         0.        ,   0.        ,   0.        ,   0.        ,\n",
       "         0.        ,   0.        ,   0.        ,   0.        ,\n",
       "         0.        ,   0.        ,   0.        ,   0.        ,\n",
       "         0.        ,   0.        ,   0.        ,   0.        ,\n",
       "         0.        ,   0.        ,   0.        ,   0.        ,\n",
       "         0.        ,   0.        ,   0.        ,   0.        ,\n",
       "         0.        ,   0.        ,   0.        ,   0.        ,\n",
       "         0.        ,   0.        ,   0.        ,   0.        ,\n",
       "         0.        ,   0.        ,   0.        ,   0.        ,\n",
       "         0.        ,   0.        ,   0.        ])"
      ]
     },
     "execution_count": 3,
     "metadata": {},
     "output_type": "execute_result"
    }
   ],
   "source": [
    "(pion_features_data.features_82[0][:79])"
   ]
  },
  {
   "cell_type": "code",
   "execution_count": 4,
   "metadata": {},
   "outputs": [],
   "source": [
    "def lay_data(df):\n",
    "    return df.features_82[:79]"
   ]
  },
  {
   "cell_type": "code",
   "execution_count": 5,
   "metadata": {},
   "outputs": [
    {
     "data": {
      "text/html": [
       "<div>\n",
       "<style scoped>\n",
       "    .dataframe tbody tr th:only-of-type {\n",
       "        vertical-align: middle;\n",
       "    }\n",
       "\n",
       "    .dataframe tbody tr th {\n",
       "        vertical-align: top;\n",
       "    }\n",
       "\n",
       "    .dataframe thead th {\n",
       "        text-align: right;\n",
       "    }\n",
       "</style>\n",
       "<table border=\"1\" class=\"dataframe\">\n",
       "  <thead>\n",
       "    <tr style=\"text-align: right;\">\n",
       "      <th></th>\n",
       "      <th>beamEnergy</th>\n",
       "      <th>trueBeamEnergy</th>\n",
       "      <th>features_82</th>\n",
       "      <th>lay_data</th>\n",
       "    </tr>\n",
       "  </thead>\n",
       "  <tbody>\n",
       "    <tr>\n",
       "      <th>112520</th>\n",
       "      <td>50.0</td>\n",
       "      <td>49.469673</td>\n",
       "      <td>[2.2882659435272217, 1.9650121927261353, 4.975...</td>\n",
       "      <td>[2.2882659435272217, 1.9650121927261353, 4.975...</td>\n",
       "    </tr>\n",
       "    <tr>\n",
       "      <th>429496</th>\n",
       "      <td>300.0</td>\n",
       "      <td>298.298615</td>\n",
       "      <td>[0.9531618356704712, 0.8870372772216797, 0.524...</td>\n",
       "      <td>[0.9531618356704712, 0.8870372772216797, 0.524...</td>\n",
       "    </tr>\n",
       "    <tr>\n",
       "      <th>127960</th>\n",
       "      <td>50.0</td>\n",
       "      <td>49.489178</td>\n",
       "      <td>[1.039785623550415, 1.201719880104065, 71.1739...</td>\n",
       "      <td>[1.039785623550415, 1.201719880104065, 71.1739...</td>\n",
       "    </tr>\n",
       "    <tr>\n",
       "      <th>232587</th>\n",
       "      <td>100.0</td>\n",
       "      <td>100.135193</td>\n",
       "      <td>[1.9905580282211304, 6.891543924808502, 6.9337...</td>\n",
       "      <td>[1.9905580282211304, 6.891543924808502, 6.9337...</td>\n",
       "    </tr>\n",
       "    <tr>\n",
       "      <th>483258</th>\n",
       "      <td>300.0</td>\n",
       "      <td>297.879120</td>\n",
       "      <td>[0.7827611565589905, 1.615274727344513, 0.7945...</td>\n",
       "      <td>[0.7827611565589905, 1.615274727344513, 0.7945...</td>\n",
       "    </tr>\n",
       "    <tr>\n",
       "      <th>...</th>\n",
       "      <td>...</td>\n",
       "      <td>...</td>\n",
       "      <td>...</td>\n",
       "      <td>...</td>\n",
       "    </tr>\n",
       "    <tr>\n",
       "      <th>72800</th>\n",
       "      <td>20.0</td>\n",
       "      <td>19.744566</td>\n",
       "      <td>[1.0563750267028809, 1.3372515439987183, 1.368...</td>\n",
       "      <td>[1.0563750267028809, 1.3372515439987183, 1.368...</td>\n",
       "    </tr>\n",
       "    <tr>\n",
       "      <th>423144</th>\n",
       "      <td>300.0</td>\n",
       "      <td>297.396423</td>\n",
       "      <td>[1.0360097885131836, 0.9656434059143066, 0.842...</td>\n",
       "      <td>[1.0360097885131836, 0.9656434059143066, 0.842...</td>\n",
       "    </tr>\n",
       "    <tr>\n",
       "      <th>392770</th>\n",
       "      <td>200.0</td>\n",
       "      <td>198.109177</td>\n",
       "      <td>[1.3412532806396484, 0.919788658618927, 0.8255...</td>\n",
       "      <td>[1.3412532806396484, 0.919788658618927, 0.8255...</td>\n",
       "    </tr>\n",
       "    <tr>\n",
       "      <th>177568</th>\n",
       "      <td>50.0</td>\n",
       "      <td>49.803936</td>\n",
       "      <td>[0.9540113806724548, 2.3491640090942383, 2.188...</td>\n",
       "      <td>[0.9540113806724548, 2.3491640090942383, 2.188...</td>\n",
       "    </tr>\n",
       "    <tr>\n",
       "      <th>158889</th>\n",
       "      <td>50.0</td>\n",
       "      <td>50.244495</td>\n",
       "      <td>[1.2259968519210815, 1.4584753513336182, 1.331...</td>\n",
       "      <td>[1.2259968519210815, 1.4584753513336182, 1.331...</td>\n",
       "    </tr>\n",
       "  </tbody>\n",
       "</table>\n",
       "<p>497521 rows × 4 columns</p>\n",
       "</div>"
      ],
      "text/plain": [
       "        beamEnergy  trueBeamEnergy  \\\n",
       "112520        50.0       49.469673   \n",
       "429496       300.0      298.298615   \n",
       "127960        50.0       49.489178   \n",
       "232587       100.0      100.135193   \n",
       "483258       300.0      297.879120   \n",
       "...            ...             ...   \n",
       "72800         20.0       19.744566   \n",
       "423144       300.0      297.396423   \n",
       "392770       200.0      198.109177   \n",
       "177568        50.0       49.803936   \n",
       "158889        50.0       50.244495   \n",
       "\n",
       "                                              features_82  \\\n",
       "112520  [2.2882659435272217, 1.9650121927261353, 4.975...   \n",
       "429496  [0.9531618356704712, 0.8870372772216797, 0.524...   \n",
       "127960  [1.039785623550415, 1.201719880104065, 71.1739...   \n",
       "232587  [1.9905580282211304, 6.891543924808502, 6.9337...   \n",
       "483258  [0.7827611565589905, 1.615274727344513, 0.7945...   \n",
       "...                                                   ...   \n",
       "72800   [1.0563750267028809, 1.3372515439987183, 1.368...   \n",
       "423144  [1.0360097885131836, 0.9656434059143066, 0.842...   \n",
       "392770  [1.3412532806396484, 0.919788658618927, 0.8255...   \n",
       "177568  [0.9540113806724548, 2.3491640090942383, 2.188...   \n",
       "158889  [1.2259968519210815, 1.4584753513336182, 1.331...   \n",
       "\n",
       "                                                 lay_data  \n",
       "112520  [2.2882659435272217, 1.9650121927261353, 4.975...  \n",
       "429496  [0.9531618356704712, 0.8870372772216797, 0.524...  \n",
       "127960  [1.039785623550415, 1.201719880104065, 71.1739...  \n",
       "232587  [1.9905580282211304, 6.891543924808502, 6.9337...  \n",
       "483258  [0.7827611565589905, 1.615274727344513, 0.7945...  \n",
       "...                                                   ...  \n",
       "72800   [1.0563750267028809, 1.3372515439987183, 1.368...  \n",
       "423144  [1.0360097885131836, 0.9656434059143066, 0.842...  \n",
       "392770  [1.3412532806396484, 0.919788658618927, 0.8255...  \n",
       "177568  [0.9540113806724548, 2.3491640090942383, 2.188...  \n",
       "158889  [1.2259968519210815, 1.4584753513336182, 1.331...  \n",
       "\n",
       "[497521 rows x 4 columns]"
      ]
     },
     "execution_count": 5,
     "metadata": {},
     "output_type": "execute_result"
    }
   ],
   "source": [
    "pion_features_data[\"lay_data\"] = pion_features_data.apply(lay_data, axis=1)\n",
    "pion_features_data"
   ]
  },
  {
   "cell_type": "code",
   "execution_count": 6,
   "metadata": {},
   "outputs": [
    {
     "data": {
      "text/plain": [
       "(400000, 79)"
      ]
     },
     "execution_count": 6,
     "metadata": {},
     "output_type": "execute_result"
    }
   ],
   "source": [
    "X = np.stack(pion_features_data.head(400000).lay_data.values)\n",
    "X.shape"
   ]
  },
  {
   "cell_type": "code",
   "execution_count": 7,
   "metadata": {},
   "outputs": [
    {
     "name": "stdout",
     "output_type": "stream",
     "text": [
      "[[ 49.469673]\n",
      " [298.2986  ]\n",
      " [ 49.489178]\n",
      " ...\n",
      " [302.862   ]\n",
      " [ 99.498   ]\n",
      " [ 19.997438]]\n"
     ]
    },
    {
     "data": {
      "text/plain": [
       "(400000, 1)"
      ]
     },
     "execution_count": 7,
     "metadata": {},
     "output_type": "execute_result"
    }
   ],
   "source": [
    "Y = (pion_features_data.head(400000).trueBeamEnergy.values).reshape(400000,1)\n",
    "print(Y)\n",
    "Y.shape"
   ]
  },
  {
   "cell_type": "code",
   "execution_count": 8,
   "metadata": {},
   "outputs": [
    {
     "name": "stdout",
     "output_type": "stream",
     "text": [
      "[[ 0.03690766]\n",
      " [ 0.03754724]\n",
      " [ 0.02960315]\n",
      " [ 0.02568264]\n",
      " [ 0.00921175]\n",
      " [ 0.01517719]\n",
      " [ 0.0049911 ]\n",
      " [ 0.01488646]\n",
      " [ 0.00568816]\n",
      " [ 0.01805745]\n",
      " [ 0.00697388]\n",
      " [ 0.01812001]\n",
      " [ 0.00608337]\n",
      " [ 0.01889429]\n",
      " [ 0.0066357 ]\n",
      " [ 0.0184817 ]\n",
      " [ 0.00558455]\n",
      " [ 0.01920388]\n",
      " [ 0.00370721]\n",
      " [ 0.01830612]\n",
      " [ 0.00805766]\n",
      " [ 0.02018979]\n",
      " [ 0.00930091]\n",
      " [ 0.02101898]\n",
      " [ 0.00566864]\n",
      " [ 0.01996885]\n",
      " [ 0.00595668]\n",
      " [ 0.02533925]\n",
      " [ 0.06471743]\n",
      " [ 0.0616555 ]\n",
      " [ 0.05400026]\n",
      " [ 0.05035085]\n",
      " [ 0.06150809]\n",
      " [ 0.06651074]\n",
      " [ 0.06554386]\n",
      " [ 0.05249526]\n",
      " [ 0.07053696]\n",
      " [ 0.04076993]\n",
      " [ 0.06590796]\n",
      " [-0.00537425]\n",
      " [ 0.10199411]\n",
      " [ 0.05093517]\n",
      " [ 0.0280616 ]\n",
      " [ 0.01597964]\n",
      " [ 0.01999705]\n",
      " [ 0.01929499]\n",
      " [ 0.02373153]\n",
      " [ 0.02923887]\n",
      " [ 0.02586825]\n",
      " [ 0.02649979]\n",
      " [ 0.03104371]\n",
      " [ 0.02480224]\n",
      " [ 0.02620777]\n",
      " [ 0.02773438]\n",
      " [ 0.02367562]\n",
      " [ 0.02672062]\n",
      " [ 0.0227351 ]\n",
      " [ 0.02534817]\n",
      " [ 0.03165049]\n",
      " [ 0.02476103]\n",
      " [ 0.0257794 ]\n",
      " [ 0.02447166]\n",
      " [ 0.02908759]\n",
      " [ 0.02784238]\n",
      " [ 0.02492606]\n",
      " [ 0.02511121]\n",
      " [ 0.02403353]\n",
      " [ 0.02824765]\n",
      " [ 0.02685868]\n",
      " [ 0.03460126]\n",
      " [ 0.03551781]\n",
      " [ 0.02775159]\n",
      " [ 0.02492799]\n",
      " [ 0.02366293]\n",
      " [ 0.0178026 ]\n",
      " [ 0.02724463]\n",
      " [ 0.02894964]\n",
      " [ 0.06812086]\n",
      " [ 0.26314463]]\n"
     ]
    },
    {
     "data": {
      "text/plain": [
       "(79, 1)"
      ]
     },
     "execution_count": 8,
     "metadata": {},
     "output_type": "execute_result"
    }
   ],
   "source": [
    "theta = np.matmul( np.linalg.pinv( np.matmul(X.T, X) ) , np.matmul(X.T, Y) )\n",
    "print(theta)\n",
    "theta.shape"
   ]
  },
  {
   "cell_type": "code",
   "execution_count": 32,
   "metadata": {},
   "outputs": [
    {
     "data": {
      "text/plain": [
       "648.1956499088153"
      ]
     },
     "execution_count": 32,
     "metadata": {},
     "output_type": "execute_result"
    }
   ],
   "source": [
    "MSE = np.matmul((Y-np.matmul(X, theta)).T, (Y-np.matmul(X, theta)))/(400000-79)\n",
    "MSE[0,0]"
   ]
  },
  {
   "cell_type": "code",
   "execution_count": 38,
   "metadata": {},
   "outputs": [
    {
     "data": {
      "text/plain": [
       "array([[ 2.02834630e-06, -3.39124114e-07, -2.32218346e-07, ...,\n",
       "         8.09846006e-10, -7.02160931e-09, -1.26153758e-10],\n",
       "       [-3.39124114e-07,  1.59060071e-06, -3.51066954e-07, ...,\n",
       "        -1.43355677e-09, -1.79896790e-09, -5.36804629e-09],\n",
       "       [-2.32218346e-07, -3.51066954e-07,  1.30823997e-06, ...,\n",
       "         3.59113730e-09,  1.63931492e-09,  3.47227608e-10],\n",
       "       ...,\n",
       "       [ 8.09846006e-10, -1.43355677e-09,  3.59113730e-09, ...,\n",
       "         2.17584319e-05, -8.54360563e-06, -2.32209616e-06],\n",
       "       [-7.02160931e-09, -1.79896790e-09,  1.63931492e-09, ...,\n",
       "        -8.54360563e-06,  2.10890228e-05, -7.09230280e-06],\n",
       "       [-1.26153758e-10, -5.36804629e-09,  3.47227608e-10, ...,\n",
       "        -2.32209616e-06, -7.09230280e-06,  1.14316747e-05]])"
      ]
     },
     "execution_count": 38,
     "metadata": {},
     "output_type": "execute_result"
    }
   ],
   "source": [
    "sigma_squared_theta =  MSE[0,0] * np.linalg.pinv( np.matmul(X.T, X) )\n",
    "sigma_squared_theta"
   ]
  },
  {
   "cell_type": "code",
   "execution_count": 39,
   "metadata": {},
   "outputs": [
    {
     "data": {
      "text/plain": [
       "array([0.0014242 , 0.00126119, 0.00114378, 0.00105021, 0.00094006,\n",
       "       0.00089707, 0.00081676, 0.00081327, 0.00074431, 0.00075793,\n",
       "       0.00069824, 0.00072064, 0.00067329, 0.00069462, 0.00064599,\n",
       "       0.00068019, 0.00064968, 0.00066275, 0.00063735, 0.00065533,\n",
       "       0.0006678 , 0.00068013, 0.00066876, 0.00068299, 0.00063222,\n",
       "       0.00064139, 0.00058157, 0.00057329, 0.00050583, 0.00047708,\n",
       "       0.00047635, 0.00048315, 0.00052171, 0.00049192, 0.00055397,\n",
       "       0.00065191, 0.00061614, 0.00078368, 0.00095679, 0.00110831,\n",
       "       0.00180494, 0.00194717, 0.00199326, 0.0020223 , 0.0020561 ,\n",
       "       0.00209904, 0.00214455, 0.00218871, 0.00222783, 0.00227016,\n",
       "       0.00233348, 0.00238711, 0.00246527, 0.00250207, 0.00258165,\n",
       "       0.00263257, 0.00268832, 0.00277137, 0.00287307, 0.0029309 ,\n",
       "       0.00298872, 0.00309856, 0.00315682, 0.00325383, 0.00333679,\n",
       "       0.00344329, 0.00350216, 0.00362467, 0.00372566, 0.00376929,\n",
       "       0.00394299, 0.00406908, 0.00418534, 0.00434054, 0.00445718,\n",
       "       0.0046248 , 0.00466459, 0.00459228, 0.00338108])"
      ]
     },
     "execution_count": 39,
     "metadata": {},
     "output_type": "execute_result"
    }
   ],
   "source": [
    "err_theta = np.sqrt(np.array([sigma_squared_theta[i,i] for i in range(79)]))\n",
    "err_theta"
   ]
  },
  {
   "cell_type": "code",
   "execution_count": null,
   "metadata": {},
   "outputs": [],
   "source": []
  },
  {
   "cell_type": "code",
   "execution_count": 16,
   "metadata": {},
   "outputs": [],
   "source": [
    "theta_positron = np.array([[0.01544584],\n",
    " [0.01074829],\n",
    " [0.00974702],\n",
    " [0.00991524],\n",
    " [0.00959205],\n",
    " [0.00960706],\n",
    " [0.00957695],\n",
    " [0.00996061],\n",
    " [0.00958206],\n",
    " [0.00978693],\n",
    " [0.00933981],\n",
    " [0.0100433 ],\n",
    " [0.00924941],\n",
    " [0.01003225],\n",
    " [0.0093998 ],\n",
    " [0.01021921],\n",
    " [0.00905533],\n",
    " [0.01007396],\n",
    " [0.00945412],\n",
    " [0.00984381],\n",
    " [0.00977161],\n",
    " [0.01081531],\n",
    " [0.00984633],\n",
    " [0.01295793],\n",
    " [0.0114097 ],\n",
    " [0.01695564],\n",
    " [0.02027191],\n",
    " [0.02962011]])\n",
    "\n",
    "theta_pion = np.array([[ 0.03690766],\n",
    " [ 0.03754724],\n",
    " [ 0.02960315],\n",
    " [ 0.02568264],\n",
    " [ 0.00921175],\n",
    " [ 0.01517719],\n",
    " [ 0.0049911 ],\n",
    " [ 0.01488646],\n",
    " [ 0.00568816],\n",
    " [ 0.01805745],\n",
    " [ 0.00697388],\n",
    " [ 0.01812001],\n",
    " [ 0.00608337],\n",
    " [ 0.01889429],\n",
    " [ 0.0066357 ],\n",
    " [ 0.0184817 ],\n",
    " [ 0.00558455],\n",
    " [ 0.01920388],\n",
    " [ 0.00370721],\n",
    " [ 0.01830612],\n",
    " [ 0.00805766],\n",
    " [ 0.02018979],\n",
    " [ 0.00930091],\n",
    " [ 0.02101898],\n",
    " [ 0.00566864],\n",
    " [ 0.01996885],\n",
    " [ 0.00595668],\n",
    " [ 0.02533925],\n",
    " [ 0.06471743],\n",
    " [ 0.0616555 ],\n",
    " [ 0.05400026],\n",
    " [ 0.05035085],\n",
    " [ 0.06150809],\n",
    " [ 0.06651074],\n",
    " [ 0.06554386],\n",
    " [ 0.05249526],\n",
    " [ 0.07053696],\n",
    " [ 0.04076993],\n",
    " [ 0.06590796],\n",
    " [-0.00537425],\n",
    " [ 0.10199411],\n",
    " [ 0.05093517],\n",
    " [ 0.0280616 ],\n",
    " [ 0.01597964],\n",
    " [ 0.01999705],\n",
    " [ 0.01929499],\n",
    " [ 0.02373153],\n",
    " [ 0.02923887],\n",
    " [ 0.02586825],\n",
    " [ 0.02649979],\n",
    " [ 0.03104371],\n",
    " [ 0.02480224],\n",
    " [ 0.02620777],\n",
    " [ 0.02773438],\n",
    " [ 0.02367562],\n",
    " [ 0.02672062],\n",
    " [ 0.0227351 ],\n",
    " [ 0.02534817],\n",
    " [ 0.03165049],\n",
    " [ 0.02476103],\n",
    " [ 0.0257794 ],\n",
    " [ 0.02447166],\n",
    " [ 0.02908759],\n",
    " [ 0.02784238],\n",
    " [ 0.02492606],\n",
    " [ 0.02511121],\n",
    " [ 0.02403353],\n",
    " [ 0.02824765],\n",
    " [ 0.02685868],\n",
    " [ 0.03460126],\n",
    " [ 0.03551781],\n",
    " [ 0.02775159],\n",
    " [ 0.02492799],\n",
    " [ 0.02366293],\n",
    " [ 0.0178026 ],\n",
    " [ 0.02724463],\n",
    " [ 0.02894964],\n",
    " [ 0.06812086],\n",
    " [ 0.26314463]])"
   ]
  },
  {
   "cell_type": "code",
   "execution_count": 17,
   "metadata": {},
   "outputs": [],
   "source": [
    "theta_positron_2 = [[ 1.27144284e-02],\n",
    " [ 1.03146419e-02],\n",
    " [ 9.74336035e-03],\n",
    " [ 9.93125024e-03],\n",
    " [ 9.56922697e-03],\n",
    " [ 9.61774632e-03],\n",
    " [ 9.54784431e-03],\n",
    " [ 9.94545134e-03],\n",
    " [ 9.50343639e-03],\n",
    " [ 9.76733974e-03],\n",
    " [ 9.29879358e-03],\n",
    " [ 9.92036417e-03],\n",
    " [ 9.25552852e-03],\n",
    " [ 9.88872620e-03],\n",
    " [ 9.33404070e-03],\n",
    " [ 9.96108356e-03],\n",
    " [ 9.00036576e-03],\n",
    " [ 9.97467094e-03],\n",
    " [ 9.68956768e-03],\n",
    " [ 1.00885523e-02],\n",
    " [ 1.07654954e-02],\n",
    " [ 1.12619270e-02],\n",
    " [ 1.03952249e-02],\n",
    " [ 1.19441487e-02],\n",
    " [ 9.16890287e-03],\n",
    " [ 1.15343985e-02],\n",
    " [ 8.43608678e-03],\n",
    " [ 1.06269783e-02],\n",
    " [ 8.70112806e-02],\n",
    " [ 7.26491201e-02],\n",
    " [ 5.10860498e-02],\n",
    " [ 5.21393484e-02],\n",
    " [ 4.93618381e-02],\n",
    " [ 9.59906771e-02],\n",
    " [ 1.07049688e-01],\n",
    " [ 1.19002727e-01],\n",
    " [ 9.93433335e-03],\n",
    " [ 1.57151367e-01],\n",
    " [ 7.47217200e-02],\n",
    " [ 4.09458769e-02],\n",
    " [ 6.51079038e-02],\n",
    " [ 2.45034989e-02],\n",
    " [ 3.22130963e-02],\n",
    " [ 2.39249435e-02],\n",
    " [ 2.64016265e-02],\n",
    " [-3.31250172e-02],\n",
    " [ 1.41165905e-01],\n",
    " [ 1.40806204e-01],\n",
    " [-4.77883154e-02],\n",
    " [ 1.51881852e-01],\n",
    " [-2.62480771e-02],\n",
    " [-4.32923378e-03],\n",
    " [-3.03581068e-02],\n",
    " [ 1.66932083e-01],\n",
    " [ 1.17591071e-01],\n",
    " [-1.49924406e-01],\n",
    " [ 2.38912405e-01],\n",
    " [-2.97043009e-02],\n",
    " [ 1.68237793e-02],\n",
    " [ 1.32764539e-01],\n",
    " [ 1.49182696e-01],\n",
    " [-1.57210772e-01],\n",
    " [-8.48435435e-02],\n",
    " [ 2.83031257e-02],\n",
    " [-9.57053077e-02],\n",
    " [-1.31837420e-01],\n",
    " [-8.24659197e-02],\n",
    " [-2.02201135e-01],\n",
    " [ 1.88382357e-01],\n",
    " [ 7.91365447e-04],\n",
    " [ 9.58585833e-01],\n",
    " [ 1.17596180e-01],\n",
    " [-3.52353430e-01],\n",
    " [-2.65787824e-02],\n",
    " [ 1.21602622e-01],\n",
    " [-8.62185159e-01],\n",
    " [-2.79174426e-02],\n",
    " [ 5.39178528e-01],\n",
    " [ 1.72037413e-01]]"
   ]
  },
  {
   "cell_type": "code",
   "execution_count": 35,
   "metadata": {},
   "outputs": [
    {
     "data": {
      "image/png": "[encoded data removed]",
      "text/plain": [
       "<Figure size 720x360 with 1 Axes>"
      ]
     },
     "metadata": {
      "needs_background": "light"
     },
     "output_type": "display_data"
    }
   ],
   "source": [
    "lay = [i for i in range(1,29)]\n",
    "\n",
    "plt.figure(figsize=[10,5])\n",
    "\n",
    "#plt.plot([28.5,28.5], [-0.05, 0.35],  linestyle=\"-\", color=\"r\", markersize=10)\n",
    "#plt.plot([40.5,40.5], [-0.05, 0.35],  linestyle=\"-\", color=\"r\", markersize=10)\n",
    "\n",
    "plt.errorbar(lay, theta[:28], yerr = err_theta[:28], marker='.', linestyle=\"--\", color=\"b\", markersize=10, label=\"pion\")\n",
    "#plt.plot(lay[:79], theta_positron_2, \"g.\", linestyle=\"--\", color=\"g\", markersize=10, label=\"positron\")\n",
    "\n",
    "\n",
    "plt.xlabel(\"Layer Number\")\n",
    "plt.ylabel(\"Weight\")\n",
    "plt.title(\"Layerwise weights for Pion Energy Reconstruction\")\n",
    "\n",
    "\n",
    "#plt.text(12, 0.25, 'ECAL', fontsize=20, horizontalalignment='center',verticalalignment='center')\n",
    "#plt.text(34.5, 0.25, 'HCAL', fontsize=20, horizontalalignment='center',verticalalignment='center')\n",
    "#plt.text(62, 0.25, 'AHCAL', fontsize=20, horizontalalignment='center',verticalalignment='center')\n",
    "\n",
    "\n",
    "plt.grid(linestyle='--')\n",
    "plt.legend()\n",
    "plt.show()"
   ]
  },
  {
   "cell_type": "code",
   "execution_count": 20,
   "metadata": {},
   "outputs": [
    {
     "data": {
      "text/plain": [
       "(array([39]), array([0]))"
      ]
     },
     "execution_count": 20,
     "metadata": {},
     "output_type": "execute_result"
    }
   ],
   "source": [
    "np.where(theta<0)"
   ]
  },
  {
   "cell_type": "code",
   "execution_count": 21,
   "metadata": {},
   "outputs": [
    {
     "data": {
      "text/html": [
       "<div>\n",
       "<style scoped>\n",
       "    .dataframe tbody tr th:only-of-type {\n",
       "        vertical-align: middle;\n",
       "    }\n",
       "\n",
       "    .dataframe tbody tr th {\n",
       "        vertical-align: top;\n",
       "    }\n",
       "\n",
       "    .dataframe thead th {\n",
       "        text-align: right;\n",
       "    }\n",
       "</style>\n",
       "<table border=\"1\" class=\"dataframe\">\n",
       "  <thead>\n",
       "    <tr style=\"text-align: right;\">\n",
       "      <th></th>\n",
       "      <th>beamEnergy</th>\n",
       "      <th>trueBeamEnergy</th>\n",
       "      <th>features_82</th>\n",
       "      <th>lay_data</th>\n",
       "    </tr>\n",
       "  </thead>\n",
       "  <tbody>\n",
       "    <tr>\n",
       "      <th>427817</th>\n",
       "      <td>300.0</td>\n",
       "      <td>302.136169</td>\n",
       "      <td>[1.5197086334228516, 0.9042471051216125, 0.906...</td>\n",
       "      <td>[1.5197086334228516, 0.9042471051216125, 0.906...</td>\n",
       "    </tr>\n",
       "    <tr>\n",
       "      <th>106436</th>\n",
       "      <td>50.0</td>\n",
       "      <td>49.613056</td>\n",
       "      <td>[5.15110969543457, 0.7118760943412781, 1.02701...</td>\n",
       "      <td>[5.15110969543457, 0.7118760943412781, 1.02701...</td>\n",
       "    </tr>\n",
       "    <tr>\n",
       "      <th>319837</th>\n",
       "      <td>200.0</td>\n",
       "      <td>200.071365</td>\n",
       "      <td>[1.5152519941329956, 1.6994524002075195, 0.812...</td>\n",
       "      <td>[1.5152519941329956, 1.6994524002075195, 0.812...</td>\n",
       "    </tr>\n",
       "    <tr>\n",
       "      <th>211619</th>\n",
       "      <td>100.0</td>\n",
       "      <td>99.013863</td>\n",
       "      <td>[1.0176557302474976, 0.7266640067100525, 0.791...</td>\n",
       "      <td>[1.0176557302474976, 0.7266640067100525, 0.791...</td>\n",
       "    </tr>\n",
       "    <tr>\n",
       "      <th>482354</th>\n",
       "      <td>300.0</td>\n",
       "      <td>302.960297</td>\n",
       "      <td>[1.9792650938034058, 7.027391672134399, 1.2090...</td>\n",
       "      <td>[1.9792650938034058, 7.027391672134399, 1.2090...</td>\n",
       "    </tr>\n",
       "    <tr>\n",
       "      <th>...</th>\n",
       "      <td>...</td>\n",
       "      <td>...</td>\n",
       "      <td>...</td>\n",
       "      <td>...</td>\n",
       "    </tr>\n",
       "    <tr>\n",
       "      <th>72800</th>\n",
       "      <td>20.0</td>\n",
       "      <td>19.744566</td>\n",
       "      <td>[1.0563750267028809, 1.3372515439987183, 1.368...</td>\n",
       "      <td>[1.0563750267028809, 1.3372515439987183, 1.368...</td>\n",
       "    </tr>\n",
       "    <tr>\n",
       "      <th>423144</th>\n",
       "      <td>300.0</td>\n",
       "      <td>297.396423</td>\n",
       "      <td>[1.0360097885131836, 0.9656434059143066, 0.842...</td>\n",
       "      <td>[1.0360097885131836, 0.9656434059143066, 0.842...</td>\n",
       "    </tr>\n",
       "    <tr>\n",
       "      <th>392770</th>\n",
       "      <td>200.0</td>\n",
       "      <td>198.109177</td>\n",
       "      <td>[1.3412532806396484, 0.919788658618927, 0.8255...</td>\n",
       "      <td>[1.3412532806396484, 0.919788658618927, 0.8255...</td>\n",
       "    </tr>\n",
       "    <tr>\n",
       "      <th>177568</th>\n",
       "      <td>50.0</td>\n",
       "      <td>49.803936</td>\n",
       "      <td>[0.9540113806724548, 2.3491640090942383, 2.188...</td>\n",
       "      <td>[0.9540113806724548, 2.3491640090942383, 2.188...</td>\n",
       "    </tr>\n",
       "    <tr>\n",
       "      <th>158889</th>\n",
       "      <td>50.0</td>\n",
       "      <td>50.244495</td>\n",
       "      <td>[1.2259968519210815, 1.4584753513336182, 1.331...</td>\n",
       "      <td>[1.2259968519210815, 1.4584753513336182, 1.331...</td>\n",
       "    </tr>\n",
       "  </tbody>\n",
       "</table>\n",
       "<p>97521 rows × 4 columns</p>\n",
       "</div>"
      ],
      "text/plain": [
       "        beamEnergy  trueBeamEnergy  \\\n",
       "427817       300.0      302.136169   \n",
       "106436        50.0       49.613056   \n",
       "319837       200.0      200.071365   \n",
       "211619       100.0       99.013863   \n",
       "482354       300.0      302.960297   \n",
       "...            ...             ...   \n",
       "72800         20.0       19.744566   \n",
       "423144       300.0      297.396423   \n",
       "392770       200.0      198.109177   \n",
       "177568        50.0       49.803936   \n",
       "158889        50.0       50.244495   \n",
       "\n",
       "                                              features_82  \\\n",
       "427817  [1.5197086334228516, 0.9042471051216125, 0.906...   \n",
       "106436  [5.15110969543457, 0.7118760943412781, 1.02701...   \n",
       "319837  [1.5152519941329956, 1.6994524002075195, 0.812...   \n",
       "211619  [1.0176557302474976, 0.7266640067100525, 0.791...   \n",
       "482354  [1.9792650938034058, 7.027391672134399, 1.2090...   \n",
       "...                                                   ...   \n",
       "72800   [1.0563750267028809, 1.3372515439987183, 1.368...   \n",
       "423144  [1.0360097885131836, 0.9656434059143066, 0.842...   \n",
       "392770  [1.3412532806396484, 0.919788658618927, 0.8255...   \n",
       "177568  [0.9540113806724548, 2.3491640090942383, 2.188...   \n",
       "158889  [1.2259968519210815, 1.4584753513336182, 1.331...   \n",
       "\n",
       "                                                 lay_data  \n",
       "427817  [1.5197086334228516, 0.9042471051216125, 0.906...  \n",
       "106436  [5.15110969543457, 0.7118760943412781, 1.02701...  \n",
       "319837  [1.5152519941329956, 1.6994524002075195, 0.812...  \n",
       "211619  [1.0176557302474976, 0.7266640067100525, 0.791...  \n",
       "482354  [1.9792650938034058, 7.027391672134399, 1.2090...  \n",
       "...                                                   ...  \n",
       "72800   [1.0563750267028809, 1.3372515439987183, 1.368...  \n",
       "423144  [1.0360097885131836, 0.9656434059143066, 0.842...  \n",
       "392770  [1.3412532806396484, 0.919788658618927, 0.8255...  \n",
       "177568  [0.9540113806724548, 2.3491640090942383, 2.188...  \n",
       "158889  [1.2259968519210815, 1.4584753513336182, 1.331...  \n",
       "\n",
       "[97521 rows x 4 columns]"
      ]
     },
     "execution_count": 21,
     "metadata": {},
     "output_type": "execute_result"
    }
   ],
   "source": [
    "x_test_set = pion_features_data.tail(497521-400000)\n",
    "x_test_set"
   ]
  },
  {
   "cell_type": "code",
   "execution_count": 22,
   "metadata": {},
   "outputs": [
    {
     "data": {
      "text/plain": [
       "(79,)"
      ]
     },
     "execution_count": 22,
     "metadata": {},
     "output_type": "execute_result"
    }
   ],
   "source": [
    "x_test_set.lay_data[427817].shape"
   ]
  },
  {
   "cell_type": "code",
   "execution_count": 23,
   "metadata": {},
   "outputs": [],
   "source": [
    "def energy(df):\n",
    "    return np.matmul(theta.T, df.lay_data)[0]"
   ]
  },
  {
   "cell_type": "code",
   "execution_count": 24,
   "metadata": {},
   "outputs": [
    {
     "name": "stderr",
     "output_type": "stream",
     "text": [
      "<ipython-input-24-db3dc0cc2b64>:1: SettingWithCopyWarning: \n",
      "A value is trying to be set on a copy of a slice from a DataFrame.\n",
      "Try using .loc[row_indexer,col_indexer] = value instead\n",
      "\n",
      "See the caveats in the documentation: https://pandas.pydata.org/pandas-docs/stable/user_guide/indexing.html#returning-a-view-versus-a-copy\n",
      "  x_test_set[\"pred_energy\"] = x_test_set.apply(energy, axis=1)\n"
     ]
    },
    {
     "data": {
      "text/html": [
       "<div>\n",
       "<style scoped>\n",
       "    .dataframe tbody tr th:only-of-type {\n",
       "        vertical-align: middle;\n",
       "    }\n",
       "\n",
       "    .dataframe tbody tr th {\n",
       "        vertical-align: top;\n",
       "    }\n",
       "\n",
       "    .dataframe thead th {\n",
       "        text-align: right;\n",
       "    }\n",
       "</style>\n",
       "<table border=\"1\" class=\"dataframe\">\n",
       "  <thead>\n",
       "    <tr style=\"text-align: right;\">\n",
       "      <th></th>\n",
       "      <th>beamEnergy</th>\n",
       "      <th>trueBeamEnergy</th>\n",
       "      <th>features_82</th>\n",
       "      <th>lay_data</th>\n",
       "      <th>pred_energy</th>\n",
       "    </tr>\n",
       "  </thead>\n",
       "  <tbody>\n",
       "    <tr>\n",
       "      <th>427817</th>\n",
       "      <td>300.0</td>\n",
       "      <td>302.136169</td>\n",
       "      <td>[1.5197086334228516, 0.9042471051216125, 0.906...</td>\n",
       "      <td>[1.5197086334228516, 0.9042471051216125, 0.906...</td>\n",
       "      <td>338.893417</td>\n",
       "    </tr>\n",
       "    <tr>\n",
       "      <th>106436</th>\n",
       "      <td>50.0</td>\n",
       "      <td>49.613056</td>\n",
       "      <td>[5.15110969543457, 0.7118760943412781, 1.02701...</td>\n",
       "      <td>[5.15110969543457, 0.7118760943412781, 1.02701...</td>\n",
       "      <td>46.555421</td>\n",
       "    </tr>\n",
       "    <tr>\n",
       "      <th>319837</th>\n",
       "      <td>200.0</td>\n",
       "      <td>200.071365</td>\n",
       "      <td>[1.5152519941329956, 1.6994524002075195, 0.812...</td>\n",
       "      <td>[1.5152519941329956, 1.6994524002075195, 0.812...</td>\n",
       "      <td>177.466514</td>\n",
       "    </tr>\n",
       "    <tr>\n",
       "      <th>211619</th>\n",
       "      <td>100.0</td>\n",
       "      <td>99.013863</td>\n",
       "      <td>[1.0176557302474976, 0.7266640067100525, 0.791...</td>\n",
       "      <td>[1.0176557302474976, 0.7266640067100525, 0.791...</td>\n",
       "      <td>79.562635</td>\n",
       "    </tr>\n",
       "    <tr>\n",
       "      <th>482354</th>\n",
       "      <td>300.0</td>\n",
       "      <td>302.960297</td>\n",
       "      <td>[1.9792650938034058, 7.027391672134399, 1.2090...</td>\n",
       "      <td>[1.9792650938034058, 7.027391672134399, 1.2090...</td>\n",
       "      <td>291.032981</td>\n",
       "    </tr>\n",
       "    <tr>\n",
       "      <th>...</th>\n",
       "      <td>...</td>\n",
       "      <td>...</td>\n",
       "      <td>...</td>\n",
       "      <td>...</td>\n",
       "      <td>...</td>\n",
       "    </tr>\n",
       "    <tr>\n",
       "      <th>72800</th>\n",
       "      <td>20.0</td>\n",
       "      <td>19.744566</td>\n",
       "      <td>[1.0563750267028809, 1.3372515439987183, 1.368...</td>\n",
       "      <td>[1.0563750267028809, 1.3372515439987183, 1.368...</td>\n",
       "      <td>24.428778</td>\n",
       "    </tr>\n",
       "    <tr>\n",
       "      <th>423144</th>\n",
       "      <td>300.0</td>\n",
       "      <td>297.396423</td>\n",
       "      <td>[1.0360097885131836, 0.9656434059143066, 0.842...</td>\n",
       "      <td>[1.0360097885131836, 0.9656434059143066, 0.842...</td>\n",
       "      <td>317.206996</td>\n",
       "    </tr>\n",
       "    <tr>\n",
       "      <th>392770</th>\n",
       "      <td>200.0</td>\n",
       "      <td>198.109177</td>\n",
       "      <td>[1.3412532806396484, 0.919788658618927, 0.8255...</td>\n",
       "      <td>[1.3412532806396484, 0.919788658618927, 0.8255...</td>\n",
       "      <td>210.624307</td>\n",
       "    </tr>\n",
       "    <tr>\n",
       "      <th>177568</th>\n",
       "      <td>50.0</td>\n",
       "      <td>49.803936</td>\n",
       "      <td>[0.9540113806724548, 2.3491640090942383, 2.188...</td>\n",
       "      <td>[0.9540113806724548, 2.3491640090942383, 2.188...</td>\n",
       "      <td>66.257070</td>\n",
       "    </tr>\n",
       "    <tr>\n",
       "      <th>158889</th>\n",
       "      <td>50.0</td>\n",
       "      <td>50.244495</td>\n",
       "      <td>[1.2259968519210815, 1.4584753513336182, 1.331...</td>\n",
       "      <td>[1.2259968519210815, 1.4584753513336182, 1.331...</td>\n",
       "      <td>53.644470</td>\n",
       "    </tr>\n",
       "  </tbody>\n",
       "</table>\n",
       "<p>97521 rows × 5 columns</p>\n",
       "</div>"
      ],
      "text/plain": [
       "        beamEnergy  trueBeamEnergy  \\\n",
       "427817       300.0      302.136169   \n",
       "106436        50.0       49.613056   \n",
       "319837       200.0      200.071365   \n",
       "211619       100.0       99.013863   \n",
       "482354       300.0      302.960297   \n",
       "...            ...             ...   \n",
       "72800         20.0       19.744566   \n",
       "423144       300.0      297.396423   \n",
       "392770       200.0      198.109177   \n",
       "177568        50.0       49.803936   \n",
       "158889        50.0       50.244495   \n",
       "\n",
       "                                              features_82  \\\n",
       "427817  [1.5197086334228516, 0.9042471051216125, 0.906...   \n",
       "106436  [5.15110969543457, 0.7118760943412781, 1.02701...   \n",
       "319837  [1.5152519941329956, 1.6994524002075195, 0.812...   \n",
       "211619  [1.0176557302474976, 0.7266640067100525, 0.791...   \n",
       "482354  [1.9792650938034058, 7.027391672134399, 1.2090...   \n",
       "...                                                   ...   \n",
       "72800   [1.0563750267028809, 1.3372515439987183, 1.368...   \n",
       "423144  [1.0360097885131836, 0.9656434059143066, 0.842...   \n",
       "392770  [1.3412532806396484, 0.919788658618927, 0.8255...   \n",
       "177568  [0.9540113806724548, 2.3491640090942383, 2.188...   \n",
       "158889  [1.2259968519210815, 1.4584753513336182, 1.331...   \n",
       "\n",
       "                                                 lay_data  pred_energy  \n",
       "427817  [1.5197086334228516, 0.9042471051216125, 0.906...   338.893417  \n",
       "106436  [5.15110969543457, 0.7118760943412781, 1.02701...    46.555421  \n",
       "319837  [1.5152519941329956, 1.6994524002075195, 0.812...   177.466514  \n",
       "211619  [1.0176557302474976, 0.7266640067100525, 0.791...    79.562635  \n",
       "482354  [1.9792650938034058, 7.027391672134399, 1.2090...   291.032981  \n",
       "...                                                   ...          ...  \n",
       "72800   [1.0563750267028809, 1.3372515439987183, 1.368...    24.428778  \n",
       "423144  [1.0360097885131836, 0.9656434059143066, 0.842...   317.206996  \n",
       "392770  [1.3412532806396484, 0.919788658618927, 0.8255...   210.624307  \n",
       "177568  [0.9540113806724548, 2.3491640090942383, 2.188...    66.257070  \n",
       "158889  [1.2259968519210815, 1.4584753513336182, 1.331...    53.644470  \n",
       "\n",
       "[97521 rows x 5 columns]"
      ]
     },
     "execution_count": 24,
     "metadata": {},
     "output_type": "execute_result"
    }
   ],
   "source": [
    "x_test_set[\"pred_energy\"] = x_test_set.apply(energy, axis=1)\n",
    "x_test_set"
   ]
  },
  {
   "cell_type": "code",
   "execution_count": 28,
   "metadata": {},
   "outputs": [
    {
     "data": {
      "text/html": [
       "<div>\n",
       "<style scoped>\n",
       "    .dataframe tbody tr th:only-of-type {\n",
       "        vertical-align: middle;\n",
       "    }\n",
       "\n",
       "    .dataframe tbody tr th {\n",
       "        vertical-align: top;\n",
       "    }\n",
       "\n",
       "    .dataframe thead th {\n",
       "        text-align: right;\n",
       "    }\n",
       "</style>\n",
       "<table border=\"1\" class=\"dataframe\">\n",
       "  <thead>\n",
       "    <tr style=\"text-align: right;\">\n",
       "      <th></th>\n",
       "      <th>beamEnergy</th>\n",
       "      <th>pred_energy</th>\n",
       "    </tr>\n",
       "  </thead>\n",
       "  <tbody>\n",
       "    <tr>\n",
       "      <th>427817</th>\n",
       "      <td>300.0</td>\n",
       "      <td>338.893417</td>\n",
       "    </tr>\n",
       "    <tr>\n",
       "      <th>106436</th>\n",
       "      <td>50.0</td>\n",
       "      <td>46.555421</td>\n",
       "    </tr>\n",
       "    <tr>\n",
       "      <th>319837</th>\n",
       "      <td>200.0</td>\n",
       "      <td>177.466514</td>\n",
       "    </tr>\n",
       "    <tr>\n",
       "      <th>211619</th>\n",
       "      <td>100.0</td>\n",
       "      <td>79.562635</td>\n",
       "    </tr>\n",
       "    <tr>\n",
       "      <th>482354</th>\n",
       "      <td>300.0</td>\n",
       "      <td>291.032981</td>\n",
       "    </tr>\n",
       "    <tr>\n",
       "      <th>...</th>\n",
       "      <td>...</td>\n",
       "      <td>...</td>\n",
       "    </tr>\n",
       "    <tr>\n",
       "      <th>72800</th>\n",
       "      <td>20.0</td>\n",
       "      <td>24.428778</td>\n",
       "    </tr>\n",
       "    <tr>\n",
       "      <th>423144</th>\n",
       "      <td>300.0</td>\n",
       "      <td>317.206996</td>\n",
       "    </tr>\n",
       "    <tr>\n",
       "      <th>392770</th>\n",
       "      <td>200.0</td>\n",
       "      <td>210.624307</td>\n",
       "    </tr>\n",
       "    <tr>\n",
       "      <th>177568</th>\n",
       "      <td>50.0</td>\n",
       "      <td>66.257070</td>\n",
       "    </tr>\n",
       "    <tr>\n",
       "      <th>158889</th>\n",
       "      <td>50.0</td>\n",
       "      <td>53.644470</td>\n",
       "    </tr>\n",
       "  </tbody>\n",
       "</table>\n",
       "<p>97521 rows × 2 columns</p>\n",
       "</div>"
      ],
      "text/plain": [
       "        beamEnergy  pred_energy\n",
       "427817       300.0   338.893417\n",
       "106436        50.0    46.555421\n",
       "319837       200.0   177.466514\n",
       "211619       100.0    79.562635\n",
       "482354       300.0   291.032981\n",
       "...            ...          ...\n",
       "72800         20.0    24.428778\n",
       "423144       300.0   317.206996\n",
       "392770       200.0   210.624307\n",
       "177568        50.0    66.257070\n",
       "158889        50.0    53.644470\n",
       "\n",
       "[97521 rows x 2 columns]"
      ]
     },
     "execution_count": 28,
     "metadata": {},
     "output_type": "execute_result"
    }
   ],
   "source": [
    "Norm_Equ_pred_energy = x_test_set[[\"beamEnergy\", \"pred_energy\"]]\n",
    "Norm_Equ_pred_energy"
   ]
  },
  {
   "cell_type": "code",
   "execution_count": 29,
   "metadata": {},
   "outputs": [],
   "source": [
    "Norm_Equ_pred_energy.to_pickle(\"pion_pred_ne.pkl\")"
   ]
  },
  {
   "cell_type": "code",
   "execution_count": 25,
   "metadata": {},
   "outputs": [
    {
     "data": {
      "text/html": [
       "<div>\n",
       "<style scoped>\n",
       "    .dataframe tbody tr th:only-of-type {\n",
       "        vertical-align: middle;\n",
       "    }\n",
       "\n",
       "    .dataframe tbody tr th {\n",
       "        vertical-align: top;\n",
       "    }\n",
       "\n",
       "    .dataframe thead th {\n",
       "        text-align: right;\n",
       "    }\n",
       "</style>\n",
       "<table border=\"1\" class=\"dataframe\">\n",
       "  <thead>\n",
       "    <tr style=\"text-align: right;\">\n",
       "      <th></th>\n",
       "      <th>beamEnergy</th>\n",
       "      <th>trueBeamEnergy</th>\n",
       "      <th>pred_energy</th>\n",
       "    </tr>\n",
       "  </thead>\n",
       "  <tbody>\n",
       "    <tr>\n",
       "      <th>count</th>\n",
       "      <td>19705.0</td>\n",
       "      <td>19705.000000</td>\n",
       "      <td>19705.000000</td>\n",
       "    </tr>\n",
       "    <tr>\n",
       "      <th>mean</th>\n",
       "      <td>20.0</td>\n",
       "      <td>19.863430</td>\n",
       "      <td>17.285078</td>\n",
       "    </tr>\n",
       "    <tr>\n",
       "      <th>std</th>\n",
       "      <td>0.0</td>\n",
       "      <td>0.795244</td>\n",
       "      <td>5.844963</td>\n",
       "    </tr>\n",
       "    <tr>\n",
       "      <th>min</th>\n",
       "      <td>20.0</td>\n",
       "      <td>2.513097</td>\n",
       "      <td>2.220176</td>\n",
       "    </tr>\n",
       "    <tr>\n",
       "      <th>25%</th>\n",
       "      <td>20.0</td>\n",
       "      <td>19.842068</td>\n",
       "      <td>13.717155</td>\n",
       "    </tr>\n",
       "    <tr>\n",
       "      <th>50%</th>\n",
       "      <td>20.0</td>\n",
       "      <td>19.961815</td>\n",
       "      <td>16.697068</td>\n",
       "    </tr>\n",
       "    <tr>\n",
       "      <th>75%</th>\n",
       "      <td>20.0</td>\n",
       "      <td>20.088787</td>\n",
       "      <td>20.279247</td>\n",
       "    </tr>\n",
       "    <tr>\n",
       "      <th>max</th>\n",
       "      <td>20.0</td>\n",
       "      <td>20.965208</td>\n",
       "      <td>87.520806</td>\n",
       "    </tr>\n",
       "  </tbody>\n",
       "</table>\n",
       "</div>"
      ],
      "text/plain": [
       "       beamEnergy  trueBeamEnergy   pred_energy\n",
       "count     19705.0    19705.000000  19705.000000\n",
       "mean         20.0       19.863430     17.285078\n",
       "std           0.0        0.795244      5.844963\n",
       "min          20.0        2.513097      2.220176\n",
       "25%          20.0       19.842068     13.717155\n",
       "50%          20.0       19.961815     16.697068\n",
       "75%          20.0       20.088787     20.279247\n",
       "max          20.0       20.965208     87.520806"
      ]
     },
     "execution_count": 25,
     "metadata": {},
     "output_type": "execute_result"
    }
   ],
   "source": [
    "x_test_set.loc[(x_test_set.beamEnergy==20)].describe()"
   ]
  },
  {
   "cell_type": "code",
   "execution_count": 22,
   "metadata": {},
   "outputs": [
    {
     "data": {
      "text/html": [
       "<div>\n",
       "<style scoped>\n",
       "    .dataframe tbody tr th:only-of-type {\n",
       "        vertical-align: middle;\n",
       "    }\n",
       "\n",
       "    .dataframe tbody tr th {\n",
       "        vertical-align: top;\n",
       "    }\n",
       "\n",
       "    .dataframe thead th {\n",
       "        text-align: right;\n",
       "    }\n",
       "</style>\n",
       "<table border=\"1\" class=\"dataframe\">\n",
       "  <thead>\n",
       "    <tr style=\"text-align: right;\">\n",
       "      <th></th>\n",
       "      <th>beamEnergy</th>\n",
       "      <th>trueBeamEnergy</th>\n",
       "      <th>pred_energy</th>\n",
       "    </tr>\n",
       "  </thead>\n",
       "  <tbody>\n",
       "    <tr>\n",
       "      <th>count</th>\n",
       "      <td>19500.0</td>\n",
       "      <td>19500.000000</td>\n",
       "      <td>19500.000000</td>\n",
       "    </tr>\n",
       "    <tr>\n",
       "      <th>mean</th>\n",
       "      <td>50.0</td>\n",
       "      <td>49.778030</td>\n",
       "      <td>45.222572</td>\n",
       "    </tr>\n",
       "    <tr>\n",
       "      <th>std</th>\n",
       "      <td>0.0</td>\n",
       "      <td>1.599738</td>\n",
       "      <td>10.826862</td>\n",
       "    </tr>\n",
       "    <tr>\n",
       "      <th>min</th>\n",
       "      <td>50.0</td>\n",
       "      <td>12.711892</td>\n",
       "      <td>3.008395</td>\n",
       "    </tr>\n",
       "    <tr>\n",
       "      <th>25%</th>\n",
       "      <td>50.0</td>\n",
       "      <td>49.628668</td>\n",
       "      <td>38.981621</td>\n",
       "    </tr>\n",
       "    <tr>\n",
       "      <th>50%</th>\n",
       "      <td>50.0</td>\n",
       "      <td>49.924364</td>\n",
       "      <td>44.765380</td>\n",
       "    </tr>\n",
       "    <tr>\n",
       "      <th>75%</th>\n",
       "      <td>50.0</td>\n",
       "      <td>50.232206</td>\n",
       "      <td>51.442987</td>\n",
       "    </tr>\n",
       "    <tr>\n",
       "      <th>max</th>\n",
       "      <td>50.0</td>\n",
       "      <td>50.966721</td>\n",
       "      <td>115.400290</td>\n",
       "    </tr>\n",
       "  </tbody>\n",
       "</table>\n",
       "</div>"
      ],
      "text/plain": [
       "       beamEnergy  trueBeamEnergy   pred_energy\n",
       "count     19500.0    19500.000000  19500.000000\n",
       "mean         50.0       49.778030     45.222572\n",
       "std           0.0        1.599738     10.826862\n",
       "min          50.0       12.711892      3.008395\n",
       "25%          50.0       49.628668     38.981621\n",
       "50%          50.0       49.924364     44.765380\n",
       "75%          50.0       50.232206     51.442987\n",
       "max          50.0       50.966721    115.400290"
      ]
     },
     "execution_count": 22,
     "metadata": {},
     "output_type": "execute_result"
    }
   ],
   "source": [
    "x_test_set.loc[(x_test_set.beamEnergy==50)].describe()"
   ]
  },
  {
   "cell_type": "code",
   "execution_count": 23,
   "metadata": {},
   "outputs": [
    {
     "data": {
      "text/html": [
       "<div>\n",
       "<style scoped>\n",
       "    .dataframe tbody tr th:only-of-type {\n",
       "        vertical-align: middle;\n",
       "    }\n",
       "\n",
       "    .dataframe tbody tr th {\n",
       "        vertical-align: top;\n",
       "    }\n",
       "\n",
       "    .dataframe thead th {\n",
       "        text-align: right;\n",
       "    }\n",
       "</style>\n",
       "<table border=\"1\" class=\"dataframe\">\n",
       "  <thead>\n",
       "    <tr style=\"text-align: right;\">\n",
       "      <th></th>\n",
       "      <th>beamEnergy</th>\n",
       "      <th>trueBeamEnergy</th>\n",
       "      <th>pred_energy</th>\n",
       "    </tr>\n",
       "  </thead>\n",
       "  <tbody>\n",
       "    <tr>\n",
       "      <th>count</th>\n",
       "      <td>19475.0</td>\n",
       "      <td>19475.000000</td>\n",
       "      <td>19475.000000</td>\n",
       "    </tr>\n",
       "    <tr>\n",
       "      <th>mean</th>\n",
       "      <td>100.0</td>\n",
       "      <td>99.512154</td>\n",
       "      <td>93.485149</td>\n",
       "    </tr>\n",
       "    <tr>\n",
       "      <th>std</th>\n",
       "      <td>0.0</td>\n",
       "      <td>3.827558</td>\n",
       "      <td>18.538940</td>\n",
       "    </tr>\n",
       "    <tr>\n",
       "      <th>min</th>\n",
       "      <td>100.0</td>\n",
       "      <td>1.252870</td>\n",
       "      <td>1.649805</td>\n",
       "    </tr>\n",
       "    <tr>\n",
       "      <th>25%</th>\n",
       "      <td>100.0</td>\n",
       "      <td>99.277424</td>\n",
       "      <td>83.789598</td>\n",
       "    </tr>\n",
       "    <tr>\n",
       "      <th>50%</th>\n",
       "      <td>100.0</td>\n",
       "      <td>99.851273</td>\n",
       "      <td>93.382612</td>\n",
       "    </tr>\n",
       "    <tr>\n",
       "      <th>75%</th>\n",
       "      <td>100.0</td>\n",
       "      <td>100.467709</td>\n",
       "      <td>104.016574</td>\n",
       "    </tr>\n",
       "    <tr>\n",
       "      <th>max</th>\n",
       "      <td>100.0</td>\n",
       "      <td>101.459312</td>\n",
       "      <td>229.120533</td>\n",
       "    </tr>\n",
       "  </tbody>\n",
       "</table>\n",
       "</div>"
      ],
      "text/plain": [
       "       beamEnergy  trueBeamEnergy   pred_energy\n",
       "count     19475.0    19475.000000  19475.000000\n",
       "mean        100.0       99.512154     93.485149\n",
       "std           0.0        3.827558     18.538940\n",
       "min         100.0        1.252870      1.649805\n",
       "25%         100.0       99.277424     83.789598\n",
       "50%         100.0       99.851273     93.382612\n",
       "75%         100.0      100.467709    104.016574\n",
       "max         100.0      101.459312    229.120533"
      ]
     },
     "execution_count": 23,
     "metadata": {},
     "output_type": "execute_result"
    }
   ],
   "source": [
    "x_test_set.loc[(x_test_set.beamEnergy==100)].describe()"
   ]
  },
  {
   "cell_type": "code",
   "execution_count": 24,
   "metadata": {},
   "outputs": [
    {
     "data": {
      "text/html": [
       "<div>\n",
       "<style scoped>\n",
       "    .dataframe tbody tr th:only-of-type {\n",
       "        vertical-align: middle;\n",
       "    }\n",
       "\n",
       "    .dataframe tbody tr th {\n",
       "        vertical-align: top;\n",
       "    }\n",
       "\n",
       "    .dataframe thead th {\n",
       "        text-align: right;\n",
       "    }\n",
       "</style>\n",
       "<table border=\"1\" class=\"dataframe\">\n",
       "  <thead>\n",
       "    <tr style=\"text-align: right;\">\n",
       "      <th></th>\n",
       "      <th>beamEnergy</th>\n",
       "      <th>trueBeamEnergy</th>\n",
       "      <th>pred_energy</th>\n",
       "    </tr>\n",
       "  </thead>\n",
       "  <tbody>\n",
       "    <tr>\n",
       "      <th>count</th>\n",
       "      <td>19525.0</td>\n",
       "      <td>19525.000000</td>\n",
       "      <td>19525.000000</td>\n",
       "    </tr>\n",
       "    <tr>\n",
       "      <th>mean</th>\n",
       "      <td>200.0</td>\n",
       "      <td>198.962234</td>\n",
       "      <td>192.471970</td>\n",
       "    </tr>\n",
       "    <tr>\n",
       "      <th>std</th>\n",
       "      <td>0.0</td>\n",
       "      <td>8.047883</td>\n",
       "      <td>33.864917</td>\n",
       "    </tr>\n",
       "    <tr>\n",
       "      <th>min</th>\n",
       "      <td>200.0</td>\n",
       "      <td>0.987092</td>\n",
       "      <td>1.580398</td>\n",
       "    </tr>\n",
       "    <tr>\n",
       "      <th>25%</th>\n",
       "      <td>200.0</td>\n",
       "      <td>198.561462</td>\n",
       "      <td>178.555128</td>\n",
       "    </tr>\n",
       "    <tr>\n",
       "      <th>50%</th>\n",
       "      <td>200.0</td>\n",
       "      <td>199.731537</td>\n",
       "      <td>193.764619</td>\n",
       "    </tr>\n",
       "    <tr>\n",
       "      <th>75%</th>\n",
       "      <td>200.0</td>\n",
       "      <td>200.969955</td>\n",
       "      <td>210.224129</td>\n",
       "    </tr>\n",
       "    <tr>\n",
       "      <th>max</th>\n",
       "      <td>200.0</td>\n",
       "      <td>202.564880</td>\n",
       "      <td>316.559902</td>\n",
       "    </tr>\n",
       "  </tbody>\n",
       "</table>\n",
       "</div>"
      ],
      "text/plain": [
       "       beamEnergy  trueBeamEnergy   pred_energy\n",
       "count     19525.0    19525.000000  19525.000000\n",
       "mean        200.0      198.962234    192.471970\n",
       "std           0.0        8.047883     33.864917\n",
       "min         200.0        0.987092      1.580398\n",
       "25%         200.0      198.561462    178.555128\n",
       "50%         200.0      199.731537    193.764619\n",
       "75%         200.0      200.969955    210.224129\n",
       "max         200.0      202.564880    316.559902"
      ]
     },
     "execution_count": 24,
     "metadata": {},
     "output_type": "execute_result"
    }
   ],
   "source": [
    "x_test_set.loc[(x_test_set.beamEnergy==200)].describe()"
   ]
  },
  {
   "cell_type": "code",
   "execution_count": 25,
   "metadata": {},
   "outputs": [
    {
     "data": {
      "text/html": [
       "<div>\n",
       "<style scoped>\n",
       "    .dataframe tbody tr th:only-of-type {\n",
       "        vertical-align: middle;\n",
       "    }\n",
       "\n",
       "    .dataframe tbody tr th {\n",
       "        vertical-align: top;\n",
       "    }\n",
       "\n",
       "    .dataframe thead th {\n",
       "        text-align: right;\n",
       "    }\n",
       "</style>\n",
       "<table border=\"1\" class=\"dataframe\">\n",
       "  <thead>\n",
       "    <tr style=\"text-align: right;\">\n",
       "      <th></th>\n",
       "      <th>beamEnergy</th>\n",
       "      <th>trueBeamEnergy</th>\n",
       "      <th>pred_energy</th>\n",
       "    </tr>\n",
       "  </thead>\n",
       "  <tbody>\n",
       "    <tr>\n",
       "      <th>count</th>\n",
       "      <td>19316.0</td>\n",
       "      <td>19316.000000</td>\n",
       "      <td>19316.000000</td>\n",
       "    </tr>\n",
       "    <tr>\n",
       "      <th>mean</th>\n",
       "      <td>300.0</td>\n",
       "      <td>298.146179</td>\n",
       "      <td>293.764753</td>\n",
       "    </tr>\n",
       "    <tr>\n",
       "      <th>std</th>\n",
       "      <td>0.0</td>\n",
       "      <td>15.619859</td>\n",
       "      <td>47.279323</td>\n",
       "    </tr>\n",
       "    <tr>\n",
       "      <th>min</th>\n",
       "      <td>300.0</td>\n",
       "      <td>0.067563</td>\n",
       "      <td>0.184956</td>\n",
       "    </tr>\n",
       "    <tr>\n",
       "      <th>25%</th>\n",
       "      <td>300.0</td>\n",
       "      <td>297.824226</td>\n",
       "      <td>275.772473</td>\n",
       "    </tr>\n",
       "    <tr>\n",
       "      <th>50%</th>\n",
       "      <td>300.0</td>\n",
       "      <td>299.594727</td>\n",
       "      <td>295.760449</td>\n",
       "    </tr>\n",
       "    <tr>\n",
       "      <th>75%</th>\n",
       "      <td>300.0</td>\n",
       "      <td>301.471046</td>\n",
       "      <td>317.853773</td>\n",
       "    </tr>\n",
       "    <tr>\n",
       "      <th>max</th>\n",
       "      <td>300.0</td>\n",
       "      <td>303.685150</td>\n",
       "      <td>437.431241</td>\n",
       "    </tr>\n",
       "  </tbody>\n",
       "</table>\n",
       "</div>"
      ],
      "text/plain": [
       "       beamEnergy  trueBeamEnergy   pred_energy\n",
       "count     19316.0    19316.000000  19316.000000\n",
       "mean        300.0      298.146179    293.764753\n",
       "std           0.0       15.619859     47.279323\n",
       "min         300.0        0.067563      0.184956\n",
       "25%         300.0      297.824226    275.772473\n",
       "50%         300.0      299.594727    295.760449\n",
       "75%         300.0      301.471046    317.853773\n",
       "max         300.0      303.685150    437.431241"
      ]
     },
     "execution_count": 25,
     "metadata": {},
     "output_type": "execute_result"
    }
   ],
   "source": [
    "x_test_set.loc[(x_test_set.beamEnergy==300)].describe()"
   ]
  },
  {
   "cell_type": "code",
   "execution_count": 34,
   "metadata": {},
   "outputs": [],
   "source": [
    "true_beamEnergy_mean =np.array([19.872637, 49.771793, 99.504623, 198.947144, 298.197845])"
   ]
  },
  {
   "cell_type": "code",
   "execution_count": 26,
   "metadata": {},
   "outputs": [
    {
     "data": {
      "text/plain": [
       "array([0.3381508 , 0.23941279, 0.19830893, 0.17594727, 0.1609428 ])"
      ]
     },
     "execution_count": 26,
     "metadata": {},
     "output_type": "execute_result"
    }
   ],
   "source": [
    "x_test_means = np.array([17.285078, 45.222572, 93.485149, 192.471970, 293.764753])\n",
    "x_test_stds = np.array([5.844963, 10.826862, 18.538940, 33.864917, 47.279323])\n",
    "\n",
    "resolution = x_test_stds/x_test_means\n",
    "resolution"
   ]
  },
  {
   "cell_type": "code",
   "execution_count": 27,
   "metadata": {},
   "outputs": [
    {
     "data": {
      "image/png": "[encoded data removed]",
      "text/plain": [
       "<Figure size 432x288 with 1 Axes>"
      ]
     },
     "metadata": {
      "needs_background": "light"
     },
     "output_type": "display_data"
    }
   ],
   "source": [
    "energy=[20, 50, 100, 200, 300]\n",
    "plt.scatter(energy, resolution, color=\"blue\")\n",
    "plt.xlabel(\"Energy (GeV)\")\n",
    "plt.ylabel(\"Resolution\")\n",
    "plt.title(\"Energy Resolution for Pion (Normal Equation)\" )\n",
    "plt.grid(linestyle='--')\n",
    "plt.show()"
   ]
  },
  {
   "cell_type": "code",
   "execution_count": 28,
   "metadata": {},
   "outputs": [
    {
     "data": {
      "image/png": "[encoded data removed]",
      "text/plain": [
       "<Figure size 432x288 with 1 Axes>"
      ]
     },
     "metadata": {
      "needs_background": "light"
     },
     "output_type": "display_data"
    }
   ],
   "source": [
    "energy=[20, 50, 100, 200, 300]\n",
    "plt.scatter(energy, x_test_means/energy, color=\"blue\")\n",
    "plt.xlabel(\"Energy (GeV)\")\n",
    "plt.ylabel(\"Resolution\")\n",
    "plt.title(\"Predicted_mean/True_mean for Pion (Normal Equation)\" )\n",
    "plt.grid(linestyle='--')\n",
    "plt.show()"
   ]
  },
  {
   "cell_type": "code",
   "execution_count": 26,
   "metadata": {},
   "outputs": [
    {
     "data": {
      "text/plain": [
       "[array([20.04268048, 19.75279223, 22.7290999 , ..., 15.98634906,\n",
       "        15.65970462, 24.42877843]),\n",
       " array([46.55542108, 51.81368449, 48.72048954, ..., 59.10470945,\n",
       "        66.25707028, 53.64446965]),\n",
       " array([ 79.5626349 ,  93.81769835, 105.09951164, ...,  74.65167953,\n",
       "         87.19038637,  93.24765128]),\n",
       " array([177.4665139 , 201.76950614, 181.24471437, ..., 159.49002065,\n",
       "        188.78223613, 210.62430719]),\n",
       " array([338.89341716, 291.03298097, 299.1923383 , ..., 277.04186211,\n",
       "        303.52600773, 317.20699642])]"
      ]
     },
     "execution_count": 26,
     "metadata": {},
     "output_type": "execute_result"
    }
   ],
   "source": [
    "energy=[20, 50, 100, 200, 300]\n",
    "pred_energy_pion = []\n",
    "\n",
    "for i in energy:\n",
    "    pred_energy_pion.append(x_test_set.loc[x_test_set.beamEnergy==i].pred_energy.values)\n",
    "    \n",
    "pred_energy_pion"
   ]
  },
  {
   "cell_type": "code",
   "execution_count": 27,
   "metadata": {},
   "outputs": [
    {
     "data": {
      "text/html": [
       "\n",
       "<div id=\"root_plot_1612545439196\"\n",
       "     style=\"width: 696px; height: 472px\">\n",
       "</div>\n",
       "<script src=\"/static/components/requirejs/require.js\" type=\"text/javascript\" charset=\"utf-8\"></script>\n",
       "<script>\n",
       " requirejs.config({\n",
       "     paths: {\n",
       "       'JSRootCore' : '/static/scripts/JSRootCore',\n",
       "     }\n",
       "   });\n",
       " require(['JSRootCore'],\n",
       "     function(Core) {\n",
       "       var obj = Core.JSONR_unref({\"_typename\":\"TCanvas\",\"fUniqueID\":0,\"fBits\":3342344,\"fLineColor\":1,\"fLineStyle\":1,\"fLineWidth\":1,\"fFillColor\":0,\"fFillStyle\":1001,\"fLeftMargin\":0.1,\"fRightMargin\":0.1,\"fBottomMargin\":0.1,\"fTopMargin\":0.1,\"fXfile\":2,\"fYfile\":2,\"fAfile\":1,\"fXstat\":0.99,\"fYstat\":0.99,\"fAstat\":2,\"fFrameFillColor\":0,\"fFrameLineColor\":1,\"fFrameFillStyle\":1001,\"fFrameLineStyle\":1,\"fFrameLineWidth\":1,\"fFrameBorderSize\":1,\"fFrameBorderMode\":0,\"fX1\":-61.2500038184228,\"fY1\":-848.400063210729,\"fX2\":451.250003818423,\"fY2\":7635.60006321073,\"fXtoAbsPixelk\":83.1805417509965,\"fXtoPixelk\":83.1805417509965,\"fXtoPixel\":1.3580487602513,\"fYtoAbsPixelk\":424.800047186661,\"fYtoPixelk\":424.800047186661,\"fYtoPixel\":-0.0556341340130424,\"fUtoAbsPixelk\":5e-5,\"fUtoPixelk\":5e-5,\"fUtoPixel\":696,\"fVtoAbsPixelk\":472.00005,\"fVtoPixelk\":472,\"fVtoPixel\":-472,\"fAbsPixeltoXk\":-61.2500038184228,\"fPixeltoXk\":-61.2500038184228,\"fPixeltoX\":0.736350585685123,\"fAbsPixeltoYk\":7635.60006321073,\"fPixeltoYk\":-848.400063210729,\"fPixeltoY\":-17.9745765390285,\"fXlowNDC\":0,\"fYlowNDC\":0,\"fXUpNDC\":1,\"fYUpNDC\":1,\"fWNDC\":1,\"fHNDC\":1,\"fAbsXlowNDC\":0,\"fAbsYlowNDC\":0,\"fAbsWNDC\":1,\"fAbsHNDC\":1,\"fUxmin\":-10,\"fUymin\":0,\"fUxmax\":400,\"fUymax\":6787.2,\"fTheta\":30,\"fPhi\":30,\"fAspectRatio\":0,\"fNumber\":0,\"fTickx\":0,\"fTicky\":0,\"fLogx\":0,\"fLogy\":0,\"fLogz\":0,\"fPadPaint\":0,\"fCrosshair\":0,\"fCrosshairPos\":0,\"fBorderSize\":2,\"fBorderMode\":0,\"fModified\":false,\"fGridx\":false,\"fGridy\":false,\"fAbsCoord\":false,\"fEditable\":true,\"fFixedAspectRatio\":false,\"fPrimitives\":{\"_typename\":\"TList\",\"name\":\"TList\",\"arr\":[{\"_typename\":\"TFrame\",\"fUniqueID\":0,\"fBits\":8,\"fLineColor\":1,\"fLineStyle\":1,\"fLineWidth\":1,\"fFillColor\":0,\"fFillStyle\":1001,\"fX1\":-10,\"fY1\":0,\"fX2\":400,\"fY2\":6787.2,\"fBorderSize\":1,\"fBorderMode\":0},{\"_typename\":\"TH1F\",\"fUniqueID\":0,\"fBits\":8,\"fName\":\"H_pion_pred_20\",\"fTitle\":\"Reconstructed Energy Distribution (pion)\",\"fLineColor\":1,\"fLineStyle\":1,\"fLineWidth\":1,\"fFillColor\":0,\"fFillStyle\":1001,\"fMarkerColor\":1,\"fMarkerStyle\":1,\"fMarkerSize\":1,\"fNcells\":102,\"fXaxis\":{\"_typename\":\"TAxis\",\"fUniqueID\":0,\"fBits\":0,\"fName\":\"xaxis\",\"fTitle\":\"Energy(GeV)\",\"fNdivisions\":510,\"fAxisColor\":1,\"fLabelColor\":1,\"fLabelFont\":42,\"fLabelOffset\":0.005,\"fLabelSize\":0.035,\"fTickLength\":0.03,\"fTitleOffset\":1,\"fTitleSize\":0.035,\"fTitleColor\":1,\"fTitleFont\":42,\"fNbins\":100,\"fXmin\":-10,\"fXmax\":400,\"fXbins\":[],\"fFirst\":0,\"fLast\":0,\"fBits2\":0,\"fTimeDisplay\":false,\"fTimeFormat\":\"\",\"fLabels\":null,\"fModLabs\":null},\"fYaxis\":{\"_typename\":\"TAxis\",\"fUniqueID\":0,\"fBits\":0,\"fName\":\"yaxis\",\"fTitle\":\"Normalized Entries\",\"fNdivisions\":510,\"fAxisColor\":1,\"fLabelColor\":1,\"fLabelFont\":42,\"fLabelOffset\":0.005,\"fLabelSize\":0.035,\"fTickLength\":0.03,\"fTitleOffset\":0,\"fTitleSize\":0.035,\"fTitleColor\":1,\"fTitleFont\":42,\"fNbins\":1,\"fXmin\":0,\"fXmax\":1,\"fXbins\":[],\"fFirst\":0,\"fLast\":0,\"fBits2\":0,\"fTimeDisplay\":false,\"fTimeFormat\":\"\",\"fLabels\":null,\"fModLabs\":null},\"fZaxis\":{\"_typename\":\"TAxis\",\"fUniqueID\":0,\"fBits\":0,\"fName\":\"zaxis\",\"fTitle\":\"\",\"fNdivisions\":510,\"fAxisColor\":1,\"fLabelColor\":1,\"fLabelFont\":42,\"fLabelOffset\":0.005,\"fLabelSize\":0.035,\"fTickLength\":0.03,\"fTitleOffset\":1,\"fTitleSize\":0.035,\"fTitleColor\":1,\"fTitleFont\":42,\"fNbins\":1,\"fXmin\":0,\"fXmax\":1,\"fXbins\":[],\"fFirst\":0,\"fLast\":0,\"fBits2\":0,\"fTimeDisplay\":false,\"fTimeFormat\":\"\",\"fLabels\":null,\"fModLabs\":null},\"fBarOffset\":0,\"fBarWidth\":1000,\"fEntries\":19705,\"fTsumw\":19705,\"fTsumw2\":19705,\"fTsumwx\":340602.465928854,\"fTsumwx2\":6560499.74952313,\"fMaximum\":-1111,\"fMinimum\":-1111,\"fNormFactor\":0,\"fContour\":[],\"fSumw2\":[],\"fOption\":\"\",\"fFunctions\":{\"_typename\":\"TList\",\"name\":\"TList\",\"arr\":[{\"_typename\":\"TPaveStats\",\"fUniqueID\":0,\"fBits\":9,\"fLineColor\":1,\"fLineStyle\":1,\"fLineWidth\":1,\"fFillColor\":0,\"fFillStyle\":1001,\"fX1\":338.50001038611,\"fY1\":5726.70008533448,\"fX2\":441.000013440848,\"fY2\":7084.14007522077,\"fX1NDC\":0.780000016093254,\"fY1NDC\":0.775000005960464,\"fX2NDC\":0.980000019073486,\"fY2NDC\":0.935000002384186,\"fBorderSize\":1,\"fInit\":1,\"fShadowColor\":1,\"fCornerRadius\":0,\"fOption\":\"brNDC\",\"fName\":\"stats\",\"fTextAngle\":0,\"fTextSize\":0,\"fTextAlign\":12,\"fTextColor\":1,\"fTextFont\":42,\"fLabel\":\"\",\"fLongest\":18,\"fMargin\":0.05,\"fLines\":{\"_typename\":\"TList\",\"name\":\"TList\",\"arr\":[{\"_typename\":\"TLatex\",\"fUniqueID\":0,\"fBits\":0,\"fName\":\"\",\"fTitle\":\"H_pion_pred_20\",\"fTextAngle\":0,\"fTextSize\":0.0368,\"fTextAlign\":0,\"fTextColor\":0,\"fTextFont\":0,\"fX\":0,\"fY\":0,\"fLineColor\":1,\"fLineStyle\":1,\"fLineWidth\":2,\"fLimitFactorSize\":3,\"fOriginSize\":0.0368000008165836},{\"_typename\":\"TLatex\",\"fUniqueID\":0,\"fBits\":0,\"fName\":\"\",\"fTitle\":\"Entries = 19705  \",\"fTextAngle\":0,\"fTextSize\":0,\"fTextAlign\":0,\"fTextColor\":0,\"fTextFont\":0,\"fX\":0,\"fY\":0,\"fLineColor\":1,\"fLineStyle\":1,\"fLineWidth\":2,\"fLimitFactorSize\":3,\"fOriginSize\":0.04},{\"_typename\":\"TLatex\",\"fUniqueID\":0,\"fBits\":0,\"fName\":\"\",\"fTitle\":\"Mean  =  17.29\",\"fTextAngle\":0,\"fTextSize\":0,\"fTextAlign\":0,\"fTextColor\":0,\"fTextFont\":0,\"fX\":0,\"fY\":0,\"fLineColor\":1,\"fLineStyle\":1,\"fLineWidth\":2,\"fLimitFactorSize\":3,\"fOriginSize\":0.04},{\"_typename\":\"TLatex\",\"fUniqueID\":0,\"fBits\":0,\"fName\":\"\",\"fTitle\":\"Std Dev   =  5.845\",\"fTextAngle\":0,\"fTextSize\":0,\"fTextAlign\":0,\"fTextColor\":0,\"fTextFont\":0,\"fX\":0,\"fY\":0,\"fLineColor\":1,\"fLineStyle\":1,\"fLineWidth\":2,\"fLimitFactorSize\":3,\"fOriginSize\":0.04}],\"opt\":[\"\",\"\",\"\",\"\"]},\"fOptFit\":0,\"fOptStat\":1111,\"fFitFormat\":\"5.4g\",\"fStatFormat\":\"6.4g\",\"fParent\":{\"$ref\":3}}],\"opt\":[\"brNDC\"]},\"fBufferSize\":0,\"fBuffer\":[],\"fBinStatErrOpt\":0,\"fStatOverflows\":2,\"fArray\":[0,0,0,1,430,968,4980,6464,4274,1747,467,155,80,47,33,26,10,9,5,3,0,0,1,4,1,0,0,0,0,0,0,0,0,0,0,0,0,0,0,0,0,0,0,0,0,0,0,0,0,0,0,0,0,0,0,0,0,0,0,0,0,0,0,0,0,0,0,0,0,0,0,0,0,0,0,0,0,0,0,0,0,0,0,0,0,0,0,0,0,0,0,0,0,0,0,0,0,0,0,0,0,0]},{\"_typename\":\"TH1F\",\"fUniqueID\":0,\"fBits\":8,\"fName\":\"H_pion_pred_50\",\"fTitle\":\"Reconstructed Energy Distribution \",\"fLineColor\":2,\"fLineStyle\":1,\"fLineWidth\":1,\"fFillColor\":0,\"fFillStyle\":1001,\"fMarkerColor\":1,\"fMarkerStyle\":1,\"fMarkerSize\":1,\"fNcells\":102,\"fXaxis\":{\"_typename\":\"TAxis\",\"fUniqueID\":0,\"fBits\":0,\"fName\":\"xaxis\",\"fTitle\":\"Energy(GeV)\",\"fNdivisions\":510,\"fAxisColor\":1,\"fLabelColor\":1,\"fLabelFont\":42,\"fLabelOffset\":0.005,\"fLabelSize\":0.035,\"fTickLength\":0.03,\"fTitleOffset\":1,\"fTitleSize\":0.035,\"fTitleColor\":1,\"fTitleFont\":42,\"fNbins\":100,\"fXmin\":-10,\"fXmax\":400,\"fXbins\":[],\"fFirst\":0,\"fLast\":0,\"fBits2\":0,\"fTimeDisplay\":false,\"fTimeFormat\":\"\",\"fLabels\":null,\"fModLabs\":null},\"fYaxis\":{\"_typename\":\"TAxis\",\"fUniqueID\":0,\"fBits\":0,\"fName\":\"yaxis\",\"fTitle\":\"Normalized Entries\",\"fNdivisions\":510,\"fAxisColor\":1,\"fLabelColor\":1,\"fLabelFont\":42,\"fLabelOffset\":0.005,\"fLabelSize\":0.035,\"fTickLength\":0.03,\"fTitleOffset\":0,\"fTitleSize\":0.035,\"fTitleColor\":1,\"fTitleFont\":42,\"fNbins\":1,\"fXmin\":0,\"fXmax\":1,\"fXbins\":[],\"fFirst\":0,\"fLast\":0,\"fBits2\":0,\"fTimeDisplay\":false,\"fTimeFormat\":\"\",\"fLabels\":null,\"fModLabs\":null},\"fZaxis\":{\"_typename\":\"TAxis\",\"fUniqueID\":0,\"fBits\":0,\"fName\":\"zaxis\",\"fTitle\":\"\",\"fNdivisions\":510,\"fAxisColor\":1,\"fLabelColor\":1,\"fLabelFont\":42,\"fLabelOffset\":0.005,\"fLabelSize\":0.035,\"fTickLength\":0.03,\"fTitleOffset\":1,\"fTitleSize\":0.035,\"fTitleColor\":1,\"fTitleFont\":42,\"fNbins\":1,\"fXmin\":0,\"fXmax\":1,\"fXbins\":[],\"fFirst\":0,\"fLast\":0,\"fBits2\":0,\"fTimeDisplay\":false,\"fTimeFormat\":\"\",\"fLabels\":null,\"fModLabs\":null},\"fBarOffset\":0,\"fBarWidth\":1000,\"fEntries\":19500,\"fTsumw\":19500,\"fTsumw2\":19500,\"fTsumwx\":881840.149927475,\"fTsumwx2\":42164770.6907454,\"fMaximum\":-1111,\"fMinimum\":-1111,\"fNormFactor\":0,\"fContour\":[],\"fSumw2\":[],\"fOption\":\"\",\"fFunctions\":{\"_typename\":\"TList\",\"name\":\"TList\",\"arr\":[],\"opt\":[]},\"fBufferSize\":0,\"fBuffer\":[],\"fBinStatErrOpt\":0,\"fStatOverflows\":2,\"fArray\":[0,0,0,0,292,28,5,8,13,111,487,1497,2612,3437,3393,2782,2016,1382,793,315,118,69,44,32,26,6,12,8,5,5,2,2,0,0,0,0,0,0,0,0,0,0,0,0,0,0,0,0,0,0,0,0,0,0,0,0,0,0,0,0,0,0,0,0,0,0,0,0,0,0,0,0,0,0,0,0,0,0,0,0,0,0,0,0,0,0,0,0,0,0,0,0,0,0,0,0,0,0,0,0,0,0]},{\"_typename\":\"TH1F\",\"fUniqueID\":0,\"fBits\":8,\"fName\":\"H_pion_pred_100\",\"fTitle\":\"Reconstructed Energy Distribution \",\"fLineColor\":3,\"fLineStyle\":1,\"fLineWidth\":1,\"fFillColor\":0,\"fFillStyle\":1001,\"fMarkerColor\":1,\"fMarkerStyle\":1,\"fMarkerSize\":1,\"fNcells\":102,\"fXaxis\":{\"_typename\":\"TAxis\",\"fUniqueID\":0,\"fBits\":0,\"fName\":\"xaxis\",\"fTitle\":\"Energy(GeV)\",\"fNdivisions\":510,\"fAxisColor\":1,\"fLabelColor\":1,\"fLabelFont\":42,\"fLabelOffset\":0.005,\"fLabelSize\":0.035,\"fTickLength\":0.03,\"fTitleOffset\":1,\"fTitleSize\":0.035,\"fTitleColor\":1,\"fTitleFont\":42,\"fNbins\":100,\"fXmin\":-10,\"fXmax\":400,\"fXbins\":[],\"fFirst\":0,\"fLast\":0,\"fBits2\":0,\"fTimeDisplay\":false,\"fTimeFormat\":\"\",\"fLabels\":null,\"fModLabs\":null},\"fYaxis\":{\"_typename\":\"TAxis\",\"fUniqueID\":0,\"fBits\":0,\"fName\":\"yaxis\",\"fTitle\":\"Normalized Entries\",\"fNdivisions\":510,\"fAxisColor\":1,\"fLabelColor\":1,\"fLabelFont\":42,\"fLabelOffset\":0.005,\"fLabelSize\":0.035,\"fTickLength\":0.03,\"fTitleOffset\":0,\"fTitleSize\":0.035,\"fTitleColor\":1,\"fTitleFont\":42,\"fNbins\":1,\"fXmin\":0,\"fXmax\":1,\"fXbins\":[],\"fFirst\":0,\"fLast\":0,\"fBits2\":0,\"fTimeDisplay\":false,\"fTimeFormat\":\"\",\"fLabels\":null,\"fModLabs\":null},\"fZaxis\":{\"_typename\":\"TAxis\",\"fUniqueID\":0,\"fBits\":0,\"fName\":\"zaxis\",\"fTitle\":\"\",\"fNdivisions\":510,\"fAxisColor\":1,\"fLabelColor\":1,\"fLabelFont\":42,\"fLabelOffset\":0.005,\"fLabelSize\":0.035,\"fTickLength\":0.03,\"fTitleOffset\":1,\"fTitleSize\":0.035,\"fTitleColor\":1,\"fTitleFont\":42,\"fNbins\":1,\"fXmin\":0,\"fXmax\":1,\"fXbins\":[],\"fFirst\":0,\"fLast\":0,\"fBits2\":0,\"fTimeDisplay\":false,\"fTimeFormat\":\"\",\"fLabels\":null,\"fModLabs\":null},\"fBarOffset\":0,\"fBarWidth\":1000,\"fEntries\":19475,\"fTsumw\":19475,\"fTsumw2\":19475,\"fTsumwx\":1820623.27942258,\"fTsumwx2\":176894302.653194,\"fMaximum\":-1111,\"fMinimum\":-1111,\"fNormFactor\":0,\"fContour\":[],\"fSumw2\":[],\"fOption\":\"\",\"fFunctions\":{\"_typename\":\"TList\",\"name\":\"TList\",\"arr\":[],\"opt\":[]},\"fBufferSize\":0,\"fBuffer\":[],\"fBinStatErrOpt\":0,\"fStatOverflows\":2,\"fArray\":[0,0,0,2,247,32,5,2,4,1,4,6,4,0,4,7,9,36,85,222,496,901,1314,1730,1957,2204,2097,1857,1649,1357,998,703,606,396,215,132,79,32,28,13,11,10,8,4,1,1,2,2,0,0,0,1,0,0,0,0,0,0,0,1,0,0,0,0,0,0,0,0,0,0,0,0,0,0,0,0,0,0,0,0,0,0,0,0,0,0,0,0,0,0,0,0,0,0,0,0,0,0,0,0,0,0]},{\"_typename\":\"TH1F\",\"fUniqueID\":0,\"fBits\":8,\"fName\":\"H_pion_pred_200\",\"fTitle\":\"Reconstructed Energy Distribution \",\"fLineColor\":4,\"fLineStyle\":1,\"fLineWidth\":1,\"fFillColor\":0,\"fFillStyle\":1001,\"fMarkerColor\":1,\"fMarkerStyle\":1,\"fMarkerSize\":1,\"fNcells\":102,\"fXaxis\":{\"_typename\":\"TAxis\",\"fUniqueID\":0,\"fBits\":0,\"fName\":\"xaxis\",\"fTitle\":\"Energy(GeV)\",\"fNdivisions\":510,\"fAxisColor\":1,\"fLabelColor\":1,\"fLabelFont\":42,\"fLabelOffset\":0.005,\"fLabelSize\":0.035,\"fTickLength\":0.03,\"fTitleOffset\":1,\"fTitleSize\":0.035,\"fTitleColor\":1,\"fTitleFont\":42,\"fNbins\":100,\"fXmin\":-10,\"fXmax\":400,\"fXbins\":[],\"fFirst\":0,\"fLast\":0,\"fBits2\":0,\"fTimeDisplay\":false,\"fTimeFormat\":\"\",\"fLabels\":null,\"fModLabs\":null},\"fYaxis\":{\"_typename\":\"TAxis\",\"fUniqueID\":0,\"fBits\":0,\"fName\":\"yaxis\",\"fTitle\":\"Normalized Entries\",\"fNdivisions\":510,\"fAxisColor\":1,\"fLabelColor\":1,\"fLabelFont\":42,\"fLabelOffset\":0.005,\"fLabelSize\":0.035,\"fTickLength\":0.03,\"fTitleOffset\":0,\"fTitleSize\":0.035,\"fTitleColor\":1,\"fTitleFont\":42,\"fNbins\":1,\"fXmin\":0,\"fXmax\":1,\"fXbins\":[],\"fFirst\":0,\"fLast\":0,\"fBits2\":0,\"fTimeDisplay\":false,\"fTimeFormat\":\"\",\"fLabels\":null,\"fModLabs\":null},\"fZaxis\":{\"_typename\":\"TAxis\",\"fUniqueID\":0,\"fBits\":0,\"fName\":\"zaxis\",\"fTitle\":\"\",\"fNdivisions\":510,\"fAxisColor\":1,\"fLabelColor\":1,\"fLabelFont\":42,\"fLabelOffset\":0.005,\"fLabelSize\":0.035,\"fTickLength\":0.03,\"fTitleOffset\":1,\"fTitleSize\":0.035,\"fTitleColor\":1,\"fTitleFont\":42,\"fNbins\":1,\"fXmin\":0,\"fXmax\":1,\"fXbins\":[],\"fFirst\":0,\"fLast\":0,\"fBits2\":0,\"fTimeDisplay\":false,\"fTimeFormat\":\"\",\"fLabels\":null,\"fModLabs\":null},\"fBarOffset\":0,\"fBarWidth\":1000,\"fEntries\":19525,\"fTsumw\":19525,\"fTsumw2\":19525,\"fTsumwx\":3758015.22196615,\"fTsumwx2\":745703353.821363,\"fMaximum\":-1111,\"fMinimum\":-1111,\"fNormFactor\":0,\"fContour\":[],\"fSumw2\":[],\"fOption\":\"\",\"fFunctions\":{\"_typename\":\"TList\",\"name\":\"TList\",\"arr\":[],\"opt\":[]},\"fBufferSize\":0,\"fBuffer\":[],\"fBinStatErrOpt\":0,\"fStatOverflows\":2,\"fArray\":[0,0,0,1,256,49,8,3,3,1,0,1,1,3,0,2,3,0,1,0,1,1,1,1,1,2,4,3,2,4,2,3,6,4,9,15,30,34,67,148,209,286,428,585,735,852,1126,1154,1321,1405,1401,1375,1194,1155,1012,845,727,678,508,439,359,301,249,177,133,74,50,26,20,6,8,5,4,2,2,2,0,0,0,0,2,0,0,0,0,0,0,0,0,0,0,0,0,0,0,0,0,0,0,0,0,0]},{\"_typename\":\"TH1F\",\"fUniqueID\":0,\"fBits\":8,\"fName\":\"H_pion_pred_300\",\"fTitle\":\"Reconstructed Energy Distribution \",\"fLineColor\":5,\"fLineStyle\":1,\"fLineWidth\":1,\"fFillColor\":0,\"fFillStyle\":1001,\"fMarkerColor\":1,\"fMarkerStyle\":1,\"fMarkerSize\":1,\"fNcells\":102,\"fXaxis\":{\"_typename\":\"TAxis\",\"fUniqueID\":0,\"fBits\":0,\"fName\":\"xaxis\",\"fTitle\":\"Energy(GeV)\",\"fNdivisions\":510,\"fAxisColor\":1,\"fLabelColor\":1,\"fLabelFont\":42,\"fLabelOffset\":0.005,\"fLabelSize\":0.035,\"fTickLength\":0.03,\"fTitleOffset\":1,\"fTitleSize\":0.035,\"fTitleColor\":1,\"fTitleFont\":42,\"fNbins\":100,\"fXmin\":-10,\"fXmax\":400,\"fXbins\":[],\"fFirst\":0,\"fLast\":0,\"fBits2\":0,\"fTimeDisplay\":false,\"fTimeFormat\":\"\",\"fLabels\":null,\"fModLabs\":null},\"fYaxis\":{\"_typename\":\"TAxis\",\"fUniqueID\":0,\"fBits\":0,\"fName\":\"yaxis\",\"fTitle\":\"Normalized Entries\",\"fNdivisions\":510,\"fAxisColor\":1,\"fLabelColor\":1,\"fLabelFont\":42,\"fLabelOffset\":0.005,\"fLabelSize\":0.035,\"fTickLength\":0.03,\"fTitleOffset\":0,\"fTitleSize\":0.035,\"fTitleColor\":1,\"fTitleFont\":42,\"fNbins\":1,\"fXmin\":0,\"fXmax\":1,\"fXbins\":[],\"fFirst\":0,\"fLast\":0,\"fBits2\":0,\"fTimeDisplay\":false,\"fTimeFormat\":\"\",\"fLabels\":null,\"fModLabs\":null},\"fZaxis\":{\"_typename\":\"TAxis\",\"fUniqueID\":0,\"fBits\":0,\"fName\":\"zaxis\",\"fTitle\":\"\",\"fNdivisions\":510,\"fAxisColor\":1,\"fLabelColor\":1,\"fLabelFont\":42,\"fLabelOffset\":0.005,\"fLabelSize\":0.035,\"fTickLength\":0.03,\"fTitleOffset\":1,\"fTitleSize\":0.035,\"fTitleColor\":1,\"fTitleFont\":42,\"fNbins\":1,\"fXmin\":0,\"fXmax\":1,\"fXbins\":[],\"fFirst\":0,\"fLast\":0,\"fBits2\":0,\"fTimeDisplay\":false,\"fTimeFormat\":\"\",\"fLabels\":null,\"fModLabs\":null},\"fBarOffset\":0,\"fBarWidth\":1000,\"fEntries\":19316,\"fTsumw\":19298,\"fTsumw2\":19298,\"fTsumwx\":5666846.9077385,\"fTsumwx2\":1706963789.03563,\"fMaximum\":-1111,\"fMinimum\":-1111,\"fNormFactor\":0,\"fContour\":[],\"fSumw2\":[],\"fOption\":\"\",\"fFunctions\":{\"_typename\":\"TList\",\"name\":\"TList\",\"arr\":[],\"opt\":[]},\"fBufferSize\":0,\"fBuffer\":[],\"fBinStatErrOpt\":0,\"fStatOverflows\":2,\"fArray\":[0,0,0,4,177,57,13,6,4,4,4,4,5,0,2,1,2,2,1,3,1,2,0,1,2,1,0,1,1,0,1,0,2,0,1,1,2,3,0,1,1,1,1,2,3,4,1,3,2,4,1,9,6,6,11,15,21,32,36,65,94,106,163,216,314,376,458,531,704,765,816,954,959,1048,1021,1045,949,959,952,817,736,684,630,551,467,426,349,302,261,243,196,156,134,135,98,57,46,21,12,9,5,18]},{\"_typename\":\"TPaveText\",\"fUniqueID\":0,\"fBits\":9,\"fLineColor\":1,\"fLineStyle\":1,\"fLineWidth\":1,\"fFillColor\":0,\"fFillStyle\":0,\"fX1\":16.8326122876276,\"fY1\":7075.51229870947,\"fX2\":373.167387712372,\"fY2\":7593.18010303349,\"fX1NDC\":0.15235632183908,\"fY1NDC\":0.933983055615829,\"fX2NDC\":0.84764367816092,\"fY2NDC\":0.995000004768372,\"fBorderSize\":0,\"fInit\":1,\"fShadowColor\":1,\"fCornerRadius\":0,\"fOption\":\"blNDC\",\"fName\":\"title\",\"fTextAngle\":0,\"fTextSize\":0,\"fTextAlign\":22,\"fTextColor\":1,\"fTextFont\":42,\"fLabel\":\"\",\"fLongest\":40,\"fMargin\":0.05,\"fLines\":{\"_typename\":\"TList\",\"name\":\"TList\",\"arr\":[{\"_typename\":\"TLatex\",\"fUniqueID\":0,\"fBits\":0,\"fName\":\"\",\"fTitle\":\"Reconstructed Energy Distribution (pion)\",\"fTextAngle\":0,\"fTextSize\":0,\"fTextAlign\":0,\"fTextColor\":0,\"fTextFont\":0,\"fX\":0,\"fY\":0,\"fLineColor\":1,\"fLineStyle\":1,\"fLineWidth\":2,\"fLimitFactorSize\":3,\"fOriginSize\":0.0518644079566002}],\"opt\":[\"\"]}},{\"_typename\":\"TStyle\",\"fUniqueID\":0,\"fBits\":0,\"fName\":\"Modern\",\"fTitle\":\"Modern Style\",\"fLineColor\":1,\"fLineStyle\":1,\"fLineWidth\":1,\"fFillColor\":19,\"fFillStyle\":1001,\"fMarkerColor\":1,\"fMarkerStyle\":1,\"fMarkerSize\":1,\"fTextAngle\":0,\"fTextSize\":0.05,\"fTextAlign\":11,\"fTextColor\":1,\"fTextFont\":62,\"fXaxis\":{\"_typename\":\"TAttAxis\",\"fNdivisions\":510,\"fAxisColor\":1,\"fLabelColor\":1,\"fLabelFont\":42,\"fLabelOffset\":0.005,\"fLabelSize\":0.035,\"fTickLength\":0.03,\"fTitleOffset\":1,\"fTitleSize\":0.035,\"fTitleColor\":1,\"fTitleFont\":42},\"fYaxis\":{\"_typename\":\"TAttAxis\",\"fNdivisions\":510,\"fAxisColor\":1,\"fLabelColor\":1,\"fLabelFont\":42,\"fLabelOffset\":0.005,\"fLabelSize\":0.035,\"fTickLength\":0.03,\"fTitleOffset\":0,\"fTitleSize\":0.035,\"fTitleColor\":1,\"fTitleFont\":42},\"fZaxis\":{\"_typename\":\"TAttAxis\",\"fNdivisions\":510,\"fAxisColor\":1,\"fLabelColor\":1,\"fLabelFont\":42,\"fLabelOffset\":0.005,\"fLabelSize\":0.035,\"fTickLength\":0.03,\"fTitleOffset\":1,\"fTitleSize\":0.035,\"fTitleColor\":1,\"fTitleFont\":42},\"fBarWidth\":1,\"fBarOffset\":0,\"fColorModelPS\":0,\"fDrawBorder\":0,\"fOptLogx\":0,\"fOptLogy\":0,\"fOptLogz\":0,\"fOptDate\":0,\"fOptStat\":1111,\"fOptTitle\":1,\"fOptFile\":0,\"fOptFit\":0,\"fShowEventStatus\":0,\"fShowEditor\":0,\"fShowToolBar\":0,\"fNumberContours\":20,\"fAttDate\":{\"_typename\":\"TAttText\",\"fTextAngle\":0,\"fTextSize\":0.025,\"fTextAlign\":11,\"fTextColor\":1,\"fTextFont\":62},\"fDateX\":0.01,\"fDateY\":0.01,\"fEndErrorSize\":2,\"fErrorX\":0.5,\"fFuncColor\":2,\"fFuncStyle\":1,\"fFuncWidth\":2,\"fGridColor\":0,\"fGridStyle\":3,\"fGridWidth\":1,\"fLegendBorderSize\":1,\"fLegendFillColor\":0,\"fLegendFont\":42,\"fLegendTextSize\":0,\"fHatchesLineWidth\":1,\"fHatchesSpacing\":1,\"fFrameFillColor\":0,\"fFrameLineColor\":1,\"fFrameFillStyle\":1001,\"fFrameLineStyle\":1,\"fFrameLineWidth\":1,\"fFrameBorderSize\":1,\"fFrameBorderMode\":0,\"fHistFillColor\":0,\"fHistLineColor\":602,\"fHistFillStyle\":1001,\"fHistLineStyle\":1,\"fHistLineWidth\":1,\"fHistMinimumZero\":false,\"fHistTopMargin\":0.05,\"fCanvasPreferGL\":false,\"fCanvasColor\":0,\"fCanvasBorderSize\":2,\"fCanvasBorderMode\":0,\"fCanvasDefH\":500,\"fCanvasDefW\":700,\"fCanvasDefX\":10,\"fCanvasDefY\":10,\"fPadColor\":0,\"fPadBorderSize\":2,\"fPadBorderMode\":0,\"fPadBottomMargin\":0.1,\"fPadTopMargin\":0.1,\"fPadLeftMargin\":0.1,\"fPadRightMargin\":0.1,\"fPadGridX\":false,\"fPadGridY\":false,\"fPadTickX\":0,\"fPadTickY\":0,\"fPaperSizeX\":20,\"fPaperSizeY\":26,\"fScreenFactor\":1,\"fStatColor\":0,\"fStatTextColor\":1,\"fStatBorderSize\":1,\"fStatFont\":42,\"fStatFontSize\":0,\"fStatStyle\":1001,\"fStatFormat\":\"6.4g\",\"fStatX\":0.98,\"fStatY\":0.935,\"fStatW\":0.2,\"fStatH\":0.16,\"fStripDecimals\":true,\"fTitleAlign\":23,\"fTitleColor\":0,\"fTitleTextColor\":1,\"fTitleBorderSize\":0,\"fTitleFont\":42,\"fTitleFontSize\":0.05,\"fTitleStyle\":0,\"fTitleX\":0.5,\"fTitleY\":0.995,\"fTitleW\":0,\"fTitleH\":0,\"fLegoInnerR\":0.5,\"fLineStyle\":[\"\",\"  \",\" 12 12\",\" 4 8\",\" 12 16 4 16\",\" 20 12 4 12\",\" 20 12 4 12 4 12 4 12\",\" 20 20\",\" 20 12 4 12 4 12\",\" 80 20\",\" 80 40 4 40\",\"  \",\"  \",\"  \",\"  \",\"  \",\"  \",\"  \",\"  \",\"  \",\"  \",\"  \",\"  \",\"  \",\"  \",\"  \",\"  \",\"  \",\"  \",\"  \"],\"fHeaderPS\":\"\",\"fTitlePS\":\"\",\"fFitFormat\":\"5.4g\",\"fPaintTextFormat\":\"g\",\"fLineScalePS\":3,\"fJoinLinePS\":0,\"fCapLinePS\":0,\"fTimeOffset\":788918400,\"fImageScaling\":1}],\"opt\":[\"\",\"\",\"same\",\"same\",\"same\",\"same\",\"blNDC\",\"\"]},\"fExecs\":null,\"fName\":\"c1\",\"fTitle\":\"c1\",\"fNumPaletteColor\":0,\"fNextPaletteColor\":0,\"fDISPLAY\":\"$DISPLAY\",\"fDoubleBuffer\":0,\"fRetained\":true,\"fXsizeUser\":0,\"fYsizeUser\":0,\"fXsizeReal\":20,\"fYsizeReal\":14.28571,\"fWindowTopX\":0,\"fWindowTopY\":0,\"fWindowWidth\":0,\"fWindowHeight\":0,\"fCw\":696,\"fCh\":472,\"fCatt\":{\"_typename\":\"TAttCanvas\",\"fXBetween\":2,\"fYBetween\":2,\"fTitleFromTop\":1.2,\"fXdate\":0.2,\"fYdate\":0.3,\"fAdate\":1},\"kMoveOpaque\":true,\"kResizeOpaque\":true,\"fHighLightColor\":2,\"fBatch\":true,\"kShowEventStatus\":false,\"kAutoExec\":true,\"kMenuBar\":true});\n",
       "       Core.key_handling = false;\n",
       "       Core.draw(\"root_plot_1612545439196\", obj, \"\");\n",
       "     }\n",
       " );\n",
       "</script>\n"
      ],
      "text/plain": [
       "<IPython.core.display.HTML object>"
      ]
     },
     "metadata": {},
     "output_type": "display_data"
    }
   ],
   "source": [
    "%jsroot on\n",
    "c = ROOT.TCanvas()\n",
    "\n",
    "H_pion_pred_20 = ROOT.TH1F(\"H_pion_pred_20\",\"Reconstructed Energy Distribution (pion);Energy(GeV);Normalized Entries\",100,-10,400)\n",
    "H_pion_pred_50 = ROOT.TH1F(\"H_pion_pred_50\",\"Reconstructed Energy Distribution ;Energy(GeV);Normalized Entries\",100,-10,400)\n",
    "H_pion_pred_100 = ROOT.TH1F(\"H_pion_pred_100\",\"Reconstructed Energy Distribution ;Energy(GeV);Normalized Entries\",100,-10,400)\n",
    "H_pion_pred_200 = ROOT.TH1F(\"H_pion_pred_200\",\"Reconstructed Energy Distribution ;Energy(GeV);Normalized Entries\",100,-10,400)\n",
    "H_pion_pred_300 = ROOT.TH1F(\"H_pion_pred_300\",\"Reconstructed Energy Distribution ;Energy(GeV);Normalized Entries\",100,-10,400)\n",
    "\n",
    "\n",
    "\n",
    "for i in range(pred_energy_pion[0].size):\n",
    "    H_pion_pred_20.Fill(pred_energy_pion[0][i])\n",
    "    \n",
    "for i in range(pred_energy_pion[1].size):\n",
    "    H_pion_pred_50.Fill(pred_energy_pion[1][i])\n",
    "    \n",
    "for i in range(pred_energy_pion[2].size):\n",
    "    H_pion_pred_100.Fill(pred_energy_pion[2][i])\n",
    "    \n",
    "for i in range(pred_energy_pion[3].size):\n",
    "    H_pion_pred_200.Fill(pred_energy_pion[3][i])\n",
    "    \n",
    "for i in range(pred_energy_pion[4].size):\n",
    "    H_pion_pred_300.Fill(pred_energy_pion[4][i])\n",
    "    \n",
    "\n",
    "\n",
    "H_pion_pred_20.SetLineColor(1)\n",
    "H_pion_pred_50.SetLineColor(2)\n",
    "H_pion_pred_100.SetLineColor(3)\n",
    "H_pion_pred_200.SetLineColor(4)\n",
    "H_pion_pred_300.SetLineColor(5)\n",
    "\n",
    "\n",
    "\n",
    "\n",
    "H_pion_pred_20.Draw()\n",
    "H_pion_pred_50.Draw('same')\n",
    "H_pion_pred_100.Draw('same')\n",
    "H_pion_pred_200.Draw('same')\n",
    "H_pion_pred_300.Draw('same')\n",
    "\n",
    "\n",
    "\n",
    "#ROOT.gPad.SetLogy()\n",
    "c.Draw()"
   ]
  },
  {
   "cell_type": "code",
   "execution_count": 31,
   "metadata": {},
   "outputs": [
    {
     "name": "stdout",
     "output_type": "stream",
     "text": [
      "[17.2850781998911, 45.22257179115259, 93.4851491359478, 192.47197039519313, 293.6494407575138]\n"
     ]
    },
    {
     "data": {
      "text/plain": [
       "[5.844814967813348,\n",
       " 10.826584570065949,\n",
       " 18.538464133416028,\n",
       " 33.86404941053829,\n",
       " 47.147552259907265]"
      ]
     },
     "execution_count": 31,
     "metadata": {},
     "output_type": "execute_result"
    }
   ],
   "source": [
    "pion_means = []\n",
    "pion_stds = []\n",
    "\n",
    "pion_means.append(H_pion_pred_20.GetMean())\n",
    "pion_means.append(H_pion_pred_50.GetMean())\n",
    "pion_means.append(H_pion_pred_100.GetMean())\n",
    "pion_means.append(H_pion_pred_200.GetMean())\n",
    "pion_means.append(H_pion_pred_300.GetMean())\n",
    "\n",
    "pion_stds.append(H_pion_pred_20.GetStdDev())\n",
    "pion_stds.append(H_pion_pred_50.GetStdDev())\n",
    "pion_stds.append(H_pion_pred_100.GetStdDev())\n",
    "pion_stds.append(H_pion_pred_200.GetStdDev())\n",
    "pion_stds.append(H_pion_pred_300.GetStdDev())\n",
    "\n",
    "print(pion_means)\n",
    "pion_stds\n"
   ]
  },
  {
   "cell_type": "code",
   "execution_count": 32,
   "metadata": {},
   "outputs": [
    {
     "data": {
      "text/plain": [
       "array([0.47662377, 0.16623907, 0.10603448, 0.10822271, 0.11697885])"
      ]
     },
     "execution_count": 32,
     "metadata": {},
     "output_type": "execute_result"
    }
   ],
   "source": [
    "#for NN with one hidden layer\n",
    "x_test_means = np.array([22.784109, 51.891449, 101.011993, 197.503555, 294.553650])\n",
    "x_test_stds = np.array([10.859448, 8.626386, 10.710754, 21.374369, 34.456547])\n",
    "\n",
    "resolution = x_test_stds/x_test_means\n",
    "resolution"
   ]
  },
  {
   "cell_type": "code",
   "execution_count": 33,
   "metadata": {},
   "outputs": [
    {
     "data": {
      "image/png": "[encoded data removed]",
      "text/plain": [
       "<Figure size 432x288 with 1 Axes>"
      ]
     },
     "metadata": {
      "needs_background": "light"
     },
     "output_type": "display_data"
    }
   ],
   "source": [
    "plt.plot(energy, (pion_stds)/np.array(pion_means), \"b.\", label=\"Normal Equation\",  linestyle=\"--\", color=\"b\", markersize=10)\n",
    "plt.plot(energy, resolution, \"r.\", label=\"NN_one_hidden_layer\",  linestyle=\"--\", color=\"r\", markersize=10)\n",
    "\n",
    "plt.xlabel(\"Energy (GeV)\")\n",
    "plt.ylabel(\"Resolution\")\n",
    "plt.title(\"Pion Energy Resolution for different methods\")\n",
    "\n",
    "plt.ylim([0,.5])\n",
    "\n",
    "plt.grid(linestyle='--')\n",
    "plt.legend()\n",
    "plt.show()"
   ]
  },
  {
   "cell_type": "code",
   "execution_count": 35,
   "metadata": {},
   "outputs": [
    {
     "data": {
      "image/png": "[encoded data removed]",
      "text/plain": [
       "<Figure size 432x288 with 1 Axes>"
      ]
     },
     "metadata": {
      "needs_background": "light"
     },
     "output_type": "display_data"
    }
   ],
   "source": [
    "plt.plot(energy, np.array(pion_means)/true_beamEnergy_mean, \"b.\", label=\"Normal Equation\",  linestyle=\"--\", color=\"b\", markersize=10)\n",
    "plt.plot(energy, x_test_means/true_beamEnergy_mean, \"r.\", label=\"NN_one_hidden_layer\",  linestyle=\"--\", color=\"r\", markersize=10)\n",
    "\n",
    "plt.xlabel(\"Energy (GeV)\")\n",
    "plt.ylabel(\"Resolution\")\n",
    "plt.title(\"Pion Energy Resolution for different methods\")\n",
    "\n",
    "#plt.ylim([0.5,.5])\n",
    "\n",
    "plt.grid(linestyle='--')\n",
    "plt.legend()\n",
    "plt.show()"
   ]
  },
  {
   "cell_type": "code",
   "execution_count": null,
   "metadata": {},
   "outputs": [],
   "source": []
  }
 ],
 "metadata": {
  "kernelspec": {
   "display_name": "Python 3",
   "language": "python",
   "name": "python3"
  },
  "language_info": {
   "codemirror_mode": {
    "name": "ipython",
    "version": 3
   },
   "file_extension": ".py",
   "mimetype": "text/x-python",
   "name": "python",
   "nbconvert_exporter": "python",
   "pygments_lexer": "ipython3",
   "version": "3.8.5"
  }
 },
 "nbformat": 4,
 "nbformat_minor": 4
}
